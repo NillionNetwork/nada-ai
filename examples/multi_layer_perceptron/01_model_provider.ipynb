{
 "cells": [
  {
   "cell_type": "markdown",
   "metadata": {},
   "source": [
    "# Multi-layer perceptron"
   ]
  },
  {
   "cell_type": "markdown",
   "metadata": {},
   "source": [
    "This demo shows MLP"
   ]
  },
  {
   "cell_type": "code",
   "execution_count": 1,
   "metadata": {},
   "outputs": [],
   "source": [
    "## If problems arise with the loading of the shared library, this script can be used to load the shared library before other libraries.\n",
    "## Remember to also run on your local machine the script below:\n",
    "# bash replace_lib_version.sh\n",
    "\n",
    "import platform\n",
    "import ctypes\n",
    "\n",
    "if platform.system() == \"Linux\":\n",
    "    # Force libgomp to be loaded before other libraries consuming dynamic TLS (to avoid running out of STATIC_TLS)\n",
    "    ctypes.cdll.LoadLibrary(\"libgomp.so.1\")\n",
    "    ctypes.cdll.LoadLibrary(\n",
    "        \"/home/vscode/.local/lib/python3.12/site-packages/py_nillion_client/py_nillion_client.abi3.so\"\n",
    "    )"
   ]
  },
  {
   "cell_type": "code",
   "execution_count": 2,
   "metadata": {},
   "outputs": [
    {
     "name": "stderr",
     "output_type": "stream",
     "text": [
      "/home/vscode/.local/lib/python3.12/site-packages/tqdm/auto.py:21: TqdmWarning: IProgress not found. Please update jupyter and ipywidgets. See https://ipywidgets.readthedocs.io/en/stable/user_install.html\n",
      "  from .autonotebook import tqdm as notebook_tqdm\n",
      "Importing plotly failed. Interactive plots will not work.\n"
     ]
    }
   ],
   "source": [
    "import json\n",
    "import os\n",
    "from typing import Dict\n",
    "\n",
    "import os\n",
    "import torch\n",
    "from torch import nn\n",
    "from torchvision import transforms\n",
    "import py_nillion_client as nillion\n",
    "from sklearn.metrics import (\n",
    "    confusion_matrix,\n",
    "    ConfusionMatrixDisplay,\n",
    "    precision_recall_fscore_support,\n",
    ")\n",
    "import matplotlib.pyplot as plt\n",
    "from PIL import Image\n",
    "import numpy as np\n",
    "\n",
    "from dotenv import load_dotenv\n",
    "\n",
    "# Using Nada AI model client\n",
    "from nada_ai.client import TorchClient\n",
    "import nada_algebra as na\n",
    "import py_nillion_client as nillion\n",
    "from nillion_python_helpers import (\n",
    "    create_nillion_client,\n",
    "    getUserKeyFromFile,\n",
    "    getNodeKeyFromFile,\n",
    ")"
   ]
  },
  {
   "cell_type": "markdown",
   "metadata": {},
   "source": [
    "### Train an Covid classification model\n",
    "\n",
    "Before this step you must install kaggle"
   ]
  },
  {
   "cell_type": "code",
   "execution_count": 3,
   "metadata": {},
   "outputs": [],
   "source": [
    "!kaggle datasets download mehradaria/covid19-lung-ct-scans -p data --unzip"
   ]
  },
  {
   "cell_type": "code",
   "execution_count": 4,
   "metadata": {},
   "outputs": [],
   "source": [
    "class CovidDataset(torch.utils.data.Dataset):\n",
    "    def __init__(self, root_dir: os.PathLike, transform) -> None:\n",
    "        self.root_dir = root_dir\n",
    "        self.transform = transform\n",
    "\n",
    "        self.classes = [\"Non-COVID-19\", \"COVID-19\"]\n",
    "\n",
    "        self.data = []\n",
    "        self.targets = []\n",
    "\n",
    "        for class_index, class_name in enumerate(self.classes):\n",
    "            class_dir = os.path.join(self.root_dir, class_name)\n",
    "            for filename in os.listdir(class_dir):\n",
    "                if filename.endswith(\".png\"):\n",
    "                    img_path = os.path.join(class_dir, filename)\n",
    "                    self.data.append(img_path)\n",
    "                    self.targets.append(class_index)\n",
    "\n",
    "    def __len__(self):\n",
    "        return len(self.data)\n",
    "\n",
    "    def __getitem__(self, index):\n",
    "        img_path = self.data[index]\n",
    "        label = self.targets[index]\n",
    "\n",
    "        img = Image.open(img_path).convert(\"RGB\")\n",
    "        img = self.transform(img)\n",
    "\n",
    "        return img, label"
   ]
  },
  {
   "cell_type": "code",
   "execution_count": 5,
   "metadata": {},
   "outputs": [],
   "source": [
    "# Create custom torch Module\n",
    "class MyNN(torch.nn.Module):\n",
    "    \"\"\"My simple neural net\"\"\"\n",
    "\n",
    "    def __init__(self) -> None:\n",
    "        \"\"\"Model is a two layers and an activations\"\"\"\n",
    "        super(MyNN, self).__init__()\n",
    "        self.conv1 = torch.nn.Conv2d(\n",
    "            in_channels=1, out_channels=2, kernel_size=3, stride=4, padding=1\n",
    "        )\n",
    "        self.pool = torch.nn.AvgPool2d(kernel_size=2, stride=2)\n",
    "\n",
    "        self.fc1 = torch.nn.Linear(in_features=8, out_features=2)\n",
    "\n",
    "        self.relu = torch.nn.ReLU()\n",
    "        self.flatten = torch.nn.Flatten()\n",
    "\n",
    "    def forward(self, x: np.ndarray) -> np.ndarray:\n",
    "        \"\"\"My forward pass logic\"\"\"\n",
    "        x = self.relu(self.conv1(x))\n",
    "        x = self.pool(x)\n",
    "        x = self.flatten(x)\n",
    "        x = self.fc1(x)\n",
    "        return x\n",
    "\n",
    "\n",
    "my_model = MyNN()"
   ]
  },
  {
   "cell_type": "code",
   "execution_count": 6,
   "metadata": {},
   "outputs": [],
   "source": [
    "dataset = CovidDataset(\n",
    "    os.path.join(\"data\", \"COVID-19_Lung_CT_Scans\"),\n",
    "    transform=transforms.Compose(\n",
    "        [\n",
    "            transforms.Grayscale(),\n",
    "            transforms.Resize((16, 16)),\n",
    "            transforms.ToTensor(),\n",
    "        ]\n",
    "    ),\n",
    ")\n",
    "trainset, testset = torch.utils.data.random_split(dataset, [0.8, 0.2])\n",
    "trainloader = torch.utils.data.DataLoader(trainset, batch_size=16, shuffle=True)\n",
    "testloader = torch.utils.data.DataLoader(testset, batch_size=16, shuffle=True)\n",
    "\n",
    "loss_function = nn.CrossEntropyLoss()\n",
    "optimizer = torch.optim.AdamW(my_model.parameters(), lr=1e-4)"
   ]
  },
  {
   "cell_type": "code",
   "execution_count": 7,
   "metadata": {},
   "outputs": [
    {
     "name": "stdout",
     "output_type": "stream",
     "text": [
      "Starting epoch 1...\n",
      "Loss after mini-batch   100: 0.506\n",
      "Accuracy after mini-batch   100: 87.312\n",
      "Loss after mini-batch   200: 0.489\n",
      "Accuracy after mini-batch   200: 87.812\n",
      "Loss after mini-batch   300: 0.459\n",
      "Accuracy after mini-batch   300: 89.875\n",
      "Loss after mini-batch   400: 0.463\n",
      "Accuracy after mini-batch   400: 87.688\n",
      "Starting epoch 2...\n",
      "Loss after mini-batch   100: 0.433\n",
      "Accuracy after mini-batch   100: 88.875\n",
      "Loss after mini-batch   200: 0.424\n",
      "Accuracy after mini-batch   200: 88.500\n",
      "Loss after mini-batch   300: 0.418\n",
      "Accuracy after mini-batch   300: 87.875\n",
      "Loss after mini-batch   400: 0.411\n",
      "Accuracy after mini-batch   400: 87.500\n",
      "Starting epoch 3...\n",
      "Loss after mini-batch   100: 0.384\n",
      "Accuracy after mini-batch   100: 88.938\n",
      "Loss after mini-batch   200: 0.373\n",
      "Accuracy after mini-batch   200: 88.938\n",
      "Loss after mini-batch   300: 0.382\n",
      "Accuracy after mini-batch   300: 87.875\n",
      "Loss after mini-batch   400: 0.386\n",
      "Accuracy after mini-batch   400: 87.250\n",
      "Starting epoch 4...\n",
      "Loss after mini-batch   100: 0.365\n",
      "Accuracy after mini-batch   100: 88.250\n",
      "Loss after mini-batch   200: 0.369\n",
      "Accuracy after mini-batch   200: 88.188\n",
      "Loss after mini-batch   300: 0.363\n",
      "Accuracy after mini-batch   300: 88.250\n",
      "Loss after mini-batch   400: 0.354\n",
      "Accuracy after mini-batch   400: 88.375\n",
      "Starting epoch 5...\n",
      "Loss after mini-batch   100: 0.345\n",
      "Accuracy after mini-batch   100: 88.875\n",
      "Loss after mini-batch   200: 0.369\n",
      "Accuracy after mini-batch   200: 87.625\n",
      "Loss after mini-batch   300: 0.353\n",
      "Accuracy after mini-batch   300: 88.625\n",
      "Loss after mini-batch   400: 0.365\n",
      "Accuracy after mini-batch   400: 87.688\n",
      "Starting epoch 6...\n",
      "Loss after mini-batch   100: 0.386\n",
      "Accuracy after mini-batch   100: 86.312\n",
      "Loss after mini-batch   200: 0.348\n",
      "Accuracy after mini-batch   200: 88.812\n",
      "Loss after mini-batch   300: 0.353\n",
      "Accuracy after mini-batch   300: 88.375\n",
      "Loss after mini-batch   400: 0.340\n",
      "Accuracy after mini-batch   400: 89.125\n",
      "Starting epoch 7...\n",
      "Loss after mini-batch   100: 0.378\n",
      "Accuracy after mini-batch   100: 87.125\n",
      "Loss after mini-batch   200: 0.337\n",
      "Accuracy after mini-batch   200: 89.375\n",
      "Loss after mini-batch   300: 0.353\n",
      "Accuracy after mini-batch   300: 88.000\n",
      "Loss after mini-batch   400: 0.356\n",
      "Accuracy after mini-batch   400: 88.188\n",
      "Starting epoch 8...\n",
      "Loss after mini-batch   100: 0.349\n",
      "Accuracy after mini-batch   100: 88.312\n",
      "Loss after mini-batch   200: 0.370\n",
      "Accuracy after mini-batch   200: 87.375\n",
      "Loss after mini-batch   300: 0.333\n",
      "Accuracy after mini-batch   300: 89.312\n",
      "Loss after mini-batch   400: 0.364\n",
      "Accuracy after mini-batch   400: 88.062\n",
      "Starting epoch 9...\n",
      "Loss after mini-batch   100: 0.340\n",
      "Accuracy after mini-batch   100: 88.875\n",
      "Loss after mini-batch   200: 0.346\n",
      "Accuracy after mini-batch   200: 88.875\n",
      "Loss after mini-batch   300: 0.356\n",
      "Accuracy after mini-batch   300: 88.062\n",
      "Loss after mini-batch   400: 0.375\n",
      "Accuracy after mini-batch   400: 87.250\n",
      "Starting epoch 10...\n",
      "Loss after mini-batch   100: 0.355\n",
      "Accuracy after mini-batch   100: 88.250\n",
      "Loss after mini-batch   200: 0.358\n",
      "Accuracy after mini-batch   200: 88.062\n",
      "Loss after mini-batch   300: 0.358\n",
      "Accuracy after mini-batch   300: 88.000\n",
      "Loss after mini-batch   400: 0.346\n",
      "Accuracy after mini-batch   400: 88.625\n"
     ]
    }
   ],
   "source": [
    "accuracies, losses = [], []\n",
    "for epoch in range(10):\n",
    "    print(f\"Starting epoch {epoch+1}...\")\n",
    "\n",
    "    incorrect, correct = 0, 0\n",
    "    current_loss = 0\n",
    "    for i, data in enumerate(trainloader):\n",
    "        inputs, targets = data\n",
    "\n",
    "        optimizer.zero_grad()\n",
    "\n",
    "        outputs = my_model(inputs)\n",
    "        loss = loss_function(outputs, targets)\n",
    "\n",
    "        preds = torch.argmax(outputs, axis=1)\n",
    "\n",
    "        correct += (preds == targets).float().sum()\n",
    "        incorrect += (preds != targets).float().sum()\n",
    "\n",
    "        loss.backward()\n",
    "        optimizer.step()\n",
    "\n",
    "        current_loss += loss.item()\n",
    "        if i % 100 == 99:\n",
    "            accuracy = 100 * correct / (incorrect + correct)\n",
    "            accuracies.append(accuracy)\n",
    "\n",
    "            print(\"Loss after mini-batch %5d: %.3f\" % (i + 1, current_loss / 100))\n",
    "            losses.append(current_loss / 100)\n",
    "            print(\"Accuracy after mini-batch %5d: %.3f\" % (i + 1, accuracy))\n",
    "\n",
    "            correct, incorrect = 0, 0\n",
    "            current_loss = 0"
   ]
  },
  {
   "cell_type": "code",
   "execution_count": 8,
   "metadata": {},
   "outputs": [
    {
     "data": {
      "text/plain": [
       "[<matplotlib.lines.Line2D at 0xffff3b3164e0>]"
      ]
     },
     "execution_count": 8,
     "metadata": {},
     "output_type": "execute_result"
    },
    {
     "data": {
      "image/png": "[encoded data removed]",
      "text/plain": [
       "<Figure size 640x480 with 1 Axes>"
      ]
     },
     "metadata": {},
     "output_type": "display_data"
    }
   ],
   "source": [
    "plt.plot(accuracies)"
   ]
  },
  {
   "cell_type": "code",
   "execution_count": 9,
   "metadata": {},
   "outputs": [
    {
     "data": {
      "text/plain": [
       "[<matplotlib.lines.Line2D at 0xffff3b38f830>]"
      ]
     },
     "execution_count": 9,
     "metadata": {},
     "output_type": "execute_result"
    },
    {
     "data": {
      "image/png": "[encoded data removed]",
      "text/plain": [
       "<Figure size 640x480 with 1 Axes>"
      ]
     },
     "metadata": {},
     "output_type": "display_data"
    }
   ],
   "source": [
    "plt.plot(losses)"
   ]
  },
  {
   "cell_type": "code",
   "execution_count": 10,
   "metadata": {},
   "outputs": [],
   "source": [
    "y_pred = []\n",
    "y_true = []\n",
    "for i, data in enumerate(testloader):\n",
    "    inputs, targets = data\n",
    "\n",
    "    outputs = my_model(inputs)\n",
    "    preds = torch.argmax(outputs, axis=1)\n",
    "\n",
    "    y_pred.extend(preds.tolist())\n",
    "    y_true.extend(targets.tolist())"
   ]
  },
  {
   "cell_type": "code",
   "execution_count": 11,
   "metadata": {},
   "outputs": [
    {
     "name": "stdout",
     "output_type": "stream",
     "text": [
      "precision: 91.286%\n",
      "recall: 100.000%\n",
      "f1: 95.445%\n",
      "support: 1540\n"
     ]
    },
    {
     "name": "stderr",
     "output_type": "stream",
     "text": [
      "/home/vscode/.local/lib/python3.12/site-packages/sklearn/metrics/_classification.py:1517: UndefinedMetricWarning: Precision is ill-defined and being set to 0.0 in labels with no predicted samples. Use `zero_division` parameter to control this behavior.\n",
      "  _warn_prf(average, modifier, f\"{metric.capitalize()} is\", len(result))\n"
     ]
    }
   ],
   "source": [
    "precision, recall, f1, support = precision_recall_fscore_support(y_true, y_pred)\n",
    "print(\"precision: {:.3f}%\".format(precision[1] * 100))\n",
    "print(\"recall: {:.3f}%\".format(recall[1] * 100))\n",
    "print(\"f1: {:.3f}%\".format(f1[1] * 100))\n",
    "print(\"support: {}\".format(support[1]))"
   ]
  },
  {
   "cell_type": "code",
   "execution_count": 12,
   "metadata": {},
   "outputs": [
    {
     "data": {
      "text/plain": [
       "<sklearn.metrics._plot.confusion_matrix.ConfusionMatrixDisplay at 0xffff3c01dd30>"
      ]
     },
     "execution_count": 12,
     "metadata": {},
     "output_type": "execute_result"
    },
    {
     "data": {
      "image/png": "[encoded data removed]",
      "text/plain": [
       "<Figure size 640x480 with 2 Axes>"
      ]
     },
     "metadata": {},
     "output_type": "display_data"
    }
   ],
   "source": [
    "disp = ConfusionMatrixDisplay(confusion_matrix(y_true, y_pred))\n",
    "disp.plot()"
   ]
  },
  {
   "cell_type": "markdown",
   "metadata": {},
   "source": [
    "## Model Provider flow"
   ]
  },
  {
   "cell_type": "markdown",
   "metadata": {},
   "source": [
    "### Authenticate with Nillion"
   ]
  },
  {
   "cell_type": "markdown",
   "metadata": {},
   "source": [
    "To connect to the Nillion network, we need to have a user key and a node key. These serve different purposes:\n",
    "\n",
    "The `user_key` is the user's private key. The user key should never be shared publicly, as it unlocks access and permissions to secrets stored on the network.\n",
    "\n",
    "The `node_key` is the node's private key which is run locally to connect to the network."
   ]
  },
  {
   "cell_type": "code",
   "execution_count": 13,
   "metadata": {},
   "outputs": [
    {
     "data": {
      "text/plain": [
       "True"
      ]
     },
     "execution_count": 13,
     "metadata": {},
     "output_type": "execute_result"
    }
   ],
   "source": [
    "# Load all Nillion network environment variables\n",
    "assert os.getcwd().endswith(\n",
    "    \"examples/multi_layer_perceptron\"\n",
    "), \"Please run this script from the examples/multi_layer_perceptron directory otherwise, the rest of the tutorial may not work\"\n",
    "load_dotenv()"
   ]
  },
  {
   "cell_type": "code",
   "execution_count": 14,
   "metadata": {},
   "outputs": [
    {
     "name": "stdout",
     "output_type": "stream",
     "text": [
      "/tmp/tmpsl1rnkrg\n"
     ]
    }
   ],
   "source": [
    "cluster_id = os.getenv(\"NILLION_CLUSTER_ID\")\n",
    "print(os.getenv(\"NILLION_USERKEY_PATH_PARTY_1\"))\n",
    "model_provider_userkey = getUserKeyFromFile(os.getenv(\"NILLION_USERKEY_PATH_PARTY_1\"))\n",
    "model_provider_nodekey = getNodeKeyFromFile(os.getenv(\"NILLION_NODEKEY_PATH_PARTY_1\"))\n",
    "model_provider_client = create_nillion_client(\n",
    "    model_provider_userkey, model_provider_nodekey\n",
    ")\n",
    "model_provider_party_id = model_provider_client.party_id\n",
    "model_provider_user_id = model_provider_client.user_id"
   ]
  },
  {
   "cell_type": "code",
   "execution_count": 15,
   "metadata": {},
   "outputs": [],
   "source": [
    "model_user_userkey = getUserKeyFromFile(os.getenv(\"NILLION_USERKEY_PATH_PARTY_2\"))\n",
    "model_user_nodekey = getNodeKeyFromFile(os.getenv(\"NILLION_NODEKEY_PATH_PARTY_2\"))\n",
    "model_user_client = create_nillion_client(model_user_userkey, model_user_nodekey)\n",
    "model_user_party_id = model_user_client.party_id\n",
    "model_user_user_id = create_nillion_client(\n",
    "    model_user_userkey, model_user_nodekey\n",
    ").user_id"
   ]
  },
  {
   "cell_type": "markdown",
   "metadata": {},
   "source": [
    "### Upload Nada program to Nillion"
   ]
  },
  {
   "cell_type": "markdown",
   "metadata": {},
   "source": [
    "TODO: explain what the Nada program does"
   ]
  },
  {
   "cell_type": "code",
   "execution_count": 16,
   "metadata": {},
   "outputs": [],
   "source": [
    "async def store_program(\n",
    "    *,\n",
    "    client: nillion.NillionClient,\n",
    "    cluster_id: str,\n",
    "    user_id: str,\n",
    "    nada_program_path: str,\n",
    ") -> Dict[str, str]:\n",
    "    \"\"\"Stores Nada program binary in Nillion network.\n",
    "\n",
    "    Args:\n",
    "        client (nillion.NillionClient): Client that will upload Nada program.\n",
    "        cluster_id (str): Nillion cluster ID.\n",
    "        user_id (str): User ID of user that will upload Nada program.\n",
    "        nada_program_path (str): Path to Nada program binary.\n",
    "\n",
    "    Returns:\n",
    "        Dict[str, str]: Resulting `action_id` and `program_id`.\n",
    "    \"\"\"\n",
    "    action_id = await client.store_program(cluster_id, \"main\", nada_program_path)\n",
    "    program_id = f\"{user_id}/main\"\n",
    "\n",
    "    return {\n",
    "        \"action_id\": action_id,\n",
    "        \"program_id\": program_id,\n",
    "    }"
   ]
  },
  {
   "cell_type": "code",
   "execution_count": 17,
   "metadata": {},
   "outputs": [
    {
     "name": "stdout",
     "output_type": "stream",
     "text": [
      "✅ Program saved successfully!\n",
      "action_id: 880b4727-3763-4435-90ce-d5a66c5693f4\n",
      "program_id: 5GnDBJ4brQtS7U3YsUdweoKUfbN7t9CNDaZ7AnVLarwWcRNfQUwr1Ct2aTQsMhhvjb1xeYPfiKAahMz7i5D85ZUd/main\n"
     ]
    }
   ],
   "source": [
    "result_store_program = await store_program(\n",
    "    client=model_provider_client,\n",
    "    cluster_id=cluster_id,\n",
    "    user_id=model_provider_user_id,\n",
    "    nada_program_path=\"target/main.nada.bin\",\n",
    ")\n",
    "\n",
    "action_id = result_store_program[\"action_id\"]\n",
    "program_id = result_store_program[\"program_id\"]\n",
    "\n",
    "print(\"✅ Program saved successfully!\")\n",
    "print(\"action_id:\", action_id)\n",
    "print(\"program_id:\", program_id)"
   ]
  },
  {
   "cell_type": "markdown",
   "metadata": {},
   "source": [
    "### Upload weights to Nillion network"
   ]
  },
  {
   "cell_type": "code",
   "execution_count": 18,
   "metadata": {},
   "outputs": [],
   "source": [
    "# Create and store model secrets via ModelClient\n",
    "model_client = TorchClient(my_model)"
   ]
  },
  {
   "cell_type": "code",
   "execution_count": 19,
   "metadata": {},
   "outputs": [],
   "source": [
    "async def store_model(\n",
    "    *,\n",
    "    model_client: TorchClient,\n",
    "    client: nillion.NillionClient,\n",
    "    cluster_id: str,\n",
    "    program_id: str,\n",
    "    party_id: str,\n",
    "    model_user_user_id: str,\n",
    "    model_provider_user_id: str,\n",
    ") -> Dict[str, str]:\n",
    "    \"\"\"Stores model params in Nillion network.\n",
    "\n",
    "    Args:\n",
    "        model (MyModel): Model object to store in network.\n",
    "        client (nillion.NillionClient): Nillion client that stores model params.\n",
    "        cluster_id (str): Nillion cluster ID.\n",
    "        program_id (str): Program ID of Nada program.\n",
    "        party_id (str): Party ID of party that will store model params.\n",
    "        model_user_user_id (str): User ID of user that will get compute permissions.\n",
    "        model_provider_user_id (str): User ID of user that will provide model params.\n",
    "        precision (int): Desired precision.\n",
    "\n",
    "    Returns:\n",
    "        Dict[str, str]: Resulting `provider_party_id` and `model_store_id`.\n",
    "    \"\"\"\n",
    "\n",
    "    model_secrets = nillion.Secrets(\n",
    "        model_client.export_state_as_secrets(\"my_nn\", na.SecretRational)\n",
    "    )\n",
    "\n",
    "    secret_bindings = nillion.ProgramBindings(program_id)\n",
    "    secret_bindings.add_input_party(\"Party0\", party_id)\n",
    "\n",
    "    permissions = nillion.Permissions.default_for_user(model_provider_user_id)\n",
    "    compute_permissions = {\n",
    "        model_user_user_id: {program_id},\n",
    "    }\n",
    "    # Give permission to model user to run inference\n",
    "    permissions.add_compute_permissions(compute_permissions)\n",
    "\n",
    "    store_id = await client.store_secrets(\n",
    "        cluster_id, secret_bindings, model_secrets, permissions\n",
    "    )\n",
    "\n",
    "    return {\n",
    "        \"provider_party_id\": party_id,\n",
    "        \"model_store_id\": store_id,\n",
    "    }"
   ]
  },
  {
   "cell_type": "code",
   "execution_count": 20,
   "metadata": {},
   "outputs": [
    {
     "name": "stdout",
     "output_type": "stream",
     "text": [
      "✅ Model params uploaded successfully!\n",
      "provider_party_id: 12D3KooWQLbKxRFoa3rcA8do1R2o96yhgxGnJS5RbTr3ZJwQiQay\n",
      "model_store_id: d6002305-15f9-4e76-b5aa-510560f89e75\n"
     ]
    }
   ],
   "source": [
    "result_store_model = await store_model(\n",
    "    model_client=model_client,\n",
    "    client=model_provider_client,\n",
    "    cluster_id=cluster_id,\n",
    "    program_id=program_id,\n",
    "    party_id=model_provider_party_id,\n",
    "    model_user_user_id=model_user_user_id,\n",
    "    model_provider_user_id=model_provider_user_id,\n",
    ")\n",
    "\n",
    "provider_party_id = result_store_model[\"provider_party_id\"]\n",
    "model_store_id = result_store_model[\"model_store_id\"]\n",
    "\n",
    "print(\"✅ Model params uploaded successfully!\")\n",
    "print(\"provider_party_id:\", provider_party_id)\n",
    "print(\"model_store_id:\", model_store_id)"
   ]
  },
  {
   "cell_type": "code",
   "execution_count": 21,
   "metadata": {},
   "outputs": [],
   "source": [
    "# This information is needed by the model user\n",
    "with open(\"data/tmp.json\", \"w\") as provider_variables_file:\n",
    "    provider_variables = {\n",
    "        \"program_id\": program_id,\n",
    "        \"model_store_id\": model_store_id,\n",
    "        \"model_provider_party_id\": model_provider_party_id,\n",
    "    }\n",
    "    json.dump(provider_variables, provider_variables_file)"
   ]
  },
  {
   "cell_type": "code",
   "execution_count": 22,
   "metadata": {},
   "outputs": [],
   "source": [
    "torch.save(my_model.state_dict(), \"./data/my_model.pt\")"
   ]
  }
 ],
 "metadata": {
  "kernelspec": {
   "display_name": "Python 3",
   "language": "python",
   "name": "python3"
  },
  "language_info": {
   "codemirror_mode": {
    "name": "ipython",
    "version": 3
   },
   "file_extension": ".py",
   "mimetype": "text/x-python",
   "name": "python",
   "nbconvert_exporter": "python",
   "pygments_lexer": "ipython3",
   "version": "3.12.3"
  }
 },
 "nbformat": 4,
 "nbformat_minor": 2
}
