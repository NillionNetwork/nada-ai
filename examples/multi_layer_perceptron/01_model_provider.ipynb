{
 "cells": [
  {
   "cell_type": "markdown",
   "metadata": {},
   "source": [
    "# Multi-layer perceptron"
   ]
  },
  {
   "cell_type": "code",
   "execution_count": 1,
   "metadata": {},
   "outputs": [],
   "source": [
    "## If problems arise with the loading of the shared library, this script can be used to load the shared library before other libraries.\n",
    "## Remember to also run on your local machine the script below:\n",
    "# bash replace_lib_version.sh\n",
    "\n",
    "import platform\n",
    "import ctypes\n",
    "\n",
    "if platform.system() == \"Linux\":\n",
    "    # Force libgomp to be loaded before other libraries consuming dynamic TLS (to avoid running out of STATIC_TLS)\n",
    "    ctypes.cdll.LoadLibrary(\"libgomp.so.1\")\n",
    "    ctypes.cdll.LoadLibrary(\n",
    "        \"/home/vscode/.local/lib/python3.12/site-packages/py_nillion_client/py_nillion_client.abi3.so\"\n",
    "    )"
   ]
  },
  {
   "cell_type": "code",
   "execution_count": 2,
   "metadata": {},
   "outputs": [
    {
     "name": "stderr",
     "output_type": "stream",
     "text": [
      "/Users/mathiasleys/projects/venv/lib/python3.12/site-packages/tqdm/auto.py:21: TqdmWarning: IProgress not found. Please update jupyter and ipywidgets. See https://ipywidgets.readthedocs.io/en/stable/user_install.html\n",
      "  from .autonotebook import tqdm as notebook_tqdm\n"
     ]
    },
    {
     "data": {
      "text/plain": [
       "True"
      ]
     },
     "execution_count": 2,
     "metadata": {},
     "output_type": "execute_result"
    }
   ],
   "source": [
    "import os\n",
    "import sys\n",
    "\n",
    "sys.path.append(os.path.abspath(os.path.join(os.getcwd(), os.pardir)))\n",
    "\n",
    "import json\n",
    "import nada_numpy as na\n",
    "import numpy as np\n",
    "import py_nillion_client as nillion\n",
    "import torch\n",
    "from common.utils import store_program, store_secrets\n",
    "from cosmpy.aerial.client import LedgerClient\n",
    "from cosmpy.aerial.wallet import LocalWallet\n",
    "from cosmpy.crypto.keypairs import PrivateKey\n",
    "from dotenv import load_dotenv\n",
    "from nada_ai.client import TorchClient\n",
    "from nillion_python_helpers import (create_nillion_client,\n",
    "                                    create_payments_config)\n",
    "from py_nillion_client import NodeKey, UserKey\n",
    "\n",
    "from torch import nn\n",
    "from torchvision import transforms\n",
    "from sklearn.metrics import (\n",
    "    confusion_matrix,\n",
    "    ConfusionMatrixDisplay,\n",
    "    precision_recall_fscore_support,\n",
    ")\n",
    "import matplotlib.pyplot as plt\n",
    "from PIL import Image\n",
    "import numpy as np\n",
    "\n",
    "home = os.getenv(\"HOME\")\n",
    "load_dotenv(f\"{home}/.config/nillion/nillion-devnet.env\")"
   ]
  },
  {
   "cell_type": "markdown",
   "metadata": {},
   "source": [
    "### Train a Covid image classification model on CT scans\n",
    "\n",
    "Before this step you must install kaggle"
   ]
  },
  {
   "cell_type": "code",
   "execution_count": 3,
   "metadata": {},
   "outputs": [
    {
     "name": "stdout",
     "output_type": "stream",
     "text": [
      "Warning: Looks like you're using an outdated API Version, please consider updating (server 1.6.14 / client 1.6.12)\n",
      "Dataset URL: https://www.kaggle.com/datasets/mehradaria/covid19-lung-ct-scans\n",
      "License(s): Attribution-NonCommercial-NoDerivatives 4.0 International (CC BY-NC-ND 4.0)\n",
      "Downloading covid19-lung-ct-scans.zip to data\n",
      "... resuming from 846200832 bytes (252214311 bytes left) ...\n",
      "100%|█████████████████████████████████████▉| 1.02G/1.02G [00:31<00:00, 9.06MB/s]\n",
      "100%|██████████████████████████████████████| 1.02G/1.02G [00:31<00:00, 8.05MB/s]\n"
     ]
    }
   ],
   "source": [
    "!kaggle datasets download mehradaria/covid19-lung-ct-scans -p data --unzip"
   ]
  },
  {
   "cell_type": "code",
   "execution_count": 4,
   "metadata": {},
   "outputs": [],
   "source": [
    "class CovidDataset(torch.utils.data.Dataset):\n",
    "    def __init__(self, root_dir: os.PathLike, transform) -> None:\n",
    "        self.root_dir = root_dir\n",
    "        self.transform = transform\n",
    "\n",
    "        self.classes = [\"Non-COVID-19\", \"COVID-19\"]\n",
    "\n",
    "        self.data = []\n",
    "        self.targets = []\n",
    "\n",
    "        for class_index, class_name in enumerate(self.classes):\n",
    "            class_dir = os.path.join(self.root_dir, class_name)\n",
    "            for filename in os.listdir(class_dir):\n",
    "                if filename.endswith(\".png\"):\n",
    "                    img_path = os.path.join(class_dir, filename)\n",
    "                    self.data.append(img_path)\n",
    "                    self.targets.append(class_index)\n",
    "\n",
    "    def __len__(self):\n",
    "        return len(self.data)\n",
    "\n",
    "    def __getitem__(self, index):\n",
    "        img_path = self.data[index]\n",
    "        label = self.targets[index]\n",
    "\n",
    "        img = Image.open(img_path).convert(\"RGB\")\n",
    "        img = self.transform(img)\n",
    "\n",
    "        return img, label"
   ]
  },
  {
   "cell_type": "code",
   "execution_count": 5,
   "metadata": {},
   "outputs": [],
   "source": [
    "# Create custom torch Module\n",
    "class MyNN(nn.Module):\n",
    "    \"\"\"My brand new model\"\"\"\n",
    "\n",
    "    def __init__(self) -> None:\n",
    "        \"\"\"Model is a two layers and an activations\"\"\"\n",
    "        super().__init__()\n",
    "        self.conv1 = nn.Conv2d(\n",
    "            in_channels=1, out_channels=2, kernel_size=3, padding=1, stride=3\n",
    "        )\n",
    "        self.pool = nn.AvgPool2d(kernel_size=2, stride=2)\n",
    "        self.fc1 = nn.Linear(in_features=18, out_features=2)\n",
    "\n",
    "        self.relu = nn.ReLU()\n",
    "        self.flatten = nn.Flatten()\n",
    "\n",
    "    def forward(self, x: na.NadaArray) -> na.NadaArray:\n",
    "        \"\"\"My forward pass logic\"\"\"\n",
    "        x = self.relu(self.conv1(x))\n",
    "        x = self.pool(x)\n",
    "        x = self.flatten(x)\n",
    "        x = self.fc1(x)\n",
    "        return x\n",
    "\n",
    "my_model = MyNN()"
   ]
  },
  {
   "cell_type": "code",
   "execution_count": 6,
   "metadata": {},
   "outputs": [],
   "source": [
    "dataset = CovidDataset(\n",
    "    os.path.join(\"data\", \"COVID-19_Lung_CT_Scans\"),\n",
    "    transform=transforms.Compose(\n",
    "        [\n",
    "            transforms.Grayscale(),\n",
    "            transforms.Resize((16, 16)),\n",
    "            transforms.ToTensor(),\n",
    "        ]\n",
    "    ),\n",
    ")\n",
    "trainset, testset = torch.utils.data.random_split(dataset, [0.8, 0.2])\n",
    "trainloader = torch.utils.data.DataLoader(trainset, batch_size=16, shuffle=True)\n",
    "testloader = torch.utils.data.DataLoader(testset, batch_size=16, shuffle=True)\n",
    "\n",
    "loss_function = nn.CrossEntropyLoss()\n",
    "optimizer = torch.optim.AdamW(my_model.parameters(), lr=1e-4)"
   ]
  },
  {
   "cell_type": "code",
   "execution_count": 7,
   "metadata": {},
   "outputs": [
    {
     "name": "stdout",
     "output_type": "stream",
     "text": [
      "Starting epoch 1...\n",
      "Loss after mini-batch   100: 0.692\n",
      "Accuracy after mini-batch   100: 56.812\n",
      "Loss after mini-batch   200: 0.671\n",
      "Accuracy after mini-batch   200: 89.125\n",
      "Loss after mini-batch   300: 0.649\n",
      "Accuracy after mini-batch   300: 87.812\n",
      "Loss after mini-batch   400: 0.617\n",
      "Accuracy after mini-batch   400: 89.062\n",
      "Starting epoch 2...\n",
      "Loss after mini-batch   100: 0.579\n",
      "Accuracy after mini-batch   100: 87.375\n",
      "Loss after mini-batch   200: 0.531\n",
      "Accuracy after mini-batch   200: 89.562\n",
      "Loss after mini-batch   300: 0.500\n",
      "Accuracy after mini-batch   300: 87.750\n",
      "Loss after mini-batch   400: 0.462\n",
      "Accuracy after mini-batch   400: 88.812\n",
      "Starting epoch 3...\n",
      "Loss after mini-batch   100: 0.437\n",
      "Accuracy after mini-batch   100: 87.250\n",
      "Loss after mini-batch   200: 0.404\n",
      "Accuracy after mini-batch   200: 88.375\n",
      "Loss after mini-batch   300: 0.389\n",
      "Accuracy after mini-batch   300: 88.875\n",
      "Loss after mini-batch   400: 0.350\n",
      "Accuracy after mini-batch   400: 89.875\n",
      "Starting epoch 4...\n",
      "Loss after mini-batch   100: 0.347\n",
      "Accuracy after mini-batch   100: 89.500\n",
      "Loss after mini-batch   200: 0.371\n",
      "Accuracy after mini-batch   200: 88.000\n",
      "Loss after mini-batch   300: 0.357\n",
      "Accuracy after mini-batch   300: 88.688\n",
      "Loss after mini-batch   400: 0.381\n",
      "Accuracy after mini-batch   400: 87.875\n",
      "Starting epoch 5...\n",
      "Loss after mini-batch   100: 0.360\n",
      "Accuracy after mini-batch   100: 88.625\n",
      "Loss after mini-batch   200: 0.365\n",
      "Accuracy after mini-batch   200: 87.938\n",
      "Loss after mini-batch   300: 0.363\n",
      "Accuracy after mini-batch   300: 88.562\n",
      "Loss after mini-batch   400: 0.332\n",
      "Accuracy after mini-batch   400: 89.812\n",
      "Starting epoch 6...\n",
      "Loss after mini-batch   100: 0.343\n",
      "Accuracy after mini-batch   100: 89.312\n",
      "Loss after mini-batch   200: 0.362\n",
      "Accuracy after mini-batch   200: 88.250\n",
      "Loss after mini-batch   300: 0.358\n",
      "Accuracy after mini-batch   300: 88.438\n",
      "Loss after mini-batch   400: 0.362\n",
      "Accuracy after mini-batch   400: 88.438\n",
      "Starting epoch 7...\n",
      "Loss after mini-batch   100: 0.352\n",
      "Accuracy after mini-batch   100: 88.875\n",
      "Loss after mini-batch   200: 0.348\n",
      "Accuracy after mini-batch   200: 89.000\n",
      "Loss after mini-batch   300: 0.357\n",
      "Accuracy after mini-batch   300: 88.312\n",
      "Loss after mini-batch   400: 0.345\n",
      "Accuracy after mini-batch   400: 89.000\n",
      "Starting epoch 8...\n",
      "Loss after mini-batch   100: 0.342\n",
      "Accuracy after mini-batch   100: 89.188\n",
      "Loss after mini-batch   200: 0.366\n",
      "Accuracy after mini-batch   200: 87.938\n",
      "Loss after mini-batch   300: 0.357\n",
      "Accuracy after mini-batch   300: 88.562\n",
      "Loss after mini-batch   400: 0.343\n",
      "Accuracy after mini-batch   400: 88.812\n",
      "Starting epoch 9...\n",
      "Loss after mini-batch   100: 0.334\n",
      "Accuracy after mini-batch   100: 89.875\n",
      "Loss after mini-batch   200: 0.364\n",
      "Accuracy after mini-batch   200: 87.938\n",
      "Loss after mini-batch   300: 0.363\n",
      "Accuracy after mini-batch   300: 87.812\n",
      "Loss after mini-batch   400: 0.343\n",
      "Accuracy after mini-batch   400: 88.938\n",
      "Starting epoch 10...\n",
      "Loss after mini-batch   100: 0.336\n",
      "Accuracy after mini-batch   100: 89.812\n",
      "Loss after mini-batch   200: 0.351\n",
      "Accuracy after mini-batch   200: 88.312\n",
      "Loss after mini-batch   300: 0.361\n",
      "Accuracy after mini-batch   300: 88.000\n",
      "Loss after mini-batch   400: 0.355\n",
      "Accuracy after mini-batch   400: 88.375\n"
     ]
    }
   ],
   "source": [
    "accuracies, losses = [], []\n",
    "for epoch in range(10):\n",
    "    print(f\"Starting epoch {epoch+1}...\")\n",
    "\n",
    "    incorrect, correct = 0, 0\n",
    "    current_loss = 0\n",
    "    for i, data in enumerate(trainloader):\n",
    "        inputs, targets = data\n",
    "\n",
    "        optimizer.zero_grad()\n",
    "\n",
    "        outputs = my_model(inputs)\n",
    "        loss = loss_function(outputs, targets)\n",
    "\n",
    "        preds = torch.argmax(outputs, axis=1)\n",
    "\n",
    "        correct += (preds == targets).float().sum()\n",
    "        incorrect += (preds != targets).float().sum()\n",
    "\n",
    "        loss.backward()\n",
    "        optimizer.step()\n",
    "\n",
    "        current_loss += loss.item()\n",
    "        if i % 100 == 99:\n",
    "            accuracy = 100 * correct / (incorrect + correct)\n",
    "            accuracies.append(accuracy)\n",
    "\n",
    "            print(\"Loss after mini-batch %5d: %.3f\" % (i + 1, current_loss / 100))\n",
    "            losses.append(current_loss / 100)\n",
    "            print(\"Accuracy after mini-batch %5d: %.3f\" % (i + 1, accuracy))\n",
    "\n",
    "            correct, incorrect = 0, 0\n",
    "            current_loss = 0"
   ]
  },
  {
   "cell_type": "code",
   "execution_count": 8,
   "metadata": {},
   "outputs": [
    {
     "data": {
      "text/plain": [
       "[<matplotlib.lines.Line2D at 0x336e152e0>]"
      ]
     },
     "execution_count": 8,
     "metadata": {},
     "output_type": "execute_result"
    },
    {
     "data": {
      "image/png": "[encoded data removed]",
      "text/plain": [
       "<Figure size 640x480 with 1 Axes>"
      ]
     },
     "metadata": {},
     "output_type": "display_data"
    }
   ],
   "source": [
    "plt.plot(accuracies)"
   ]
  },
  {
   "cell_type": "code",
   "execution_count": 9,
   "metadata": {},
   "outputs": [
    {
     "data": {
      "text/plain": [
       "[<matplotlib.lines.Line2D at 0x336e8dc10>]"
      ]
     },
     "execution_count": 9,
     "metadata": {},
     "output_type": "execute_result"
    },
    {
     "data": {
      "image/png": "[encoded data removed]",
      "text/plain": [
       "<Figure size 640x480 with 1 Axes>"
      ]
     },
     "metadata": {},
     "output_type": "display_data"
    }
   ],
   "source": [
    "plt.plot(losses)"
   ]
  },
  {
   "cell_type": "code",
   "execution_count": 10,
   "metadata": {},
   "outputs": [],
   "source": [
    "y_pred = []\n",
    "y_true = []\n",
    "for i, data in enumerate(testloader):\n",
    "    inputs, targets = data\n",
    "\n",
    "    outputs = my_model(inputs)\n",
    "    preds = torch.argmax(outputs, axis=1)\n",
    "\n",
    "    y_pred.extend(preds.tolist())\n",
    "    y_true.extend(targets.tolist())"
   ]
  },
  {
   "cell_type": "code",
   "execution_count": 11,
   "metadata": {},
   "outputs": [
    {
     "name": "stdout",
     "output_type": "stream",
     "text": [
      "precision: 89.686%\n",
      "recall: 100.000%\n",
      "f1: 94.562%\n",
      "support: 1513\n"
     ]
    },
    {
     "name": "stderr",
     "output_type": "stream",
     "text": [
      "/Users/mathiasleys/projects/venv/lib/python3.12/site-packages/sklearn/metrics/_classification.py:1517: UndefinedMetricWarning: Precision is ill-defined and being set to 0.0 in labels with no predicted samples. Use `zero_division` parameter to control this behavior.\n",
      "  _warn_prf(average, modifier, f\"{metric.capitalize()} is\", len(result))\n"
     ]
    }
   ],
   "source": [
    "precision, recall, f1, support = precision_recall_fscore_support(y_true, y_pred)\n",
    "print(\"precision: {:.3f}%\".format(precision[1] * 100))\n",
    "print(\"recall: {:.3f}%\".format(recall[1] * 100))\n",
    "print(\"f1: {:.3f}%\".format(f1[1] * 100))\n",
    "print(\"support: {}\".format(support[1]))"
   ]
  },
  {
   "cell_type": "code",
   "execution_count": 12,
   "metadata": {},
   "outputs": [
    {
     "data": {
      "text/plain": [
       "<sklearn.metrics._plot.confusion_matrix.ConfusionMatrixDisplay at 0x11a4acad0>"
      ]
     },
     "execution_count": 12,
     "metadata": {},
     "output_type": "execute_result"
    },
    {
     "data": {
      "image/png": "[encoded data removed]",
      "text/plain": [
       "<Figure size 640x480 with 2 Axes>"
      ]
     },
     "metadata": {},
     "output_type": "display_data"
    }
   ],
   "source": [
    "disp = ConfusionMatrixDisplay(confusion_matrix(y_true, y_pred))\n",
    "disp.plot()"
   ]
  },
  {
   "cell_type": "markdown",
   "metadata": {},
   "source": [
    "## Model Provider flow"
   ]
  },
  {
   "cell_type": "markdown",
   "metadata": {},
   "source": [
    "### Authenticate with Nillion"
   ]
  },
  {
   "cell_type": "markdown",
   "metadata": {},
   "source": [
    "To connect to the Nillion network, we need to have a user key and a node key. These serve different purposes:\n",
    "\n",
    "The `user_key` is the user's private key. The user key should never be shared publicly, as it unlocks access and permissions to secrets stored on the network.\n",
    "\n",
    "The `node_key` is the node's private key which is run locally to connect to the network."
   ]
  },
  {
   "cell_type": "code",
   "execution_count": 13,
   "metadata": {},
   "outputs": [
    {
     "data": {
      "text/plain": [
       "True"
      ]
     },
     "execution_count": 13,
     "metadata": {},
     "output_type": "execute_result"
    }
   ],
   "source": [
    "# Load all Nillion network environment variables\n",
    "assert os.getcwd().endswith(\n",
    "    \"examples/multi_layer_perceptron\"\n",
    "), \"Please run this script from the examples/multi_layer_perceptron directory otherwise, the rest of the tutorial may not work\"\n",
    "load_dotenv()"
   ]
  },
  {
   "cell_type": "code",
   "execution_count": 14,
   "metadata": {},
   "outputs": [],
   "source": [
    "cluster_id = os.getenv(\"NILLION_CLUSTER_ID\")\n",
    "grpc_endpoint = os.getenv(\"NILLION_NILCHAIN_GRPC\")\n",
    "chain_id = os.getenv(\"NILLION_NILCHAIN_CHAIN_ID\")\n",
    "seed = \"my_seed\"\n",
    "model_provider_userkey = UserKey.from_seed((seed))\n",
    "model_provider_nodekey = NodeKey.from_seed((seed))\n",
    "model_provider_client = create_nillion_client(model_provider_userkey, model_provider_nodekey)\n",
    "model_provider_party_id = model_provider_client.party_id\n",
    "model_provider_user_id = model_provider_client.user_id"
   ]
  },
  {
   "cell_type": "code",
   "execution_count": 15,
   "metadata": {},
   "outputs": [],
   "source": [
    "party_names = [\"Provider\", \"User\"]\n",
    "program_name = \"multi_layer_perceptron\"\n",
    "program_mir_path = f\"target/{program_name}.nada.bin\""
   ]
  },
  {
   "cell_type": "code",
   "execution_count": 16,
   "metadata": {},
   "outputs": [],
   "source": [
    "payments_config = create_payments_config(chain_id, grpc_endpoint)\n",
    "payments_client = LedgerClient(payments_config)\n",
    "payments_wallet = LocalWallet(\n",
    "    PrivateKey(bytes.fromhex(os.getenv(\"NILLION_NILCHAIN_PRIVATE_KEY_0\"))),\n",
    "    prefix=\"nillion\",\n",
    ")"
   ]
  },
  {
   "cell_type": "markdown",
   "metadata": {},
   "source": [
    "### Upload Nada program to Nillion"
   ]
  },
  {
   "cell_type": "markdown",
   "metadata": {},
   "source": [
    "TODO: explain what the Nada program does"
   ]
  },
  {
   "cell_type": "code",
   "execution_count": 17,
   "metadata": {},
   "outputs": [
    {
     "name": "stdout",
     "output_type": "stream",
     "text": [
      "Getting quote for operation...\n",
      "Submitting payment receipt 2 unil, tx hash 32054F2BE5EED437390CDF7A782C6659B8F0C178A398CCF346178E2827C554DB\n",
      "Stored program. action_id: 3rgqxWd47e171EUwe4RXP9hm45tmoXfuF8fC52S7jcFoQTnU8wPiL7hqWzyV1muak6bEg7iWhudwg4t2pM9XnXcp/multi_layer_perceptron\n",
      "Stored program_id: 3rgqxWd47e171EUwe4RXP9hm45tmoXfuF8fC52S7jcFoQTnU8wPiL7hqWzyV1muak6bEg7iWhudwg4t2pM9XnXcp/multi_layer_perceptron\n"
     ]
    }
   ],
   "source": [
    "program_id = await store_program(\n",
    "    model_provider_client,\n",
    "    payments_wallet,\n",
    "    payments_client,\n",
    "    model_provider_user_id,\n",
    "    cluster_id,\n",
    "    program_name,\n",
    "    program_mir_path,\n",
    ")"
   ]
  },
  {
   "cell_type": "markdown",
   "metadata": {},
   "source": [
    "### Upload weights to Nillion network"
   ]
  },
  {
   "cell_type": "code",
   "execution_count": 18,
   "metadata": {},
   "outputs": [],
   "source": [
    "# Create and store model secrets via ModelClient\n",
    "model_client = TorchClient(my_model)"
   ]
  },
  {
   "cell_type": "code",
   "execution_count": 19,
   "metadata": {},
   "outputs": [
    {
     "name": "stdout",
     "output_type": "stream",
     "text": [
      "Getting quote for operation...\n",
      "Quote cost is 5570 unil\n",
      "Submitting payment receipt 5570 unil, tx hash 6A9CB2D7060BE85272B383A6F23E71D34B10B87D27F21173004990831868683A\n"
     ]
    }
   ],
   "source": [
    "model_secrets = nillion.NadaValues(\n",
    "    model_client.export_state_as_secrets(\"my_nn\", na.SecretRational)\n",
    ")\n",
    "permissions = nillion.Permissions.default_for_user(model_provider_client.user_id)\n",
    "permissions.add_compute_permissions({model_provider_client.user_id: {program_id}})\n",
    "\n",
    "model_store_id = await store_secrets(\n",
    "    model_provider_client,\n",
    "    payments_wallet,\n",
    "    payments_client,\n",
    "    cluster_id,\n",
    "    model_secrets,\n",
    "    1,\n",
    "    permissions,\n",
    ")"
   ]
  },
  {
   "cell_type": "code",
   "execution_count": 20,
   "metadata": {},
   "outputs": [],
   "source": [
    "# This information is needed by the model user\n",
    "with open(\"data/tmp.json\", \"w\") as provider_variables_file:\n",
    "    provider_variables = {\n",
    "        \"program_id\": program_id,\n",
    "        \"model_store_id\": model_store_id,\n",
    "        \"model_provider_party_id\": model_provider_party_id,\n",
    "    }\n",
    "    json.dump(provider_variables, provider_variables_file)"
   ]
  },
  {
   "cell_type": "code",
   "execution_count": 21,
   "metadata": {},
   "outputs": [],
   "source": [
    "torch.save(my_model.state_dict(), \"./data/my_model.pt\")"
   ]
  }
 ],
 "metadata": {
  "kernelspec": {
   "display_name": "Python 3",
   "language": "python",
   "name": "python3"
  },
  "language_info": {
   "codemirror_mode": {
    "name": "ipython",
    "version": 3
   },
   "file_extension": ".py",
   "mimetype": "text/x-python",
   "name": "python",
   "nbconvert_exporter": "python",
   "pygments_lexer": "ipython3",
   "version": "3.12.2"
  }
 },
 "nbformat": 4,
 "nbformat_minor": 2
}
