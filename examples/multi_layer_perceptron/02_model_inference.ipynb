{
 "cells": [
  {
   "cell_type": "markdown",
   "metadata": {},
   "source": [
    "**IMPORTANT**: Before starting this notebook make sure that the kernel of the previous notebook is shutdown or reset it's state to forget the previous `model_user` Nillion client"
   ]
  },
  {
   "cell_type": "code",
   "execution_count": null,
   "metadata": {},
   "outputs": [],
   "source": [
    "## If problems arise with the loading of the shared library, this script can be used to load the shared library before other libraries.\n",
    "## Remember to also run on your local machine the script below:\n",
    "# bash replace_lib_version.sh\n",
    "\n",
    "import platform\n",
    "import ctypes\n",
    "\n",
    "if platform.system() == \"Linux\":\n",
    "    # Force libgomp and py_nillion_client to be loaded before other libraries consuming dynamic TLS (to avoid running out of STATIC_TLS)\n",
    "    ctypes.cdll.LoadLibrary(\"libgomp.so.1\")\n",
    "    ctypes.cdll.LoadLibrary(\n",
    "        \"/home/vscode/.local/lib/python3.12/site-packages/py_nillion_client/py_nillion_client.abi3.so\"\n",
    "    )"
   ]
  },
  {
   "cell_type": "code",
   "execution_count": null,
   "metadata": {},
   "outputs": [],
   "source": [
    "import os\n",
    "import sys\n",
    "\n",
    "sys.path.append(os.path.abspath(os.path.join(os.getcwd(), os.pardir)))\n",
    "\n",
    "import json\n",
    "import os\n",
    "from common.utils import compute, store_secret_array\n",
    "from nillion_python_helpers import (create_nillion_client,\n",
    "                                    create_payments_config)\n",
    "from py_nillion_client import NodeKey, UserKey\n",
    "import py_nillion_client as nillion\n",
    "from torchvision import transforms\n",
    "import nada_numpy as na\n",
    "from PIL import Image\n",
    "from dotenv import load_dotenv\n",
    "import numpy as np\n",
    "import torch\n",
    "\n",
    "from cosmpy.aerial.client import LedgerClient\n",
    "from cosmpy.aerial.wallet import LocalWallet\n",
    "from cosmpy.crypto.keypairs import PrivateKey\n",
    "\n",
    "home = os.getenv(\"HOME\")\n",
    "load_dotenv(f\"{home}/.config/nillion/nillion-devnet.env\")"
   ]
  },
  {
   "cell_type": "markdown",
   "metadata": {},
   "source": [
    "## Authenticate with Nillion"
   ]
  },
  {
   "cell_type": "markdown",
   "metadata": {},
   "source": [
    "To connect to the Nillion network, we need to have a user key and a node key. These serve different purposes:\n",
    "\n",
    "The `user_key` is the user's private key. The user key should never be shared publicly, as it unlocks access and permissions to secrets stored on the network.\n",
    "\n",
    "The `node_key` is the node's private key which is run locally to connect to the network."
   ]
  },
  {
   "cell_type": "code",
   "execution_count": null,
   "metadata": {},
   "outputs": [],
   "source": [
    "# Load all Nillion network environment variables\n",
    "assert os.getcwd().endswith(\n",
    "    \"examples/multi_layer_perceptron\"\n",
    "), \"Please run this script from the examples/multi_layer_perceptron directory otherwise, the rest of the tutorial may not work\"\n",
    "load_dotenv()"
   ]
  },
  {
   "cell_type": "code",
   "execution_count": null,
   "metadata": {},
   "outputs": [],
   "source": [
    "cluster_id = os.getenv(\"NILLION_CLUSTER_ID\")\n",
    "grpc_endpoint = os.getenv(\"NILLION_NILCHAIN_GRPC\")\n",
    "chain_id = os.getenv(\"NILLION_NILCHAIN_CHAIN_ID\")\n",
    "seed = \"my_seed\"\n",
    "model_user_userkey = UserKey.from_seed((seed))\n",
    "model_user_nodekey = NodeKey.from_seed((seed))\n",
    "model_user_client = create_nillion_client(model_user_userkey, model_user_nodekey)\n",
    "model_user_party_id = model_user_client.party_id\n",
    "model_user_user_id = model_user_client.user_id"
   ]
  },
  {
   "cell_type": "code",
   "execution_count": null,
   "metadata": {},
   "outputs": [],
   "source": [
    "payments_config = create_payments_config(chain_id, grpc_endpoint)\n",
    "payments_client = LedgerClient(payments_config)\n",
    "payments_wallet = LocalWallet(\n",
    "    PrivateKey(bytes.fromhex(os.getenv(\"NILLION_NILCHAIN_PRIVATE_KEY_0\"))),\n",
    "    prefix=\"nillion\",\n",
    ")"
   ]
  },
  {
   "cell_type": "code",
   "execution_count": null,
   "metadata": {},
   "outputs": [],
   "source": [
    "# This information was provided by the model provider\n",
    "with open(\"data/tmp.json\", \"r\") as provider_variables_file:\n",
    "    provider_variables = json.load(provider_variables_file)\n",
    "\n",
    "program_id = provider_variables[\"program_id\"]\n",
    "model_store_id = provider_variables[\"model_store_id\"]\n",
    "model_provider_party_id = provider_variables[\"model_provider_party_id\"]\n",
    "\n",
    "print(\"Program ID: \", program_id)\n",
    "print(\"Model Store ID: \", model_store_id)\n",
    "print(\"Model Provider Party ID: \", model_provider_party_id)"
   ]
  },
  {
   "cell_type": "markdown",
   "metadata": {},
   "source": [
    "## Model user flow"
   ]
  },
  {
   "cell_type": "markdown",
   "metadata": {},
   "source": [
    "### Read image"
   ]
  },
  {
   "cell_type": "code",
   "execution_count": null,
   "metadata": {},
   "outputs": [],
   "source": [
    "test_image = transforms.Compose(\n",
    "    [\n",
    "        transforms.Grayscale(),\n",
    "        transforms.Resize((16, 16)),\n",
    "        transforms.ToTensor(),\n",
    "    ]\n",
    ")(Image.open(\"data/COVID-19_Lung_CT_Scans/COVID-19/COVID-19_0001.png\"))"
   ]
  },
  {
   "cell_type": "code",
   "execution_count": null,
   "metadata": {},
   "outputs": [],
   "source": [
    "test_image_batch = np.array(test_image.unsqueeze(0))\n",
    "test_image_batch.shape  # (B, channels, H, W)"
   ]
  },
  {
   "cell_type": "markdown",
   "metadata": {},
   "source": [
    "### Send features to Nillion"
   ]
  },
  {
   "cell_type": "code",
   "execution_count": null,
   "metadata": {},
   "outputs": [],
   "source": [
    "permissions = nillion.Permissions.default_for_user(model_user_client.user_id)\n",
    "permissions.add_compute_permissions({model_user_client.user_id: {program_id}})\n",
    "\n",
    "images_store_id = await store_secret_array(\n",
    "    model_user_client,\n",
    "    payments_wallet,\n",
    "    payments_client,\n",
    "    cluster_id,\n",
    "    test_image_batch,\n",
    "    \"my_input\",\n",
    "    na.SecretRational,\n",
    "    1,\n",
    "    permissions,\n",
    ")"
   ]
  },
  {
   "cell_type": "markdown",
   "metadata": {},
   "source": [
    "### Run inference & check result"
   ]
  },
  {
   "cell_type": "code",
   "execution_count": null,
   "metadata": {},
   "outputs": [],
   "source": [
    "compute_bindings = nillion.ProgramBindings(program_id)\n",
    "\n",
    "compute_bindings.add_input_party(\"Provider\", model_provider_party_id)\n",
    "compute_bindings.add_input_party(\"User\", model_user_party_id)\n",
    "compute_bindings.add_output_party(\"User\", model_user_party_id)"
   ]
  },
  {
   "cell_type": "code",
   "execution_count": null,
   "metadata": {},
   "outputs": [],
   "source": [
    "result = await compute(\n",
    "    model_user_client,\n",
    "    payments_wallet,\n",
    "    payments_client,\n",
    "    program_id,\n",
    "    cluster_id,\n",
    "    compute_bindings,\n",
    "    [model_store_id, images_store_id],\n",
    "    nillion.NadaValues({}),\n",
    "    verbose=True,\n",
    ")\n",
    "result"
   ]
  },
  {
   "cell_type": "code",
   "execution_count": null,
   "metadata": {},
   "outputs": [],
   "source": [
    "result_inference = {key: na.float_from_rational(value) for key, value in result.items()}\n",
    "result_inference"
   ]
  },
  {
   "cell_type": "markdown",
   "metadata": {},
   "source": [
    "### Compare result to what we would have gotten in plain-text inference"
   ]
  },
  {
   "cell_type": "code",
   "execution_count": null,
   "metadata": {},
   "outputs": [],
   "source": [
    "# Create custom torch Module\n",
    "class MyNN(torch.nn.Module):\n",
    "    \"\"\"My simple neural net\"\"\"\n",
    "\n",
    "    def __init__(self) -> None:\n",
    "        \"\"\"Model is a two layers and an activations\"\"\"\n",
    "        super().__init__()\n",
    "        self.conv1 = torch.nn.Conv2d(\n",
    "            in_channels=1, out_channels=2, kernel_size=3, stride=4, padding=1\n",
    "        )\n",
    "        self.pool = torch.nn.AvgPool2d(kernel_size=2, stride=2)\n",
    "\n",
    "        self.fc1 = torch.nn.Linear(in_features=8, out_features=2)\n",
    "\n",
    "        self.relu = torch.nn.ReLU()\n",
    "        self.flatten = torch.nn.Flatten()\n",
    "\n",
    "    def forward(self, x: np.ndarray) -> np.ndarray:\n",
    "        \"\"\"My forward pass logic\"\"\"\n",
    "        x = self.relu(self.conv1(x))\n",
    "        x = self.pool(x)\n",
    "        x = self.flatten(x)\n",
    "        x = self.fc1(x)\n",
    "        return x"
   ]
  },
  {
   "cell_type": "code",
   "execution_count": null,
   "metadata": {},
   "outputs": [],
   "source": [
    "my_model = MyNN()\n",
    "my_model.load_state_dict(torch.load(\"./data/my_model.pt\"))"
   ]
  },
  {
   "cell_type": "code",
   "execution_count": null,
   "metadata": {},
   "outputs": [],
   "source": [
    "torch.softmax(my_model(test_image.unsqueeze(0))[0], dim=0)"
   ]
  },
  {
   "cell_type": "code",
   "execution_count": null,
   "metadata": {},
   "outputs": [],
   "source": [
    "torch.softmax(\n",
    "    torch.Tensor([result_inference[\"output_0\"], result_inference[\"output_1\"]]), dim=0\n",
    ")"
   ]
  }
 ],
 "metadata": {
  "kernelspec": {
   "display_name": "Python 3",
   "language": "python",
   "name": "python3"
  },
  "language_info": {
   "codemirror_mode": {
    "name": "ipython",
    "version": 3
   },
   "file_extension": ".py",
   "mimetype": "text/x-python",
   "name": "python",
   "nbconvert_exporter": "python",
   "pygments_lexer": "ipython3",
   "version": "3.12.2"
  }
 },
 "nbformat": 4,
 "nbformat_minor": 2
}
