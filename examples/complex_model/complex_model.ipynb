{
  "cells": [
    {
      "cell_type": "markdown",
      "metadata": {
        "id": "tOKatV-Av_7J"
      },
      "source": [
        "# 👋 Welcome to Nillion's Nada AI complex model example"
      ]
    },
    {
      "cell_type": "markdown",
      "metadata": {
        "id": "s1idKo5Rv_7K"
      },
      "source": [
        "[![Open in Colab](https://colab.research.google.com/assets/colab-badge.svg)](https://colab.research.google.com/github/NillionNetwork/nada-ai/blob/main/examples/complex_model/complex_model.ipynb)"
      ]
    },
    {
      "cell_type": "markdown",
      "metadata": {
        "id": "IeHr5pAHv_7K"
      },
      "source": [
        "This notebook will get you familiar with building custom AI models in `nada-ai`, Nillion's AI/ML framework on top of the Nada dsl\n",
        "\n",
        "We are really excited for developers to build with our SDK, if you have any questions please do reach out to us on:\n",
        "\n",
        "[![Discord](https://img.shields.io/badge/Discord-nillionnetwork-%235865F2?logo=discord)](https://discord.gg/nillionnetwork)\n",
        "[![GitHub Discussions](https://img.shields.io/badge/GitHub_Discussions-NillionNetwork-%23181717?logo=github)](https://github.com/orgs/NillionNetwork/discussions)"
      ]
    },
    {
      "cell_type": "markdown",
      "metadata": {
        "id": "gcgBmJtPv_7K"
      },
      "source": [
        "# 1. Set up environment"
      ]
    },
    {
      "cell_type": "markdown",
      "metadata": {
        "id": "vL85sjrzv_7K"
      },
      "source": [
        "The boring part!\n",
        "\n",
        "Installs all required dependencies and spins up a local devnet that will run Nada programs"
      ]
    },
    {
      "cell_type": "code",
      "execution_count": 1,
      "metadata": {
        "id": "o4PXBlE2v_7K"
      },
      "outputs": [],
      "source": [
        "%pip install nada-ai --quiet"
      ]
    },
    {
      "cell_type": "code",
      "execution_count": 2,
      "metadata": {
        "id": "DL8vgWHyz6Zx"
      },
      "outputs": [],
      "source": [
        "import os\n",
        "import time\n",
        "import sys"
      ]
    },
    {
      "cell_type": "code",
      "execution_count": 3,
      "metadata": {
        "id": "rmTAavFov_7L"
      },
      "outputs": [],
      "source": [
        "# Configure telemetry settings\n",
        "enable_telemetry = True  #@param {type:\"boolean\"}\n",
        "my_identifier = \"your-telemetry-identifier\"  #@param {type:\"string\"}"
      ]
    },
    {
      "cell_type": "code",
      "execution_count": 4,
      "metadata": {
        "colab": {
          "base_uri": "https://localhost:8080/"
        },
        "id": "GcsYIHINv_7L",
        "outputId": "fd65b584-10a5-45ea-8a95-dfe1023386f3"
      },
      "outputs": [
        {
          "name": "stdout",
          "output_type": "stream",
          "text": [
            "  % Total    % Received % Xferd  Average Speed   Time    Time     Time  Current\n",
            "                                 Dload  Upload   Total   Spent    Left  Speed\n",
            "\r  0     0    0     0    0     0      0      0 --:--:-- --:--:-- --:--:--     0\r100  7810  100  7810    0     0  71976      0 --:--:-- --:--:-- --:--:-- 72314\n",
            "\n",
            "nilup has been installed into /root/.nilup/bin and added to your $PATH in /root/.bashrc.\n",
            "\n",
            "Run 'source /root/.bashrc' or start a new terminal session to use nilup.\n",
            "\n",
            "By providing your Ethereum wallet address, you consent to the collection of telemetry data by the Nillion Network.\n",
            "That includes but is not limited to\n",
            "- The version of the SDK you are using\n",
            "- The OS you are using\n",
            "- The Processor Architecture you are using\n",
            "- The SDK binary that you are running and the subcommand\n",
            "- The wallet address you provided\n",
            "- The errors produced by the SDK\n",
            "We collect this data to understand how the software is used, and to better assist you in case of issues.\n",
            "While we will not collect any personal information, we still recommend using a new wallet address that cannot be linked to your identity by any third party.\n",
            "For more information, our privacy policy is available at https://nillion.com/privacy/.\n",
            "Do you consent to the collection of telemetry data? (yes/no)\n",
            "Telemetry data collection enabled\n",
            "SDK version latest already installed\n",
            "Reinstalling SDK version latest\n",
            "Installing SDK bins version latest\n",
            "Downloading latest/nillion-sdk-bins-x86_64-unknown-linux-musl.tar.gz\n",
            "SDK version latest installed\n",
            "SDK version latest set as default\n",
            "SDK version latest already installed\n",
            "Reinstalling SDK version latest\n",
            "Installing SDK bins version latest\n",
            "Downloading latest/nillion-sdk-bins-x86_64-unknown-linux-musl.tar.gz\n",
            "SDK version latest installed\n",
            "SDK version latest set as default\n"
          ]
        }
      ],
      "source": [
        "# Install the nilup tool and then use that to install the Nillion SDK\n",
        "!curl https://nilup.nilogy.xyz/install.sh | bash\n",
        "\n",
        "# Update Path if ran in colab\n",
        "if \"google.colab\" in sys.modules:\n",
        "    os.environ[\"PATH\"] += \":/root/.nilup/bin\"\n",
        "    os.environ[\"PATH\"] += \":/root/.nilup/sdks/latest/\"\n",
        "\n",
        "# Set telemetry if opted in\n",
        "if enable_telemetry:\n",
        "    identifier = \"nada-ai-complex-model\" + my_identifier\n",
        "    !echo 'yes' | nilup instrumentation enable --wallet {identifier}\n",
        "\n",
        "# Install the lastest SDK and initialise it\n",
        "!nilup init\n",
        "!nilup install latest\n",
        "!nilup use latest"
      ]
    },
    {
      "cell_type": "code",
      "execution_count": 5,
      "metadata": {
        "colab": {
          "base_uri": "https://localhost:8080/"
        },
        "id": "L3CluM_vv_7L",
        "outputId": "be26fd17-8fea-4ae0-e111-116d93606205"
      },
      "outputs": [
        {
          "name": "stdout",
          "output_type": "stream",
          "text": [
            "nohup: appending output to 'nohup.out'\n"
          ]
        }
      ],
      "source": [
        "# Spin up local Nillion devnet\n",
        "!nohup nillion-devnet &\n",
        "\n",
        "time.sleep(20)  # Wait for devnet"
      ]
    },
    {
      "cell_type": "code",
      "execution_count": 6,
      "metadata": {
        "id": "4teHBr6W5_Mz"
      },
      "outputs": [],
      "source": [
        "if \"google.colab\" in sys.modules:\n",
        "    # If ran in Colab, clone the nada-ai repo and navigate to the correct directory\n",
        "    if not os.path.exists(\"nada-ai\"):\n",
        "        !git clone https://github.com/NillionNetwork/nada-ai.git\n",
        "    os.chdir(\"nada-ai/examples/complex_model\")"
      ]
    },
    {
      "cell_type": "markdown",
      "metadata": {
        "id": "QluoKNsev_7L"
      },
      "source": [
        "# 2. Build Nada program"
      ]
    },
    {
      "cell_type": "markdown",
      "metadata": {
        "id": "rOUmgVosv_7L"
      },
      "source": [
        "We will now build the Nada program specified under `src/complex_model.py`\n",
        "\n",
        "You will see that it uses both our `nada-dsl` and `nada-ai`."
      ]
    },
    {
      "cell_type": "code",
      "execution_count": 7,
      "metadata": {
        "colab": {
          "base_uri": "https://localhost:8080/"
        },
        "id": "RT37dfFhv_7L",
        "outputId": "8d3a5739-7c75-4855-ca7c-5e6cc5a8a0fb"
      },
      "outputs": [
        {
          "name": "stdout",
          "output_type": "stream",
          "text": [
            "Building program: \u001b[1m\u001b[32mcomplex_model\u001b[39m\u001b[0m\n",
            "\u001b[1;32mBuild complete!\u001b[0m\n"
          ]
        }
      ],
      "source": [
        "!nada build"
      ]
    },
    {
      "cell_type": "code",
      "execution_count": 8,
      "metadata": {
        "colab": {
          "base_uri": "https://localhost:8080/"
        },
        "id": "TkWJ_oikv_7M",
        "outputId": "1b5f6098-f737-48fc-b4a0-3d79ba38a7fe"
      },
      "outputs": [
        {
          "name": "stdout",
          "output_type": "stream",
          "text": [
            "complex_model.nada.bin\n"
          ]
        }
      ],
      "source": [
        "# You will see that the program was compiled in a .nada.bin file\n",
        "!ls target | grep complex_model"
      ]
    },
    {
      "cell_type": "markdown",
      "metadata": {
        "id": "Y6uqc2ZJv_7M"
      },
      "source": [
        "# 3. (optional) Test Nada program"
      ]
    },
    {
      "cell_type": "markdown",
      "metadata": {
        "id": "D0CCBvPhv_7M"
      },
      "source": [
        "This step is optional but we can now test whether our newly compiled program behaves as expected!\n",
        "\n",
        "Under `tests/complex_model.yaml`, you will see a test file with provided inputs and expected outputs. We will now test whether if we provide the program with those inputs, the program returns the expected outputs or not.\n",
        "\n",
        "*Note for the nerds: nada testing runs programs on a simulator instead of a network. This means that you can test programs without having a local devnet running!!*"
      ]
    },
    {
      "cell_type": "code",
      "execution_count": 9,
      "metadata": {
        "colab": {
          "base_uri": "https://localhost:8080/"
        },
        "id": "PirYmsCTv_7M",
        "outputId": "f73a3498-f997-4abd-a836-6353d201fa5c"
      },
      "outputs": [
        {
          "name": "stdout",
          "output_type": "stream",
          "text": [
            "Running test: \u001b[1m\u001b[32mcomplex_model\u001b[39m\u001b[0m\n",
            "Building ...\n",
            "Running ...\n",
            "complex_model: \u001b[1;32mPASS\u001b[0m\n",
            "\n"
          ]
        }
      ],
      "source": [
        "!nada test"
      ]
    },
    {
      "cell_type": "markdown",
      "metadata": {
        "id": "xZUGIJWyv_7M"
      },
      "source": [
        "# 4. Run Nada program"
      ]
    },
    {
      "cell_type": "markdown",
      "metadata": {
        "id": "UGiCRTDOv_7M"
      },
      "source": [
        "The time has come to take our Nada program for a spin!\n",
        "\n",
        "You will see that `main.py` contains some python logic that wants to interface with our brand spanking new Nada program. It uses Nillion's Python SDK to store and run the program on a local devnet."
      ]
    },
    {
      "cell_type": "code",
      "execution_count": 10,
      "metadata": {
        "colab": {
          "base_uri": "https://localhost:8080/"
        },
        "id": "pg15Av1Fv_7M",
        "outputId": "d32035bf-186e-4814-d883-2aa497f0c689"
      },
      "outputs": [
        {
          "name": "stdout",
          "output_type": "stream",
          "text": [
            "Getting quote for operation...\n",
            "Submitting payment receipt 2 unil, tx hash B27894AFE91FD3317A4053E7E0E931BF86495695099A39FE8809A5AB5D79889D\n",
            "Stored program. action_id: 3rgqxWd47e171EUwe4RXP9hm45tmoXfuF8fC52S7jcFoQTnU8wPiL7hqWzyV1muak6bEg7iWhudwg4t2pM9XnXcp/complex_model\n",
            "Stored program_id: 3rgqxWd47e171EUwe4RXP9hm45tmoXfuF8fC52S7jcFoQTnU8wPiL7hqWzyV1muak6bEg7iWhudwg4t2pM9XnXcp/complex_model\n",
            "Model state is: OrderedDict([('conv_module.conv.weight', tensor([[[[ 0.1478, -0.1874],\n",
            "          [-0.0456, -0.0914]],\n",
            "\n",
            "         [[-0.2883,  0.0879],\n",
            "          [-0.1786,  0.1246]],\n",
            "\n",
            "         [[-0.0972,  0.2298],\n",
            "          [-0.2379, -0.1098]]],\n",
            "\n",
            "\n",
            "        [[[-0.2167, -0.0934],\n",
            "          [ 0.0255,  0.0514]],\n",
            "\n",
            "         [[-0.2524,  0.1517],\n",
            "          [-0.1976, -0.2661]],\n",
            "\n",
            "         [[ 0.2164, -0.1791],\n",
            "          [-0.2744,  0.0438]]]])), ('conv_module.conv.bias', tensor([0.2767, 0.0587])), ('linear.weight', tensor([[-0.2672, -0.1872, -0.0109,  0.0779],\n",
            "        [ 0.1874, -0.1525, -0.2926, -0.2256]])), ('linear.bias', tensor([ 0.2430, -0.0521]))])\n",
            "Getting quote for operation...\n",
            "Quote cost is 3458 unil\n",
            "Submitting payment receipt 3458 unil, tx hash D54816FF3AE0138D6C87ABD802D1B860C2CF9AC9D1F082D7C3960A2813BA4616\n",
            "Getting quote for operation...\n",
            "Quote cost is 3458 unil\n",
            "Submitting payment receipt 3458 unil, tx hash 65D8B36DA3223A1211D48A45254E22E3A4B341B9EBA3654B31485F1CCABA6EBD\n",
            "Computing using program 3rgqxWd47e171EUwe4RXP9hm45tmoXfuF8fC52S7jcFoQTnU8wPiL7hqWzyV1muak6bEg7iWhudwg4t2pM9XnXcp/complex_model\n",
            "Use secret store_id: 866bdb3c-18b1-4a24-a0b6-71ddd7d8dd9a, ff161c07-7d1d-4de8-897a-8b0cdce9b004\n",
            "Getting quote for operation...\n",
            "Quote cost is 374 unil\n",
            "Submitting payment receipt 374 unil, tx hash A8EE416CDB3A513C6A85BB267E545E646CABA3B58703AB6B3822CB8F8CDA5A28\n",
            "✅ Compute complete for compute_id 549e8450-0dae-47d9-8ecb-362a112e3a90\n",
            "🖥️  The result is {'my_output_1': 89904, 'my_output_0': 55138}\n",
            "🖥️  The processed result is [0.841339111328125, 1.371826171875] @ 16-bit precision\n",
            "🖥️  VS expected result [0.8413817882537842, 1.3717930316925049]\n"
          ]
        }
      ],
      "source": [
        "!python3 main.py"
      ]
    },
    {
      "cell_type": "markdown",
      "metadata": {
        "id": "Xsjs6dTlv_7M"
      },
      "source": [
        "Excuse my French but voilà, we did it!!\n",
        "\n",
        "To recap, in this example we:\n",
        "- Set up and installed all necessary Nillion libraries and dependencies.\n",
        "- Created and built a Nada program using Nillion's `nada-dsl` and the `nada-ai` library.\n",
        "- Tested the behaviour of the Nada program.\n",
        "- Ran a Python script that ran a Nada program on a local devnet using Nillion's `py_nillion_client`."
      ]
    }
  ],
  "metadata": {
    "colab": {
      "provenance": []
    },
    "kernelspec": {
      "display_name": "venv",
      "language": "python",
      "name": "python3"
    },
    "language_info": {
      "codemirror_mode": {
        "name": "ipython",
        "version": 3
      },
      "file_extension": ".py",
      "mimetype": "text/x-python",
      "name": "python",
      "nbconvert_exporter": "python",
      "pygments_lexer": "ipython3",
      "version": "3.12.2"
    }
  },
  "nbformat": 4,
  "nbformat_minor": 0
}
