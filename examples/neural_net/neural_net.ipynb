{
 "cells": [
  {
   "cell_type": "markdown",
   "metadata": {
    "id": "tOKatV-Av_7J"
   },
   "source": [
    "# 👋 Welcome to Nillion's Nada AI neural net example"
   ]
  },
  {
   "cell_type": "markdown",
   "metadata": {
    "id": "s1idKo5Rv_7K"
   },
   "source": [
    "[![Open in Colab](https://colab.research.google.com/assets/colab-badge.svg)](https://colab.research.google.com/github/NillionNetwork/nada-ai/blob/main/examples/neural_net/neural_net.ipynb)"
   ]
  },
  {
   "cell_type": "markdown",
   "metadata": {
    "id": "IeHr5pAHv_7K"
   },
   "source": [
    "This notebook will get you familiar with neural nets in `nada-ai`, Nillion's AI/ML framework on top of the Nada dsl\n",
    "\n",
    "We are really excited for developers to build with our SDK, if you have any questions please do reach out to us on:\n",
    "\n",
    "[![Discord](https://img.shields.io/badge/Discord-nillionnetwork-%235865F2?logo=discord)](https://discord.gg/nillionnetwork)\n",
    "[![GitHub Discussions](https://img.shields.io/badge/GitHub_Discussions-NillionNetwork-%23181717?logo=github)](https://github.com/orgs/NillionNetwork/discussions)"
   ]
  },
  {
   "cell_type": "markdown",
   "metadata": {
    "id": "gcgBmJtPv_7K"
   },
   "source": [
    "# 1. Set up environment"
   ]
  },
  {
   "cell_type": "markdown",
   "metadata": {
    "id": "vL85sjrzv_7K"
   },
   "source": [
    "The boring part!\n",
    "\n",
    "Installs all required dependencies and spins up a local devnet that will run Nada programs"
   ]
  },
  {
   "cell_type": "code",
   "execution_count": 1,
   "metadata": {
    "id": "o4PXBlE2v_7K",
    "colab": {
     "base_uri": "https://localhost:8080/"
    },
    "outputId": "c7078fa2-2fc8-4e93-d577-f0444034fc7d"
   },
   "outputs": [
    {
     "output_type": "stream",
     "name": "stdout",
     "text": [
      "\u001b[2K     \u001b[90m━━━━━━━━━━━━━━━━━━━━━━━━━━━━━━━━━━━━━━━━\u001b[0m \u001b[32m54.8/54.8 kB\u001b[0m \u001b[31m932.0 kB/s\u001b[0m eta \u001b[36m0:00:00\u001b[0m\n",
      "\u001b[2K     \u001b[90m━━━━━━━━━━━━━━━━━━━━━━━━━━━━━━━━━━━━━━━━\u001b[0m \u001b[32m18.2/18.2 MB\u001b[0m \u001b[31m30.7 MB/s\u001b[0m eta \u001b[36m0:00:00\u001b[0m\n",
      "\u001b[2K     \u001b[90m━━━━━━━━━━━━━━━━━━━━━━━━━━━━━━━━━━━━━━━━\u001b[0m \u001b[32m12.6/12.6 MB\u001b[0m \u001b[31m26.9 MB/s\u001b[0m eta \u001b[36m0:00:00\u001b[0m\n",
      "\u001b[2K     \u001b[90m━━━━━━━━━━━━━━━━━━━━━━━━━━━━━━━━━━━━━━━━\u001b[0m \u001b[32m13.4/13.4 MB\u001b[0m \u001b[31m22.5 MB/s\u001b[0m eta \u001b[36m0:00:00\u001b[0m\n",
      "\u001b[2K     \u001b[90m━━━━━━━━━━━━━━━━━━━━━━━━━━━━━━━━━━━━━━━━\u001b[0m \u001b[32m413.1/413.1 kB\u001b[0m \u001b[31m23.8 MB/s\u001b[0m eta \u001b[36m0:00:00\u001b[0m\n",
      "\u001b[2K     \u001b[90m━━━━━━━━━━━━━━━━━━━━━━━━━━━━━━━━━━━━━━━━\u001b[0m \u001b[32m294.6/294.6 kB\u001b[0m \u001b[31m10.1 MB/s\u001b[0m eta \u001b[36m0:00:00\u001b[0m\n",
      "\u001b[2K     \u001b[90m━━━━━━━━━━━━━━━━━━━━━━━━━━━━━━━━━━━━━━━━\u001b[0m \u001b[32m21.3/21.3 MB\u001b[0m \u001b[31m44.9 MB/s\u001b[0m eta \u001b[36m0:00:00\u001b[0m\n",
      "\u001b[2K     \u001b[90m━━━━━━━━━━━━━━━━━━━━━━━━━━━━━━━━━━━━━━━━\u001b[0m \u001b[32m149.3/149.3 kB\u001b[0m \u001b[31m15.5 MB/s\u001b[0m eta \u001b[36m0:00:00\u001b[0m\n",
      "\u001b[2K     \u001b[90m━━━━━━━━━━━━━━━━━━━━━━━━━━━━━━━━━━━━━━━━\u001b[0m \u001b[32m2.1/2.1 MB\u001b[0m \u001b[31m71.9 MB/s\u001b[0m eta \u001b[36m0:00:00\u001b[0m\n",
      "\u001b[?25h\u001b[31mERROR: pip's dependency resolver does not currently take into account all the packages that are installed. This behaviour is the source of the following dependency conflicts.\n",
      "tensorflow-metadata 1.15.0 requires protobuf<4.21,>=3.20.3; python_version < \"3.11\", but you have protobuf 4.25.3 which is incompatible.\u001b[0m\u001b[31m\n",
      "\u001b[0m"
     ]
    }
   ],
   "source": [
    "%pip install nada-ai==0.3.0 --quiet"
   ]
  },
  {
   "cell_type": "code",
   "execution_count": 2,
   "metadata": {
    "id": "rmTAavFov_7L"
   },
   "outputs": [],
   "source": [
    "my_identifier = \"your-telemetry-identifier\""
   ]
  },
  {
   "cell_type": "code",
   "execution_count": 3,
   "metadata": {
    "colab": {
     "base_uri": "https://localhost:8080/"
    },
    "id": "GcsYIHINv_7L",
    "outputId": "2f127e92-634a-4c5b-f7f4-d6ad6ab7c331"
   },
   "outputs": [
    {
     "output_type": "stream",
     "name": "stdout",
     "text": [
      "  % Total    % Received % Xferd  Average Speed   Time    Time     Time  Current\n",
      "                                 Dload  Upload   Total   Spent    Left  Speed\n",
      "100  7810  100  7810    0     0  15230      0 --:--:-- --:--:-- --:--:-- 15224\n",
      "\n",
      "nilup has been installed into /root/.nilup/bin and added to your $PATH in /root/.bashrc.\n",
      "\n",
      "Run 'source /root/.bashrc' or start a new terminal session to use nilup.\n",
      "\n",
      "By providing your Ethereum wallet address, you consent to the collection of telemetry data by the Nillion Network.\n",
      "That includes but is not limited to\n",
      "- The version of the SDK you are using\n",
      "- The OS you are using\n",
      "- The Processor Architecture you are using\n",
      "- The SDK binary that you are running and the subcommand\n",
      "- The wallet address you provided\n",
      "- The errors produced by the SDK\n",
      "We collect this data to understand how the software is used, and to better assist you in case of issues.\n",
      "While we will not collect any personal information, we still recommend using a new wallet address that cannot be linked to your identity by any third party.\n",
      "For more information, our privacy policy is available at https://nillion.com/privacy/.\n",
      "Do you consent to the collection of telemetry data? (yes/no)\n",
      "Telemetry data collection enabled\n",
      "Installing SDK bins version latest\n",
      "Downloading latest/nillion-sdk-bins-x86_64-unknown-linux-musl.tar.gz\n",
      "SDK version latest installed\n",
      "SDK version latest set as default\n",
      "SDK version latest already installed\n",
      "Reinstalling SDK version latest\n",
      "Installing SDK bins version latest\n",
      "Downloading latest/nillion-sdk-bins-x86_64-unknown-linux-musl.tar.gz\n",
      "SDK version latest installed\n",
      "SDK version latest set as default\n"
     ]
    }
   ],
   "source": [
    "# Install the nilup tool and then use that to install the Nillion SDK\n",
    "!curl https://nilup.nilogy.xyz/install.sh | bash\n",
    "!export PATH=$PATH:/root/.nilup/bin\n",
    "\n",
    "identifier = \"nada-ai-neural-net\" + my_identifier\n",
    "\n",
    "# Enable telemetry using the identifier you have set above\n",
    "!echo 'yes' | /root/.nilup/bin/nilup instrumentation enable --wallet {identifier}\n",
    "\n",
    "# Install the lastest SDK and initialise it\n",
    "!/root/.nilup/bin/nilup init\n",
    "!/root/.nilup/bin/nilup install latest\n",
    "!/root/.nilup/bin/nilup use latest"
   ]
  },
  {
   "cell_type": "code",
   "execution_count": 4,
   "metadata": {
    "colab": {
     "base_uri": "https://localhost:8080/"
    },
    "id": "L3CluM_vv_7L",
    "outputId": "0492e957-648c-450c-e2a6-ca0a106f8d78"
   },
   "outputs": [
    {
     "output_type": "stream",
     "name": "stdout",
     "text": [
      "nohup: appending output to 'nohup.out'\n",
      "# Nillion devnet parameters\n",
      "NILLION_CLUSTER_ID=9e68173f-9c23-4acc-ba81-4f079b639964\n",
      "NILLION_BOOTNODE_MULTIADDRESS=/ip4/127.0.0.1/tcp/37939/p2p/12D3KooWMvw1hEqm7EWSDEyqTb6pNetUVkepahKY6hixuAuMZfJS\n",
      "NILLION_BOOTNODE_WEBSOCKET=/ip4/127.0.0.1/tcp/54936/ws/p2p/12D3KooWMvw1hEqm7EWSDEyqTb6pNetUVkepahKY6hixuAuMZfJS\n",
      "NILLION_NILCHAIN_CHAIN_ID=nillion-chain-devnet\n",
      "NILLION_NILCHAIN_JSON_RPC=http://127.0.0.1:48102\n",
      "NILLION_NILCHAIN_REST_API=http://localhost:26650\n",
      "NILLION_NILCHAIN_GRPC=localhost:26649\n",
      "NILLION_NILCHAIN_PRIVATE_KEY_0=9a975f567428d054f2bf3092812e6c42f901ce07d9711bc77ee2cd81101f42c5\n",
      "NILLION_NILCHAIN_PRIVATE_KEY_1=1e491133b9408b39572a29f91644873decea554224b20e2b0b923aeb860a1c18\n",
      "NILLION_NILCHAIN_PRIVATE_KEY_2=980488572f235316cdb330191f8bafe4e635efbe88b3a40f5bee9bd21047c059\n",
      "NILLION_NILCHAIN_PRIVATE_KEY_3=612bb5173dc60d9e91404fcc0d1f1847fb4459a7d5160d63d84e91aacbf2ab2f\n",
      "NILLION_NILCHAIN_PRIVATE_KEY_4=04f5a984eeea9dce4e5e907da69c01a61568e3071b1a91cbed89225f9fd913b5\n",
      "NILLION_NILCHAIN_PRIVATE_KEY_5=5f992c58921f4af83b4c6b650c4914626664cd02020577b0ada49cfa00d2c8a4\n",
      "NILLION_NILCHAIN_PRIVATE_KEY_6=8f0297d3bb647eb59b95b29550b2aebbedd9be2c954b000e772efe8c9318a42d\n",
      "NILLION_NILCHAIN_PRIVATE_KEY_7=c395243df9bb68dc809668efe4125f0eb017771ed8e3747b8d6860551913fecb\n",
      "NILLION_NILCHAIN_PRIVATE_KEY_8=4bb5eaa799e24ae2b48545c41331921afe7e6a8dd7a850f5fbeb20a8226664ec\n",
      "NILLION_NILCHAIN_PRIVATE_KEY_9=ef4b944d4fdb0077057925fe2dde365dfa2c83cf320463b14589feccd1b2b938\n"
     ]
    }
   ],
   "source": [
    "import time\n",
    "\n",
    "# Spin up local Nillion devnet\n",
    "!nohup /root/.nilup/sdks/latest/nillion-devnet &\n",
    "\n",
    "time.sleep(20)\n",
    "\n",
    "!cat /root/.config/nillion/nillion-devnet.env"
   ]
  },
  {
   "cell_type": "code",
   "execution_count": 5,
   "metadata": {
    "id": "4teHBr6W5_Mz",
    "colab": {
     "base_uri": "https://localhost:8080/"
    },
    "outputId": "f43a2fc5-77c7-4f6e-b143-0590d20bfbe1"
   },
   "outputs": [
    {
     "output_type": "stream",
     "name": "stdout",
     "text": [
      "Cloning into 'nada-ai'...\n",
      "remote: Enumerating objects: 1412, done.\u001b[K\n",
      "remote: Counting objects: 100% (209/209), done.\u001b[K\n",
      "remote: Compressing objects: 100% (177/177), done.\u001b[K\n",
      "remote: Total 1412 (delta 53), reused 52 (delta 24), pack-reused 1203\u001b[K\n",
      "Receiving objects: 100% (1412/1412), 1.05 MiB | 5.08 MiB/s, done.\n",
      "Resolving deltas: 100% (814/814), done.\n"
     ]
    }
   ],
   "source": [
    "import os\n",
    "import sys\n",
    "\n",
    "if \"google.colab\" in sys.modules:\n",
    "    # If ran in Colab, clone the nada-ai repo and navigate to the correct directory\n",
    "    if not os.path.exists(\"nada-ai\"):\n",
    "        !git clone https://github.com/NillionNetwork/nada-ai.git\n",
    "    os.chdir(\"nada-ai/examples/neural_net\")"
   ]
  },
  {
   "cell_type": "markdown",
   "metadata": {
    "id": "QluoKNsev_7L"
   },
   "source": [
    "# 2. Build Nada program"
   ]
  },
  {
   "cell_type": "markdown",
   "metadata": {
    "id": "rOUmgVosv_7L"
   },
   "source": [
    "We will now build the Nada program specified under `src/neural_net.py`\n",
    "\n",
    "You will see that it uses both our `nada-dsl` and `nada-ai`."
   ]
  },
  {
   "cell_type": "code",
   "execution_count": 6,
   "metadata": {
    "colab": {
     "base_uri": "https://localhost:8080/"
    },
    "id": "RT37dfFhv_7L",
    "outputId": "60aee06a-975d-47de-ebcf-81d71db3c249"
   },
   "outputs": [
    {
     "output_type": "stream",
     "name": "stdout",
     "text": [
      "Building program: \u001b[1m\u001b[32mneural_net\u001b[39m\u001b[0m\n",
      "\u001b[1;32mBuild complete!\u001b[0m\n"
     ]
    }
   ],
   "source": [
    "!/root/.nilup/sdks/latest/nada build"
   ]
  },
  {
   "cell_type": "code",
   "execution_count": 7,
   "metadata": {
    "colab": {
     "base_uri": "https://localhost:8080/"
    },
    "id": "TkWJ_oikv_7M",
    "outputId": "97c41200-4385-4b50-8141-f3f90e538578"
   },
   "outputs": [
    {
     "output_type": "stream",
     "name": "stdout",
     "text": [
      "neural_net.nada.bin\n"
     ]
    }
   ],
   "source": [
    "# You will see that the program was compiled in a .nada.bin file\n",
    "!ls target | grep neural_net"
   ]
  },
  {
   "cell_type": "markdown",
   "metadata": {
    "id": "Y6uqc2ZJv_7M"
   },
   "source": [
    "# 3. (optional) Test Nada program"
   ]
  },
  {
   "cell_type": "markdown",
   "metadata": {
    "id": "D0CCBvPhv_7M"
   },
   "source": [
    "This step is optional but we can now test whether our newly compiled program behaves as expected!\n",
    "\n",
    "Under `tests/neural_net.yaml`, you will see a test file with provided inputs and expected outputs. We will now test whether if we provide the program with those inputs, the program returns the expected outputs or not.\n",
    "\n",
    "*Note for the nerds: nada testing runs programs on a simulator instead of a network. This means that you can test programs without having a local devnet running!!*"
   ]
  },
  {
   "cell_type": "code",
   "execution_count": 8,
   "metadata": {
    "colab": {
     "base_uri": "https://localhost:8080/"
    },
    "id": "PirYmsCTv_7M",
    "outputId": "a9194b5f-2591-4b88-eb53-6c7724d584a9"
   },
   "outputs": [
    {
     "output_type": "stream",
     "name": "stdout",
     "text": [
      "Running test: \u001b[1m\u001b[32mneural_net\u001b[39m\u001b[0m\n",
      "Building ...\n",
      "Running ...\n",
      "neural_net: \u001b[1;32mPASS\u001b[0m\n",
      "\n"
     ]
    }
   ],
   "source": [
    "!/root/.nilup/sdks/latest/nada test"
   ]
  },
  {
   "cell_type": "markdown",
   "metadata": {
    "id": "xZUGIJWyv_7M"
   },
   "source": [
    "# 4. Run Nada program"
   ]
  },
  {
   "cell_type": "markdown",
   "metadata": {
    "id": "UGiCRTDOv_7M"
   },
   "source": [
    "The time has come to take our Nada program for a spin!\n",
    "\n",
    "You will see that `main.py` contains some python logic that wants to interface with our brand spanking new Nada program. It uses Nillion's Python SDK to store and run the program on a local devnet."
   ]
  },
  {
   "cell_type": "code",
   "execution_count": 9,
   "metadata": {
    "colab": {
     "base_uri": "https://localhost:8080/"
    },
    "id": "pg15Av1Fv_7M",
    "outputId": "449009bd-7484-4755-ea84-769034bc67fe"
   },
   "outputs": [
    {
     "output_type": "stream",
     "name": "stdout",
     "text": [
      "Getting quote for operation...\n",
      "Submitting payment receipt 2 unil, tx hash 928C2E97B4E06FC256131B9F28448B2C321C7D3DD8F390C76FE3D62CE18C6192\n",
      "Stored program. action_id: 3rgqxWd47e171EUwe4RXP9hm45tmoXfuF8fC52S7jcFoQTnU8wPiL7hqWzyV1muak6bEg7iWhudwg4t2pM9XnXcp/neural_net\n",
      "Stored program_id: 3rgqxWd47e171EUwe4RXP9hm45tmoXfuF8fC52S7jcFoQTnU8wPiL7hqWzyV1muak6bEg7iWhudwg4t2pM9XnXcp/neural_net\n",
      "Model state is: OrderedDict([('linear_0.weight', tensor([[ 0.1317,  0.1395,  0.0889,  0.1193,  0.3415,  0.1054, -0.2274,  0.3401],\n",
      "        [ 0.0478,  0.0853,  0.3120, -0.2801,  0.2411,  0.2904, -0.0937, -0.1940],\n",
      "        [-0.0387, -0.3392, -0.2349,  0.2113, -0.0246,  0.0070,  0.1454, -0.1515],\n",
      "        [-0.2384, -0.3398, -0.1222,  0.0143,  0.3431, -0.1546, -0.2352,  0.0780]])), ('linear_0.bias', tensor([-0.0178,  0.1443,  0.0431, -0.0897])), ('linear_1.weight', tensor([[-0.4924,  0.2745,  0.3321, -0.0553],\n",
      "        [-0.2487,  0.1966, -0.0376, -0.2796]])), ('linear_1.bias', tensor([0.2367, 0.0529]))])\n",
      "Getting quote for operation...\n",
      "Quote cost is 4418 unil\n",
      "Submitting payment receipt 4418 unil, tx hash 5A23C36E48431BD5FAF6F67A6E5A9915DF039563A62FC5964A62CD73F851DB5E\n",
      "Getting quote for operation...\n",
      "Quote cost is 770 unil\n",
      "Submitting payment receipt 770 unil, tx hash 4E330EF0CABBD6F5FBFEFCDCB850BBEC3D4C032FDFA3E06E98BADF6CE27D4ED9\n",
      "Computing using program 3rgqxWd47e171EUwe4RXP9hm45tmoXfuF8fC52S7jcFoQTnU8wPiL7hqWzyV1muak6bEg7iWhudwg4t2pM9XnXcp/neural_net\n",
      "Use secret store_id: fda2d7d4-934e-4bf4-aca2-debb42f4072e 2e5a1428-3edd-41da-b138-7bd8a72697cb\n",
      "Getting quote for operation...\n",
      "Quote cost is 118 unil\n",
      "Submitting payment receipt 118 unil, tx hash 78C0F2AEB93833D0361ED55ED0F49FD073A4A7D1AD9AA129FBF496E13818F507\n",
      "✅ Compute complete for compute_id a38c8bca-114b-495b-af65-ffc915620d59\n",
      "🖥️  The result is {'my_output_0': -7491, 'my_output_1': -6051}\n",
      "🖥️  The processed result is [-0.1143035888671875, -0.0923309326171875] @ 16-bit precision\n",
      "🖥️  VS expected result [-0.11429667472839355, -0.09231710433959961]\n"
     ]
    }
   ],
   "source": [
    "!python3 main.py"
   ]
  },
  {
   "cell_type": "markdown",
   "metadata": {
    "id": "Xsjs6dTlv_7M"
   },
   "source": [
    "Excuse my French but voilà, we did it!!\n",
    "\n",
    "To recap, in this example we:\n",
    "- Set up and installed all necessary Nillion libraries and dependencies.\n",
    "- Created and built a Nada program using Nillion's `nada-dsl` and the `nada-ai` library.\n",
    "- Tested the behaviour of the Nada program.\n",
    "- Ran a Python script that ran a Nada program on a local devnet using Nillion's `py_nillion_client`."
   ]
  }
 ],
 "metadata": {
  "colab": {
   "provenance": []
  },
  "kernelspec": {
   "display_name": "venv",
   "language": "python",
   "name": "python3"
  },
  "language_info": {
   "codemirror_mode": {
    "name": "ipython",
    "version": 3
   },
   "file_extension": ".py",
   "mimetype": "text/x-python",
   "name": "python",
   "nbconvert_exporter": "python",
   "pygments_lexer": "ipython3",
   "version": "3.12.2"
  }
 },
 "nbformat": 4,
 "nbformat_minor": 0
}