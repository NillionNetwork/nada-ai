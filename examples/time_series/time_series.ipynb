{
 "cells": [
  {
   "cell_type": "markdown",
   "metadata": {
    "id": "tOKatV-Av_7J"
   },
   "source": [
    "# 👋 Welcome to Nillion's Nada AI time series example"
   ]
  },
  {
   "cell_type": "markdown",
   "metadata": {
    "id": "s1idKo5Rv_7K"
   },
   "source": [
    "[![Open in Colab](https://colab.research.google.com/assets/colab-badge.svg)](https://colab.research.google.com/github/NillionNetwork/nada-ai/blob/main/examples/time_series/time_series.ipynb)"
   ]
  },
  {
   "cell_type": "markdown",
   "metadata": {
    "id": "IeHr5pAHv_7K"
   },
   "source": [
    "This notebook will get you familiar with time series forecasting in `nada-ai`, Nillion's AI/ML framework on top of the Nada dsl\n",
    "\n",
    "We are really excited for developers to build with our SDK, if you have any questions please do reach out to us on:\n",
    "\n",
    "[![Discord](https://img.shields.io/badge/Discord-nillionnetwork-%235865F2?logo=discord)](https://discord.gg/nillionnetwork)\n",
    "[![GitHub Discussions](https://img.shields.io/badge/GitHub_Discussions-NillionNetwork-%23181717?logo=github)](https://github.com/orgs/NillionNetwork/discussions)"
   ]
  },
  {
   "cell_type": "markdown",
   "metadata": {
    "id": "gcgBmJtPv_7K"
   },
   "source": [
    "# 1. Set up environment"
   ]
  },
  {
   "cell_type": "markdown",
   "metadata": {
    "id": "vL85sjrzv_7K"
   },
   "source": [
    "The boring part!\n",
    "\n",
    "Installs all required dependencies and spins up a local devnet that will run Nada programs"
   ]
  },
  {
   "cell_type": "code",
   "execution_count": 1,
   "metadata": {
    "id": "o4PXBlE2v_7K",
    "colab": {
     "base_uri": "https://localhost:8080/"
    },
    "outputId": "6f7b61e8-2281-497c-8bd7-5c471afe5889"
   },
   "outputs": [
    {
     "output_type": "stream",
     "name": "stdout",
     "text": [
      "\u001b[2K     \u001b[90m━━━━━━━━━━━━━━━━━━━━━━━━━━━━━━━━━━━━━━━━\u001b[0m \u001b[32m54.8/54.8 kB\u001b[0m \u001b[31m2.0 MB/s\u001b[0m eta \u001b[36m0:00:00\u001b[0m\n",
      "\u001b[2K     \u001b[90m━━━━━━━━━━━━━━━━━━━━━━━━━━━━━━━━━━━━━━━━\u001b[0m \u001b[32m18.2/18.2 MB\u001b[0m \u001b[31m18.1 MB/s\u001b[0m eta \u001b[36m0:00:00\u001b[0m\n",
      "\u001b[2K     \u001b[90m━━━━━━━━━━━━━━━━━━━━━━━━━━━━━━━━━━━━━━━━\u001b[0m \u001b[32m12.6/12.6 MB\u001b[0m \u001b[31m4.3 MB/s\u001b[0m eta \u001b[36m0:00:00\u001b[0m\n",
      "\u001b[2K     \u001b[90m━━━━━━━━━━━━━━━━━━━━━━━━━━━━━━━━━━━━━━━━\u001b[0m \u001b[32m13.4/13.4 MB\u001b[0m \u001b[31m83.5 MB/s\u001b[0m eta \u001b[36m0:00:00\u001b[0m\n",
      "\u001b[2K     \u001b[90m━━━━━━━━━━━━━━━━━━━━━━━━━━━━━━━━━━━━━━━━\u001b[0m \u001b[32m413.1/413.1 kB\u001b[0m \u001b[31m31.7 MB/s\u001b[0m eta \u001b[36m0:00:00\u001b[0m\n",
      "\u001b[2K     \u001b[90m━━━━━━━━━━━━━━━━━━━━━━━━━━━━━━━━━━━━━━━━\u001b[0m \u001b[32m294.6/294.6 kB\u001b[0m \u001b[31m26.3 MB/s\u001b[0m eta \u001b[36m0:00:00\u001b[0m\n",
      "\u001b[2K     \u001b[90m━━━━━━━━━━━━━━━━━━━━━━━━━━━━━━━━━━━━━━━━\u001b[0m \u001b[32m21.3/21.3 MB\u001b[0m \u001b[31m57.5 MB/s\u001b[0m eta \u001b[36m0:00:00\u001b[0m\n",
      "\u001b[2K     \u001b[90m━━━━━━━━━━━━━━━━━━━━━━━━━━━━━━━━━━━━━━━━\u001b[0m \u001b[32m149.3/149.3 kB\u001b[0m \u001b[31m16.0 MB/s\u001b[0m eta \u001b[36m0:00:00\u001b[0m\n",
      "\u001b[2K     \u001b[90m━━━━━━━━━━━━━━━━━━━━━━━━━━━━━━━━━━━━━━━━\u001b[0m \u001b[32m2.1/2.1 MB\u001b[0m \u001b[31m73.1 MB/s\u001b[0m eta \u001b[36m0:00:00\u001b[0m\n",
      "\u001b[?25h\u001b[31mERROR: pip's dependency resolver does not currently take into account all the packages that are installed. This behaviour is the source of the following dependency conflicts.\n",
      "tensorflow-metadata 1.15.0 requires protobuf<4.21,>=3.20.3; python_version < \"3.11\", but you have protobuf 4.25.3 which is incompatible.\u001b[0m\u001b[31m\n",
      "\u001b[0m"
     ]
    }
   ],
   "source": [
    "%pip install nada-ai==0.3.0 --quiet"
   ]
  },
  {
   "cell_type": "code",
   "execution_count": 2,
   "metadata": {
    "id": "rmTAavFov_7L"
   },
   "outputs": [],
   "source": [
    "my_identifier = \"your-telemetry-identifier\""
   ]
  },
  {
   "cell_type": "code",
   "execution_count": 3,
   "metadata": {
    "colab": {
     "base_uri": "https://localhost:8080/"
    },
    "id": "GcsYIHINv_7L",
    "outputId": "ead6b217-274c-499e-8f54-075280632149"
   },
   "outputs": [
    {
     "output_type": "stream",
     "name": "stdout",
     "text": [
      "  % Total    % Received % Xferd  Average Speed   Time    Time     Time  Current\n",
      "                                 Dload  Upload   Total   Spent    Left  Speed\n",
      "100  7810  100  7810    0     0   7426      0  0:00:01  0:00:01 --:--:--  7431\n",
      "\n",
      "nilup has been installed into /root/.nilup/bin and added to your $PATH in /root/.bashrc.\n",
      "\n",
      "Run 'source /root/.bashrc' or start a new terminal session to use nilup.\n",
      "\n",
      "By providing your Ethereum wallet address, you consent to the collection of telemetry data by the Nillion Network.\n",
      "That includes but is not limited to\n",
      "- The version of the SDK you are using\n",
      "- The OS you are using\n",
      "- The Processor Architecture you are using\n",
      "- The SDK binary that you are running and the subcommand\n",
      "- The wallet address you provided\n",
      "- The errors produced by the SDK\n",
      "We collect this data to understand how the software is used, and to better assist you in case of issues.\n",
      "While we will not collect any personal information, we still recommend using a new wallet address that cannot be linked to your identity by any third party.\n",
      "For more information, our privacy policy is available at https://nillion.com/privacy/.\n",
      "Do you consent to the collection of telemetry data? (yes/no)\n",
      "Telemetry data collection enabled\n",
      "Installing SDK bins version latest\n",
      "Downloading latest/nillion-sdk-bins-x86_64-unknown-linux-musl.tar.gz\n",
      "SDK version latest installed\n",
      "SDK version latest set as default\n",
      "SDK version latest already installed\n",
      "Reinstalling SDK version latest\n",
      "Installing SDK bins version latest\n",
      "Downloading latest/nillion-sdk-bins-x86_64-unknown-linux-musl.tar.gz\n",
      "SDK version latest installed\n",
      "SDK version latest set as default\n"
     ]
    }
   ],
   "source": [
    "# Install the nilup tool and then use that to install the Nillion SDK\n",
    "!curl https://nilup.nilogy.xyz/install.sh | bash\n",
    "!export PATH=$PATH:/root/.nilup/bin\n",
    "\n",
    "identifier = \"nada-ai-time-series\" + my_identifier\n",
    "\n",
    "# Enable telemetry using the identifier you have set above\n",
    "!echo 'yes' | /root/.nilup/bin/nilup instrumentation enable --wallet {identifier}\n",
    "\n",
    "# Install the lastest SDK and initialise it\n",
    "!/root/.nilup/bin/nilup init\n",
    "!/root/.nilup/bin/nilup install latest\n",
    "!/root/.nilup/bin/nilup use latest"
   ]
  },
  {
   "cell_type": "code",
   "execution_count": 4,
   "metadata": {
    "colab": {
     "base_uri": "https://localhost:8080/"
    },
    "id": "L3CluM_vv_7L",
    "outputId": "92295beb-0c13-4b5e-fac6-166c522b31a5"
   },
   "outputs": [
    {
     "output_type": "stream",
     "name": "stdout",
     "text": [
      "nohup: appending output to 'nohup.out'\n",
      "# Nillion devnet parameters\n",
      "NILLION_CLUSTER_ID=9e68173f-9c23-4acc-ba81-4f079b639964\n",
      "NILLION_BOOTNODE_MULTIADDRESS=/ip4/127.0.0.1/tcp/37939/p2p/12D3KooWMvw1hEqm7EWSDEyqTb6pNetUVkepahKY6hixuAuMZfJS\n",
      "NILLION_BOOTNODE_WEBSOCKET=/ip4/127.0.0.1/tcp/54936/ws/p2p/12D3KooWMvw1hEqm7EWSDEyqTb6pNetUVkepahKY6hixuAuMZfJS\n",
      "NILLION_NILCHAIN_CHAIN_ID=nillion-chain-devnet\n",
      "NILLION_NILCHAIN_JSON_RPC=http://127.0.0.1:48102\n",
      "NILLION_NILCHAIN_REST_API=http://localhost:26650\n",
      "NILLION_NILCHAIN_GRPC=localhost:26649\n",
      "NILLION_NILCHAIN_PRIVATE_KEY_0=9a975f567428d054f2bf3092812e6c42f901ce07d9711bc77ee2cd81101f42c5\n",
      "NILLION_NILCHAIN_PRIVATE_KEY_1=1e491133b9408b39572a29f91644873decea554224b20e2b0b923aeb860a1c18\n",
      "NILLION_NILCHAIN_PRIVATE_KEY_2=980488572f235316cdb330191f8bafe4e635efbe88b3a40f5bee9bd21047c059\n",
      "NILLION_NILCHAIN_PRIVATE_KEY_3=612bb5173dc60d9e91404fcc0d1f1847fb4459a7d5160d63d84e91aacbf2ab2f\n",
      "NILLION_NILCHAIN_PRIVATE_KEY_4=04f5a984eeea9dce4e5e907da69c01a61568e3071b1a91cbed89225f9fd913b5\n",
      "NILLION_NILCHAIN_PRIVATE_KEY_5=5f992c58921f4af83b4c6b650c4914626664cd02020577b0ada49cfa00d2c8a4\n",
      "NILLION_NILCHAIN_PRIVATE_KEY_6=8f0297d3bb647eb59b95b29550b2aebbedd9be2c954b000e772efe8c9318a42d\n",
      "NILLION_NILCHAIN_PRIVATE_KEY_7=c395243df9bb68dc809668efe4125f0eb017771ed8e3747b8d6860551913fecb\n",
      "NILLION_NILCHAIN_PRIVATE_KEY_8=4bb5eaa799e24ae2b48545c41331921afe7e6a8dd7a850f5fbeb20a8226664ec\n",
      "NILLION_NILCHAIN_PRIVATE_KEY_9=ef4b944d4fdb0077057925fe2dde365dfa2c83cf320463b14589feccd1b2b938\n"
     ]
    }
   ],
   "source": [
    "import time\n",
    "\n",
    "# Spin up local Nillion devnet\n",
    "!nohup /root/.nilup/sdks/latest/nillion-devnet &\n",
    "\n",
    "time.sleep(20)\n",
    "\n",
    "!cat /root/.config/nillion/nillion-devnet.env"
   ]
  },
  {
   "cell_type": "code",
   "execution_count": 5,
   "metadata": {
    "id": "4teHBr6W5_Mz",
    "colab": {
     "base_uri": "https://localhost:8080/"
    },
    "outputId": "022a5639-4897-4d53-cc42-0274fbd4ebe3"
   },
   "outputs": [
    {
     "output_type": "stream",
     "name": "stdout",
     "text": [
      "Cloning into 'nada-ai'...\n",
      "remote: Enumerating objects: 1412, done.\u001b[K\n",
      "remote: Counting objects: 100% (209/209), done.\u001b[K\n",
      "remote: Compressing objects: 100% (177/177), done.\u001b[K\n",
      "remote: Total 1412 (delta 53), reused 52 (delta 24), pack-reused 1203\u001b[K\n",
      "Receiving objects: 100% (1412/1412), 1.05 MiB | 3.03 MiB/s, done.\n",
      "Resolving deltas: 100% (814/814), done.\n"
     ]
    }
   ],
   "source": [
    "import os\n",
    "import sys\n",
    "\n",
    "if \"google.colab\" in sys.modules:\n",
    "    # If ran in Colab, clone the nada-ai repo and navigate to the correct directory\n",
    "    if not os.path.exists(\"nada-ai\"):\n",
    "        !git clone https://github.com/NillionNetwork/nada-ai.git\n",
    "    os.chdir(\"nada-ai/examples/time_series\")"
   ]
  },
  {
   "cell_type": "markdown",
   "metadata": {
    "id": "QluoKNsev_7L"
   },
   "source": [
    "# 2. Build Nada program"
   ]
  },
  {
   "cell_type": "markdown",
   "metadata": {
    "id": "rOUmgVosv_7L"
   },
   "source": [
    "We will now build the Nada program specified under `src/time_series.py`\n",
    "\n",
    "You will see that it uses both our `nada-dsl` and `nada-ai`."
   ]
  },
  {
   "cell_type": "code",
   "execution_count": 6,
   "metadata": {
    "colab": {
     "base_uri": "https://localhost:8080/"
    },
    "id": "RT37dfFhv_7L",
    "outputId": "e84f9bba-3f44-4dfa-ad0b-2531726b1560"
   },
   "outputs": [
    {
     "output_type": "stream",
     "name": "stdout",
     "text": [
      "Building program: \u001b[1m\u001b[32mtime_series\u001b[39m\u001b[0m\n",
      "\u001b[1;32mBuild complete!\u001b[0m\n"
     ]
    }
   ],
   "source": [
    "!/root/.nilup/sdks/latest/nada build"
   ]
  },
  {
   "cell_type": "code",
   "execution_count": 7,
   "metadata": {
    "colab": {
     "base_uri": "https://localhost:8080/"
    },
    "id": "TkWJ_oikv_7M",
    "outputId": "7e642167-298d-44a4-ed41-cbbeb0c91e61"
   },
   "outputs": [
    {
     "output_type": "stream",
     "name": "stdout",
     "text": [
      "time_series.nada.bin\n"
     ]
    }
   ],
   "source": [
    "# You will see that the program was compiled in a .nada.bin file\n",
    "!ls target | grep time_series"
   ]
  },
  {
   "cell_type": "markdown",
   "metadata": {
    "id": "Y6uqc2ZJv_7M"
   },
   "source": [
    "# 3. (optional) Test Nada program"
   ]
  },
  {
   "cell_type": "markdown",
   "metadata": {
    "id": "D0CCBvPhv_7M"
   },
   "source": [
    "This step is optional but we can now test whether our newly compiled program behaves as expected!\n",
    "\n",
    "Under `tests/time_series.yaml`, you will see a test file with provided inputs and expected outputs. We will now test whether if we provide the program with those inputs, the program returns the expected outputs or not.\n",
    "\n",
    "*Note for the nerds: nada testing runs programs on a simulator instead of a network. This means that you can test programs without having a local devnet running!!*"
   ]
  },
  {
   "cell_type": "code",
   "execution_count": 8,
   "metadata": {
    "colab": {
     "base_uri": "https://localhost:8080/"
    },
    "id": "PirYmsCTv_7M",
    "outputId": "5f6a4080-b0c4-498f-d620-6e19fc5c9b4f"
   },
   "outputs": [
    {
     "output_type": "stream",
     "name": "stdout",
     "text": [
      "Running test: \u001b[1m\u001b[32mtime_series\u001b[39m\u001b[0m\n",
      "Building ...\n",
      "Running ...\n",
      "time_series: \u001b[1;32mPASS\u001b[0m\n",
      "\n"
     ]
    }
   ],
   "source": [
    "!/root/.nilup/sdks/latest/nada test"
   ]
  },
  {
   "cell_type": "markdown",
   "metadata": {
    "id": "xZUGIJWyv_7M"
   },
   "source": [
    "# 4. Run Nada program"
   ]
  },
  {
   "cell_type": "markdown",
   "metadata": {
    "id": "UGiCRTDOv_7M"
   },
   "source": [
    "The time has come to take our Nada program for a spin!\n",
    "\n",
    "You will see that `main.py` contains some python logic that wants to interface with our brand spanking new Nada program. It uses Nillion's Python SDK to store and run the program on a local devnet."
   ]
  },
  {
   "cell_type": "code",
   "execution_count": 9,
   "metadata": {
    "colab": {
     "base_uri": "https://localhost:8080/"
    },
    "id": "pg15Av1Fv_7M",
    "outputId": "d5024a1a-cb06-4af1-9e9c-c044553ab135"
   },
   "outputs": [
    {
     "output_type": "stream",
     "name": "stdout",
     "text": [
      "Getting quote for operation...\n",
      "Submitting payment receipt 2 unil, tx hash 3A493BADFE5A388D01EEC629B346C37334C082B626221D5F0113E2AAD6D2FD99\n",
      "Stored program. action_id: 3rgqxWd47e171EUwe4RXP9hm45tmoXfuF8fC52S7jcFoQTnU8wPiL7hqWzyV1muak6bEg7iWhudwg4t2pM9XnXcp/time_series\n",
      "Stored program_id: 3rgqxWd47e171EUwe4RXP9hm45tmoXfuF8fC52S7jcFoQTnU8wPiL7hqWzyV1muak6bEg7iWhudwg4t2pM9XnXcp/time_series\n",
      "15:47:23 - cmdstanpy - INFO - Chain [1] start processing\n",
      "15:47:34 - cmdstanpy - INFO - Chain [1] done processing\n",
      "Model params are: OrderedDict([('lp__', array([[479.016]])), ('k', array([[0.916143]])), ('m', array([[0.0588333]])), ('delta', array([[ 1.58304e-13,  5.78534e-02,  5.72318e-04,  5.26008e-04,\n",
      "        -5.89517e-02,  8.15793e-14, -1.89030e-13,  2.21183e-13,\n",
      "         5.78534e-02,  5.72318e-04,  5.26008e-04, -5.89517e-02]])), ('sigma_obs', array([[4.3832e-13]])), ('beta', array([[ 1.69783e-03,  2.10067e-03,  7.04999e-05, -3.63834e-04,\n",
      "         3.88151e-04, -1.82080e-04]])), ('trend', array([[0.0588333, 0.116092 , 0.173351 , 0.234226 , 0.295137 , 0.35608  ,\n",
      "        0.413339 , 0.470598 , 0.527857 , 0.585116 , 0.645991 , 0.706901 ,\n",
      "        0.767845 , 0.825104 , 0.882363 , 0.939622 , 0.996881 ]]))])\n",
      "Number of detected changepoints: 12\n",
      "Getting quote for operation...\n",
      "Quote cost is 3170 unil\n",
      "Submitting payment receipt 3170 unil, tx hash F02C884AE10A0DF334523358CB3889D5AF3A92B790A27B183EBDEBC2EA96D7DB\n",
      "Getting quote for operation...\n",
      "Quote cost is 3842 unil\n",
      "Submitting payment receipt 3842 unil, tx hash F9E76F89B11F7CA6B8DE225326CE7BA40969F33339632108A1F97B67B723FB5E\n",
      "Computing using program 3rgqxWd47e171EUwe4RXP9hm45tmoXfuF8fC52S7jcFoQTnU8wPiL7hqWzyV1muak6bEg7iWhudwg4t2pM9XnXcp/time_series\n",
      "Use secret store_id: 9036205b-3d05-4318-825f-848242ec8fdf 90897e5b-7c80-4542-a6e6-00f0eb03b5a1\n",
      "Getting quote for operation...\n",
      "Quote cost is 3478 unil\n",
      "Submitting payment receipt 3478 unil, tx hash CE00A6C0B78B05E4D0D22E210C1870879FD862C019D9F06D416C2DC5171D7FB7\n",
      "✅ Compute complete for compute_id 5c6a8a2f-a3ba-449a-a1d7-7b7762a060dc\n",
      "🖥️  The result is {'my_output_6': 458712, 'my_output_13': 917423, 'my_output_11': 786336, 'my_output_0': 65536, 'my_output_16': 1114045, 'my_output_4': 327608, 'my_output_5': 393177, 'my_output_17': 1175534, 'my_output_15': 1048510, 'my_output_9': 655300, 'my_output_3': 262107, 'my_output_8': 589799, 'my_output_2': 196589, 'my_output_18': 1236989, 'my_output_14': 982975, 'my_output_1': 131071, 'my_output_19': 1298444, 'my_output_7': 524247, 'my_output_10': 720835, 'my_output_12': 851905}\n",
      "🖥️  The processed result is [1.0, 1.9999847412109375, 2.9997100830078125, 3.9994354248046875, 4.9989013671875, 5.9994049072265625, 6.9993896484375, 7.9993743896484375, 8.999618530273438, 9.99908447265625, 10.999069213867188, 11.99853515625, 12.999038696289062, 13.998764038085938, 14.999008178710938, 15.998992919921875, 16.998977661132812, 17.937225341796875, 18.874954223632812, 19.81268310546875] @ 16-bit precision\n",
      "🖥️  VS expected result [ 0.99999939  1.99999889  2.99999837  3.99999782  4.99999729  5.99999676\n",
      "  6.99999624  7.99999578  8.99999531  9.99999481 10.99999429 11.99999379\n",
      " 12.99999329 13.9999928  14.99999237 15.99999192 16.99999145 17.93852172\n",
      " 18.87644392 19.81380723]\n"
     ]
    }
   ],
   "source": [
    "!python3 main.py"
   ]
  },
  {
   "cell_type": "markdown",
   "metadata": {
    "id": "Xsjs6dTlv_7M"
   },
   "source": [
    "Excuse my French but voilà, we did it!!\n",
    "\n",
    "To recap, in this example we:\n",
    "- Set up and installed all necessary Nillion libraries and dependencies.\n",
    "- Created and built a Nada program using Nillion's `nada-dsl` and the `nada-ai` library.\n",
    "- Tested the behaviour of the Nada program.\n",
    "- Ran a Python script that ran a Nada program on a local devnet using Nillion's `py_nillion_client`."
   ]
  }
 ],
 "metadata": {
  "colab": {
   "provenance": []
  },
  "kernelspec": {
   "display_name": "venv",
   "language": "python",
   "name": "python3"
  },
  "language_info": {
   "codemirror_mode": {
    "name": "ipython",
    "version": 3
   },
   "file_extension": ".py",
   "mimetype": "text/x-python",
   "name": "python",
   "nbconvert_exporter": "python",
   "pygments_lexer": "ipython3",
   "version": "3.12.2"
  }
 },
 "nbformat": 4,
 "nbformat_minor": 0
}