{
  "cells": [
    {
      "cell_type": "markdown",
      "metadata": {
        "id": "tOKatV-Av_7J"
      },
      "source": [
        "# 👋 Welcome to Nillion's Nada AI time series example"
      ]
    },
    {
      "cell_type": "markdown",
      "metadata": {
        "id": "s1idKo5Rv_7K"
      },
      "source": [
        "[![Open in Colab](https://colab.research.google.com/assets/colab-badge.svg)](https://colab.research.google.com/github/NillionNetwork/nada-ai/blob/main/examples/time_series/time_series.ipynb)"
      ]
    },
    {
      "cell_type": "markdown",
      "metadata": {
        "id": "IeHr5pAHv_7K"
      },
      "source": [
        "This notebook will get you familiar with time series forecasting in `nada-ai`, Nillion's AI/ML framework on top of the Nada dsl\n",
        "\n",
        "We are really excited for developers to build with our SDK, if you have any questions please do reach out to us on:\n",
        "\n",
        "[![Discord](https://img.shields.io/badge/Discord-nillionnetwork-%235865F2?logo=discord)](https://discord.gg/nillionnetwork)\n",
        "[![GitHub Discussions](https://img.shields.io/badge/GitHub_Discussions-NillionNetwork-%23181717?logo=github)](https://github.com/orgs/NillionNetwork/discussions)"
      ]
    },
    {
      "cell_type": "markdown",
      "metadata": {
        "id": "gcgBmJtPv_7K"
      },
      "source": [
        "# 1. Set up environment"
      ]
    },
    {
      "cell_type": "markdown",
      "metadata": {
        "id": "vL85sjrzv_7K"
      },
      "source": [
        "The boring part!\n",
        "\n",
        "Installs all required dependencies and spins up a local devnet that will run Nada programs"
      ]
    },
    {
      "cell_type": "code",
      "execution_count": 1,
      "metadata": {
        "colab": {
          "base_uri": "https://localhost:8080/"
        },
        "id": "o4PXBlE2v_7K",
        "outputId": "036c73f6-22c0-4868-ee69-869b987ed74a"
      },
      "outputs": [],
      "source": [
        "%%capture\n",
        "!pip install nada-ai~=0.3.0"
      ]
    },
    {
      "cell_type": "code",
      "execution_count": 2,
      "metadata": {
        "id": "rmTAavFov_7L"
      },
      "outputs": [],
      "source": [
        "import os\n",
        "import time\n",
        "import sys\n",
        "import uuid"
      ]
    },
    {
      "cell_type": "code",
      "execution_count": 3,
      "metadata": {
        "id": "JxZ3jfRYBlmE"
      },
      "outputs": [],
      "source": [
        "# Configure telemetry settings\n",
        "enable_telemetry = True  #@param {type:\"boolean\"}\n",
        "my_github_username = \"your-github-username\"  #@param {type:\"string\"}"
      ]
    },
    {
      "cell_type": "code",
      "execution_count": 4,
      "metadata": {
        "colab": {
          "base_uri": "https://localhost:8080/"
        },
        "id": "GcsYIHINv_7L",
        "outputId": "34d821e1-96f2-4584-88d5-5abbee1d1d9e"
      },
      "outputs": [
        {
          "name": "stdout",
          "output_type": "stream",
          "text": [
            "  % Total    % Received % Xferd  Average Speed   Time    Time     Time  Current\n",
            "                                 Dload  Upload   Total   Spent    Left  Speed\n",
            "100  7810  100  7810    0     0  13485      0 --:--:-- --:--:-- --:--:-- 13512\n",
            "\n",
            "nilup has been installed into /root/.nilup/bin and added to your $PATH in /root/.bashrc.\n",
            "\n",
            "Run 'source /root/.bashrc' or start a new terminal session to use nilup.\n",
            "\n",
            "By providing your Ethereum wallet address, you consent to the collection of telemetry data by the Nillion Network.\n",
            "That includes but is not limited to\n",
            "- The version of the SDK you are using\n",
            "- The OS you are using\n",
            "- The Processor Architecture you are using\n",
            "- The SDK binary that you are running and the subcommand\n",
            "- The wallet address you provided\n",
            "- The errors produced by the SDK\n",
            "We collect this data to understand how the software is used, and to better assist you in case of issues.\n",
            "While we will not collect any personal information, we still recommend using a new wallet address that cannot be linked to your identity by any third party.\n",
            "For more information, our privacy policy is available at https://nillion.com/privacy/.\n",
            "Do you consent to the collection of telemetry data? (yes/no)\n",
            "Telemetry data collection enabled\n",
            "Installing SDK bins version latest\n",
            "Downloading latest/nillion-sdk-bins-x86_64-unknown-linux-musl.tar.gz\n",
            "SDK version latest installed\n",
            "SDK version latest set as default\n",
            "SDK version latest already installed\n",
            "Reinstalling SDK version latest\n",
            "Installing SDK bins version latest\n",
            "Downloading latest/nillion-sdk-bins-x86_64-unknown-linux-musl.tar.gz\n",
            "SDK version latest installed\n",
            "SDK version latest set as default\n"
          ]
        }
      ],
      "source": [
        "# Install the nilup tool and then use that to install the Nillion SDK\n",
        "!curl https://nilup.nilogy.xyz/install.sh | bash\n",
        "\n",
        "# Update Path if ran in colab\n",
        "if \"google.colab\" in sys.modules:\n",
        "    os.environ[\"PATH\"] += \":/root/.nilup/bin\"\n",
        "    os.environ[\"PATH\"] += \":/root/.nilup/sdks/latest/\"\n",
        "\n",
        "# Set telemetry if opted in\n",
        "if enable_telemetry:\n",
        "    identifier = f\"nada-ai-time-series-{str(uuid.uuid4())}-{my_github_username}\"\n",
        "    !echo 'yes' | nilup instrumentation enable --wallet {identifier}\n",
        "\n",
        "# Install the lastest SDK and initialise it\n",
        "!nilup init\n",
        "!nilup install latest\n",
        "!nilup use latest"
      ]
    },
    {
      "cell_type": "code",
      "execution_count": 5,
      "metadata": {
        "colab": {
          "base_uri": "https://localhost:8080/"
        },
        "id": "L3CluM_vv_7L",
        "outputId": "5711943e-0610-46dd-c5ef-f284dbb0a7df"
      },
      "outputs": [
        {
          "name": "stdout",
          "output_type": "stream",
          "text": [
            "nohup: appending output to 'nohup.out'\n"
          ]
        }
      ],
      "source": [
        "# Spin up local Nillion devnet\n",
        "!nohup nillion-devnet &\n",
        "\n",
        "time.sleep(20)  # Wait for devnet"
      ]
    },
    {
      "cell_type": "code",
      "execution_count": 6,
      "metadata": {
        "colab": {
          "base_uri": "https://localhost:8080/"
        },
        "id": "4teHBr6W5_Mz",
        "outputId": "5b0684da-f21e-49f8-ee44-6ab2846f6cae"
      },
      "outputs": [
        {
          "name": "stdout",
          "output_type": "stream",
          "text": [
            "Cloning into 'nada-ai'...\n",
            "remote: Enumerating objects: 1483, done.\u001b[K\n",
            "remote: Counting objects: 100% (280/280), done.\u001b[K\n",
            "remote: Compressing objects: 100% (212/212), done.\u001b[K\n",
            "remote: Total 1483 (delta 94), reused 115 (delta 53), pack-reused 1203\u001b[K\n",
            "Receiving objects: 100% (1483/1483), 1.51 MiB | 5.28 MiB/s, done.\n",
            "Resolving deltas: 100% (855/855), done.\n"
          ]
        }
      ],
      "source": [
        "if \"google.colab\" in sys.modules:\n",
        "    # If ran in Colab, clone the nada-ai repo and navigate to the correct directory\n",
        "    if not os.path.exists(\"nada-ai\"):\n",
        "        !git clone https://github.com/NillionNetwork/nada-ai.git\n",
        "    os.chdir(\"nada-ai/examples/time_series\")"
      ]
    },
    {
      "cell_type": "markdown",
      "metadata": {
        "id": "QluoKNsev_7L"
      },
      "source": [
        "# 2. Build Nada program"
      ]
    },
    {
      "cell_type": "markdown",
      "metadata": {
        "id": "rOUmgVosv_7L"
      },
      "source": [
        "We will now build the Nada program specified under `src/time_series.py`\n",
        "\n",
        "You will see that it uses both our `nada-dsl` and `nada-ai`."
      ]
    },
    {
      "cell_type": "code",
      "execution_count": 7,
      "metadata": {
        "colab": {
          "base_uri": "https://localhost:8080/"
        },
        "id": "RT37dfFhv_7L",
        "outputId": "b4c9dfae-9dac-4f9f-8111-750cedcbb47f"
      },
      "outputs": [
        {
          "name": "stdout",
          "output_type": "stream",
          "text": [
            "Building program: \u001b[1m\u001b[32mtime_series\u001b[39m\u001b[0m\n",
            "\u001b[1;32mBuild complete!\u001b[0m\n"
          ]
        }
      ],
      "source": [
        "!nada build"
      ]
    },
    {
      "cell_type": "code",
      "execution_count": 8,
      "metadata": {
        "colab": {
          "base_uri": "https://localhost:8080/"
        },
        "id": "TkWJ_oikv_7M",
        "outputId": "92e5a23e-a45f-41fc-a2d0-0748f6a930bf"
      },
      "outputs": [
        {
          "name": "stdout",
          "output_type": "stream",
          "text": [
            "time_series.nada.bin\n"
          ]
        }
      ],
      "source": [
        "# You will see that the program was compiled in a .nada.bin file\n",
        "!ls target | grep time_series"
      ]
    },
    {
      "cell_type": "markdown",
      "metadata": {
        "id": "Y6uqc2ZJv_7M"
      },
      "source": [
        "# 3. (optional) Test Nada program"
      ]
    },
    {
      "cell_type": "markdown",
      "metadata": {
        "id": "D0CCBvPhv_7M"
      },
      "source": [
        "This step is optional but we can now test whether our newly compiled program behaves as expected!\n",
        "\n",
        "Under `tests/time_series.yaml`, you will see a test file with provided inputs and expected outputs. We will now test whether if we provide the program with those inputs, the program returns the expected outputs or not.\n",
        "\n",
        "*Note for the nerds: nada testing runs programs on a simulator instead of a network. This means that you can test programs without having a local devnet running!!*"
      ]
    },
    {
      "cell_type": "code",
      "execution_count": 9,
      "metadata": {
        "colab": {
          "base_uri": "https://localhost:8080/"
        },
        "id": "PirYmsCTv_7M",
        "outputId": "ae7c6285-c8e7-4d1a-929c-a31aa6ac5b96"
      },
      "outputs": [
        {
          "name": "stdout",
          "output_type": "stream",
          "text": [
            "Running test: \u001b[1m\u001b[32mtime_series\u001b[39m\u001b[0m\n",
            "Building ...\n",
            "Running ...\n",
            "time_series: \u001b[1;32mPASS\u001b[0m\n",
            "\n"
          ]
        }
      ],
      "source": [
        "!nada test"
      ]
    },
    {
      "cell_type": "markdown",
      "metadata": {
        "id": "xZUGIJWyv_7M"
      },
      "source": [
        "# 4. Run Nada program"
      ]
    },
    {
      "cell_type": "markdown",
      "metadata": {
        "id": "UGiCRTDOv_7M"
      },
      "source": [
        "The time has come to take our Nada program for a spin!\n",
        "\n",
        "You will see that `main.py` contains some python logic that wants to interface with our brand spanking new Nada program. It uses Nillion's Python SDK to store and run the program on a local devnet."
      ]
    },
    {
      "cell_type": "code",
      "execution_count": 10,
      "metadata": {
        "colab": {
          "base_uri": "https://localhost:8080/"
        },
        "id": "pg15Av1Fv_7M",
        "outputId": "ba263214-7ff3-4117-81ef-b03d2e4d2fb0"
      },
      "outputs": [
        {
          "name": "stdout",
          "output_type": "stream",
          "text": [
            "15:11:42 - cmdstanpy - INFO - Chain [1] start processing\n",
            "15:11:42 - cmdstanpy - INFO - Chain [1] done processing\n",
            "Model params are: OrderedDict([('lp__', array([[4.73901]])), ('k', array([[0.5204]])), ('m', array([[-0.217024]])), ('delta', array([[-2.56431e-11, -3.73470e-11, -1.95397e-11,  6.99896e-11,\n",
            "        -1.07347e-10, -1.51705e-10,  8.95580e-11,  1.86840e-10,\n",
            "         4.34135e-11, -9.89233e-11, -1.60935e-10, -3.46885e-11]])), ('sigma_obs', array([[0.438835]])), ('beta', array([[ 0.371828 , -0.199597 , -0.0959081,  0.106609 , -0.05291  ,\n",
            "        -0.076244 ]])), ('trend', array([[-0.217024 , -0.184499 , -0.151974 , -0.119449 , -0.0869239,\n",
            "        -0.0543989, -0.0218739,  0.0106511,  0.043176 ,  0.075701 ,\n",
            "         0.108226 ,  0.140751 ,  0.173276 ,  0.205801 ,  0.238326 ,\n",
            "         0.270851 ,  0.303376 ]]))])\n",
            "Number of detected changepoints: 12\n",
            "Getting quote for operation...\n",
            "Submitting payment receipt 2 unil, tx hash 00FD1A71A68AAA3D21409DA9D210F91C5322A707F5F1BCC2476E9E6AB8473B36\n",
            "Stored program. action_id: 3rgqxWd47e171EUwe4RXP9hm45tmoXfuF8fC52S7jcFoQTnU8wPiL7hqWzyV1muak6bEg7iWhudwg4t2pM9XnXcp/time_series\n",
            "Stored program_id: 3rgqxWd47e171EUwe4RXP9hm45tmoXfuF8fC52S7jcFoQTnU8wPiL7hqWzyV1muak6bEg7iWhudwg4t2pM9XnXcp/time_series\n",
            "Getting quote for operation...\n",
            "Quote cost is 3170 unil\n",
            "Submitting payment receipt 3170 unil, tx hash 04E6D2514BCEA9A72EE421328E704C1A20EFF68667BB01707B8BD12C4DB394D5\n",
            "Getting quote for operation...\n",
            "Quote cost is 3842 unil\n",
            "Submitting payment receipt 3842 unil, tx hash 83F5E40382DD7070359738EE1BC9D493021C7A130E168C778F50191F180211B4\n",
            "Computing using program 3rgqxWd47e171EUwe4RXP9hm45tmoXfuF8fC52S7jcFoQTnU8wPiL7hqWzyV1muak6bEg7iWhudwg4t2pM9XnXcp/time_series\n",
            "Use secret store_id: 426a8b2d-dc26-40bb-b7a8-46cc70572495 912f5625-9b89-489d-b6ec-b3f5d875f9b1\n",
            "Getting quote for operation...\n",
            "Quote cost is 3478 unil\n",
            "Submitting payment receipt 3478 unil, tx hash 3C824D93B6F89AD57DE9AA8638519E646D5900BEC402D7AAFF14EE781266815B\n",
            "✅ Compute complete for compute_id b51822e8-4402-4f59-a75d-e5b052b9a362\n",
            "🖥️  The result is {'my_output_9': 1083685, 'my_output_3': 1442003, 'my_output_4': 2295215, 'my_output_18': 5189889, 'my_output_13': -2154272, 'my_output_11': 3742552, 'my_output_8': -801413, 'my_output_15': 645924, 'my_output_12': 1600792, 'my_output_7': -1545306, 'my_output_10': 2889340, 'my_output_6': -3601609, 'my_output_19': 3048129, 'my_output_17': 4336677, 'my_output_16': 2531022, 'my_output_14': -97969, 'my_output_5': 153455, 'my_output_1': -2248750, 'my_output_0': -2992546, 'my_output_2': -363652}\n",
            "🖥️  The processed result is [-45.662628173828125, -34.313201904296875, -5.54888916015625, 22.003219604492188, 35.02220153808594, 2.3415374755859375, -54.95619201660156, -23.579498291015625, -12.228591918945312, 16.535720825195312, 44.08782958984375, 57.1068115234375, 24.4261474609375, -32.87158203125, -1.4948883056640625, 9.85601806640625, 38.620330810546875, 66.17243957519531, 79.19142150878906, 46.51075744628906] @ 16-bit precision\n",
            "🖥️  VS expected result [-45.66241263 -34.311907    -5.54872919  22.0056071   35.0240667\n",
            "   2.34124383 -54.95373982 -23.57793764 -12.227432    16.5357458\n",
            "  44.0900821   57.1085417   24.42571883 -32.86926482  -1.49346264\n",
            "   9.85704299  38.6202208   66.17455709  79.19301669  46.51019382]\n"
          ]
        }
      ],
      "source": [
        "!python3 main.py"
      ]
    },
    {
      "cell_type": "markdown",
      "metadata": {
        "id": "Xsjs6dTlv_7M"
      },
      "source": [
        "Excuse my French but voilà, we did it!!\n",
        "\n",
        "To recap, in this example we:\n",
        "- Set up and installed all necessary Nillion libraries and dependencies.\n",
        "- Created and built a Nada program using Nillion's `nada-dsl` and the `nada-ai` library.\n",
        "- Tested the behaviour of the Nada program.\n",
        "- Ran a Python script that ran a Nada program on a local devnet using Nillion's `py_nillion_client`."
      ]
    }
  ],
  "metadata": {
    "colab": {
      "provenance": []
    },
    "kernelspec": {
      "display_name": "venv",
      "language": "python",
      "name": "python3"
    },
    "language_info": {
      "codemirror_mode": {
        "name": "ipython",
        "version": 3
      },
      "file_extension": ".py",
      "mimetype": "text/x-python",
      "name": "python",
      "nbconvert_exporter": "python",
      "pygments_lexer": "ipython3",
      "version": "3.12.2"
    }
  },
  "nbformat": 4,
  "nbformat_minor": 0
}
