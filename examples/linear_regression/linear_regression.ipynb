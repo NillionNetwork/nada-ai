{
 "cells": [
  {
   "cell_type": "markdown",
   "metadata": {
    "id": "tOKatV-Av_7J"
   },
   "source": [
    "# 👋 Welcome to Nillion's Nada AI linear regression example"
   ]
  },
  {
   "cell_type": "markdown",
   "metadata": {
    "id": "s1idKo5Rv_7K"
   },
   "source": [
    "[![Open in Colab](https://colab.research.google.com/assets/colab-badge.svg)](https://colab.research.google.com/github/NillionNetwork/nada-ai/blob/main/examples/linear_regression/linear_regression.ipynb)"
   ]
  },
  {
   "cell_type": "markdown",
   "metadata": {
    "id": "IeHr5pAHv_7K"
   },
   "source": [
    "This notebook will get you familiar with linear regression in `nada-ai`, Nillion's AI/ML framework on top of the Nada dsl\n",
    "\n",
    "We are really excited for developers to build with our SDK, if you have any questions please do reach out to us on:\n",
    "\n",
    "[![Discord](https://img.shields.io/badge/Discord-nillionnetwork-%235865F2?logo=discord)](https://discord.gg/nillionnetwork)\n",
    "[![GitHub Discussions](https://img.shields.io/badge/GitHub_Discussions-NillionNetwork-%23181717?logo=github)](https://github.com/orgs/NillionNetwork/discussions)"
   ]
  },
  {
   "cell_type": "markdown",
   "metadata": {
    "id": "gcgBmJtPv_7K"
   },
   "source": [
    "# 1. Set up environment"
   ]
  },
  {
   "cell_type": "markdown",
   "metadata": {
    "id": "vL85sjrzv_7K"
   },
   "source": [
    "The boring part!\n",
    "\n",
    "Installs all required dependencies and spins up a local devnet that will run Nada programs"
   ]
  },
  {
   "cell_type": "code",
   "execution_count": 1,
   "metadata": {
    "id": "o4PXBlE2v_7K"
   },
   "outputs": [],
   "source": [
    "%pip install nada-ai==0.3.0 --quiet"
   ]
  },
  {
   "cell_type": "code",
   "execution_count": 2,
   "metadata": {
    "id": "rmTAavFov_7L"
   },
   "outputs": [],
   "source": [
    "my_identifier = \"your-telemetry-identifier\""
   ]
  },
  {
   "cell_type": "code",
   "execution_count": 3,
   "metadata": {
    "colab": {
     "base_uri": "https://localhost:8080/"
    },
    "id": "GcsYIHINv_7L",
    "outputId": "bf82a2e9-8a9d-47c6-96ef-c65d3f6ead71"
   },
   "outputs": [
    {
     "output_type": "stream",
     "name": "stdout",
     "text": [
      "  % Total    % Received % Xferd  Average Speed   Time    Time     Time  Current\n",
      "                                 Dload  Upload   Total   Spent    Left  Speed\n",
      "100  7810  100  7810    0     0   7563      0  0:00:01  0:00:01 --:--:--  7567\n",
      "\n",
      "nilup has been installed into /root/.nilup/bin and added to your $PATH in /root/.bashrc.\n",
      "\n",
      "Run 'source /root/.bashrc' or start a new terminal session to use nilup.\n",
      "\n",
      "By providing your Ethereum wallet address, you consent to the collection of telemetry data by the Nillion Network.\n",
      "That includes but is not limited to\n",
      "- The version of the SDK you are using\n",
      "- The OS you are using\n",
      "- The Processor Architecture you are using\n",
      "- The SDK binary that you are running and the subcommand\n",
      "- The wallet address you provided\n",
      "- The errors produced by the SDK\n",
      "We collect this data to understand how the software is used, and to better assist you in case of issues.\n",
      "While we will not collect any personal information, we still recommend using a new wallet address that cannot be linked to your identity by any third party.\n",
      "For more information, our privacy policy is available at https://nillion.com/privacy/.\n",
      "Do you consent to the collection of telemetry data? (yes/no)\n",
      "Telemetry data collection enabled\n",
      "SDK version latest already installed\n",
      "Reinstalling SDK version latest\n",
      "Installing SDK bins version latest\n",
      "Downloading latest/nillion-sdk-bins-x86_64-unknown-linux-musl.tar.gz\n",
      "SDK version latest installed\n",
      "SDK version latest set as default\n",
      "SDK version latest already installed\n",
      "Reinstalling SDK version latest\n",
      "Installing SDK bins version latest\n",
      "Downloading latest/nillion-sdk-bins-x86_64-unknown-linux-musl.tar.gz\n",
      "SDK version latest installed\n",
      "SDK version latest set as default\n"
     ]
    }
   ],
   "source": [
    "# Install the nilup tool and then use that to install the Nillion SDK\n",
    "!curl https://nilup.nilogy.xyz/install.sh | bash\n",
    "!export PATH=$PATH:/root/.nilup/bin\n",
    "\n",
    "identifier = \"nada-ai-linear-regression\" + my_identifier\n",
    "\n",
    "# Enable telemetry using the identifier you have set above\n",
    "!echo 'yes' | /root/.nilup/bin/nilup instrumentation enable --wallet {identifier}\n",
    "\n",
    "# Install the lastest SDK and initialise it\n",
    "!/root/.nilup/bin/nilup init\n",
    "!/root/.nilup/bin/nilup install latest\n",
    "!/root/.nilup/bin/nilup use latest"
   ]
  },
  {
   "cell_type": "code",
   "execution_count": 4,
   "metadata": {
    "colab": {
     "base_uri": "https://localhost:8080/"
    },
    "id": "L3CluM_vv_7L",
    "outputId": "dfe56533-0f44-4405-f321-6160ca53c0ef"
   },
   "outputs": [
    {
     "output_type": "stream",
     "name": "stdout",
     "text": [
      "nohup: appending output to 'nohup.out'\n",
      "# Nillion devnet parameters\n",
      "NILLION_CLUSTER_ID=9e68173f-9c23-4acc-ba81-4f079b639964\n",
      "NILLION_BOOTNODE_MULTIADDRESS=/ip4/127.0.0.1/tcp/37939/p2p/12D3KooWMvw1hEqm7EWSDEyqTb6pNetUVkepahKY6hixuAuMZfJS\n",
      "NILLION_BOOTNODE_WEBSOCKET=/ip4/127.0.0.1/tcp/54936/ws/p2p/12D3KooWMvw1hEqm7EWSDEyqTb6pNetUVkepahKY6hixuAuMZfJS\n",
      "NILLION_NILCHAIN_CHAIN_ID=nillion-chain-devnet\n",
      "NILLION_NILCHAIN_JSON_RPC=http://127.0.0.1:48102\n",
      "NILLION_NILCHAIN_REST_API=http://localhost:26650\n",
      "NILLION_NILCHAIN_GRPC=localhost:26649\n",
      "NILLION_NILCHAIN_PRIVATE_KEY_0=9a975f567428d054f2bf3092812e6c42f901ce07d9711bc77ee2cd81101f42c5\n",
      "NILLION_NILCHAIN_PRIVATE_KEY_1=1e491133b9408b39572a29f91644873decea554224b20e2b0b923aeb860a1c18\n",
      "NILLION_NILCHAIN_PRIVATE_KEY_2=980488572f235316cdb330191f8bafe4e635efbe88b3a40f5bee9bd21047c059\n",
      "NILLION_NILCHAIN_PRIVATE_KEY_3=612bb5173dc60d9e91404fcc0d1f1847fb4459a7d5160d63d84e91aacbf2ab2f\n",
      "NILLION_NILCHAIN_PRIVATE_KEY_4=04f5a984eeea9dce4e5e907da69c01a61568e3071b1a91cbed89225f9fd913b5\n",
      "NILLION_NILCHAIN_PRIVATE_KEY_5=5f992c58921f4af83b4c6b650c4914626664cd02020577b0ada49cfa00d2c8a4\n",
      "NILLION_NILCHAIN_PRIVATE_KEY_6=8f0297d3bb647eb59b95b29550b2aebbedd9be2c954b000e772efe8c9318a42d\n",
      "NILLION_NILCHAIN_PRIVATE_KEY_7=c395243df9bb68dc809668efe4125f0eb017771ed8e3747b8d6860551913fecb\n",
      "NILLION_NILCHAIN_PRIVATE_KEY_8=4bb5eaa799e24ae2b48545c41331921afe7e6a8dd7a850f5fbeb20a8226664ec\n",
      "NILLION_NILCHAIN_PRIVATE_KEY_9=ef4b944d4fdb0077057925fe2dde365dfa2c83cf320463b14589feccd1b2b938\n"
     ]
    }
   ],
   "source": [
    "import time\n",
    "\n",
    "# Spin up local Nillion devnet\n",
    "!nohup /root/.nilup/sdks/latest/nillion-devnet &\n",
    "\n",
    "time.sleep(20)\n",
    "\n",
    "!cat /root/.config/nillion/nillion-devnet.env"
   ]
  },
  {
   "cell_type": "code",
   "execution_count": 5,
   "metadata": {
    "id": "4teHBr6W5_Mz"
   },
   "outputs": [],
   "source": [
    "import os\n",
    "import sys\n",
    "\n",
    "if \"google.colab\" in sys.modules:\n",
    "    # If ran in Colab, clone the nada-ai repo and navigate to the correct directory\n",
    "    if not os.path.exists(\"nada-ai\"):\n",
    "        !git clone https://github.com/NillionNetwork/nada-ai.git\n",
    "    os.chdir(\"nada-ai/examples/linear_regression\")"
   ]
  },
  {
   "cell_type": "markdown",
   "metadata": {
    "id": "QluoKNsev_7L"
   },
   "source": [
    "# 2. Build Nada program"
   ]
  },
  {
   "cell_type": "markdown",
   "metadata": {
    "id": "rOUmgVosv_7L"
   },
   "source": [
    "We will now build the Nada program specified under `src/linear_regression.py`\n",
    "\n",
    "You will see that it uses both our `nada-dsl` and `nada-ai`."
   ]
  },
  {
   "cell_type": "code",
   "execution_count": 6,
   "metadata": {
    "colab": {
     "base_uri": "https://localhost:8080/"
    },
    "id": "RT37dfFhv_7L",
    "outputId": "e63d7106-9791-44fe-d731-b43a5020ee5c"
   },
   "outputs": [
    {
     "output_type": "stream",
     "name": "stdout",
     "text": [
      "Building program: \u001b[1m\u001b[32mlinear_regression\u001b[39m\u001b[0m\n",
      "\u001b[1;32mBuild complete!\u001b[0m\n"
     ]
    }
   ],
   "source": [
    "!/root/.nilup/sdks/latest/nada build"
   ]
  },
  {
   "cell_type": "code",
   "execution_count": 7,
   "metadata": {
    "colab": {
     "base_uri": "https://localhost:8080/"
    },
    "id": "TkWJ_oikv_7M",
    "outputId": "703534cc-e567-40df-88d4-c226dcc9007a"
   },
   "outputs": [
    {
     "output_type": "stream",
     "name": "stdout",
     "text": [
      "linear_regression.nada.bin\n"
     ]
    }
   ],
   "source": [
    "# You will see that the program was compiled in a .nada.bin file\n",
    "!ls target | grep linear_regression"
   ]
  },
  {
   "cell_type": "markdown",
   "metadata": {
    "id": "Y6uqc2ZJv_7M"
   },
   "source": [
    "# 3. (optional) Test Nada program"
   ]
  },
  {
   "cell_type": "markdown",
   "metadata": {
    "id": "D0CCBvPhv_7M"
   },
   "source": [
    "This step is optional but we can now test whether our newly compiled program behaves as expected!\n",
    "\n",
    "Under `tests/linear_regression.yaml`, you will see a test file with provided inputs and expected outputs. We will now test whether if we provide the program with those inputs, the program returns the expected outputs or not.\n",
    "\n",
    "*Note for the nerds: nada testing runs programs on a simulator instead of a network. This means that you can test programs without having a local devnet running!!*"
   ]
  },
  {
   "cell_type": "code",
   "execution_count": 8,
   "metadata": {
    "colab": {
     "base_uri": "https://localhost:8080/"
    },
    "id": "PirYmsCTv_7M",
    "outputId": "ae44be93-87f4-466f-8ff8-c82a1b8f7fe5"
   },
   "outputs": [
    {
     "output_type": "stream",
     "name": "stdout",
     "text": [
      "Running test: \u001b[1m\u001b[32mlinear_regression\u001b[39m\u001b[0m\n",
      "Building ...\n",
      "Running ...\n",
      "linear_regression: \u001b[1;32mPASS\u001b[0m\n",
      "\n"
     ]
    }
   ],
   "source": [
    "!/root/.nilup/sdks/latest/nada test"
   ]
  },
  {
   "cell_type": "markdown",
   "metadata": {
    "id": "xZUGIJWyv_7M"
   },
   "source": [
    "# 4. Run Nada program"
   ]
  },
  {
   "cell_type": "markdown",
   "metadata": {
    "id": "UGiCRTDOv_7M"
   },
   "source": [
    "The time has come to take our Nada program for a spin!\n",
    "\n",
    "You will see that `main.py` contains some python logic that wants to interface with our brand spanking new Nada program. It uses Nillion's Python SDK to store and run the program on a local devnet."
   ]
  },
  {
   "cell_type": "code",
   "execution_count": 9,
   "metadata": {
    "colab": {
     "base_uri": "https://localhost:8080/"
    },
    "id": "pg15Av1Fv_7M",
    "outputId": "eedbe6b1-8f3b-403a-9559-8e954b5c89c3"
   },
   "outputs": [
    {
     "output_type": "stream",
     "name": "stdout",
     "text": [
      "Getting quote for operation...\n",
      "Submitting payment receipt 2 unil, tx hash B0276F27AC5E36440A23431263F38696E3E97403E07714EB7212E0AB42618EE7\n",
      "Stored program. action_id: 3rgqxWd47e171EUwe4RXP9hm45tmoXfuF8fC52S7jcFoQTnU8wPiL7hqWzyV1muak6bEg7iWhudwg4t2pM9XnXcp/linear_regression\n",
      "Stored program_id: 3rgqxWd47e171EUwe4RXP9hm45tmoXfuF8fC52S7jcFoQTnU8wPiL7hqWzyV1muak6bEg7iWhudwg4t2pM9XnXcp/linear_regression\n",
      "Learned model coeffs are: [1. 1. 1. 1. 1. 1. 1. 1. 1. 1.]\n",
      "Learned model intercept is: 4.199999999999999\n",
      "Getting quote for operation...\n",
      "Quote cost is 1058 unil\n",
      "Submitting payment receipt 1058 unil, tx hash C1C054AF919AA24417B66CF4FE0D97D7536E1ACEE57A723795A1E5A8DC762962\n",
      "Getting quote for operation...\n",
      "Quote cost is 962 unil\n",
      "Submitting payment receipt 962 unil, tx hash C7831D40C867CD3C37DC6968821F476F4FF653E5D7A979BDAE9CC77AB3475C7E\n",
      "Computing using program 3rgqxWd47e171EUwe4RXP9hm45tmoXfuF8fC52S7jcFoQTnU8wPiL7hqWzyV1muak6bEg7iWhudwg4t2pM9XnXcp/linear_regression\n",
      "Use secret store_id: beafee92-3ae8-4082-b489-f03194f4443c a011b6e5-3764-432d-8195-23fb67f19a43\n",
      "Getting quote for operation...\n",
      "Quote cost is 24 unil\n",
      "Submitting payment receipt 24 unil, tx hash 0C732A190137C0D3652937DED0D01759AE2FFDDA085E3E794ABAEAC2C120A481\n",
      "✅ Compute complete for compute_id 2b8e857b-74bc-4fff-8c8c-ba5938c6cf97\n",
      "🖥️  The result is {'my_output': 930611}\n",
      "🖥️  The result is [14.199996948242188] @ 16-bit precision\n",
      "🖥️  VS expected result [14.2]\n"
     ]
    }
   ],
   "source": [
    "!python3 main.py"
   ]
  },
  {
   "cell_type": "markdown",
   "metadata": {
    "id": "Xsjs6dTlv_7M"
   },
   "source": [
    "Excuse my French but voilà, we did it!!\n",
    "\n",
    "To recap, in this example we:\n",
    "- Set up and installed all necessary Nillion libraries and dependencies.\n",
    "- Created and built a Nada program using Nillion's `nada-dsl` and the `nada-ai` library.\n",
    "- Tested the behaviour of the Nada program.\n",
    "- Ran a Python script that ran a Nada program on a local devnet using Nillion's `py_nillion_client`."
   ]
  }
 ],
 "metadata": {
  "colab": {
   "provenance": []
  },
  "kernelspec": {
   "display_name": "venv",
   "language": "python",
   "name": "python3"
  },
  "language_info": {
   "codemirror_mode": {
    "name": "ipython",
    "version": 3
   },
   "file_extension": ".py",
   "mimetype": "text/x-python",
   "name": "python",
   "nbconvert_exporter": "python",
   "pygments_lexer": "ipython3",
   "version": "3.12.2"
  }
 },
 "nbformat": 4,
 "nbformat_minor": 0
}