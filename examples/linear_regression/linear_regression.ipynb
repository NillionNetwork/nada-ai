{
  "cells": [
    {
      "cell_type": "markdown",
      "metadata": {
        "id": "tOKatV-Av_7J"
      },
      "source": [
        "# 👋 Welcome to Nillion's Nada AI linear regression example"
      ]
    },
    {
      "cell_type": "markdown",
      "metadata": {
        "id": "s1idKo5Rv_7K"
      },
      "source": [
        "[![Open in Colab](https://colab.research.google.com/assets/colab-badge.svg)](https://colab.research.google.com/github/NillionNetwork/nada-ai/blob/main/examples/linear_regression/linear_regression.ipynb)"
      ]
    },
    {
      "cell_type": "markdown",
      "metadata": {
        "id": "IeHr5pAHv_7K"
      },
      "source": [
        "This notebook will get you familiar with linear regression in `nada-ai`, Nillion's AI/ML framework on top of the Nada dsl\n",
        "\n",
        "We are really excited for developers to build with our SDK, if you have any questions please do reach out to us on:\n",
        "\n",
        "[![Discord](https://img.shields.io/badge/Discord-nillionnetwork-%235865F2?logo=discord)](https://discord.gg/nillionnetwork)\n",
        "[![GitHub Discussions](https://img.shields.io/badge/GitHub_Discussions-NillionNetwork-%23181717?logo=github)](https://github.com/orgs/NillionNetwork/discussions)"
      ]
    },
    {
      "cell_type": "markdown",
      "metadata": {
        "id": "gcgBmJtPv_7K"
      },
      "source": [
        "# 1. Set up environment"
      ]
    },
    {
      "cell_type": "markdown",
      "metadata": {
        "id": "vL85sjrzv_7K"
      },
      "source": [
        "The boring part!\n",
        "\n",
        "Installs all required dependencies and spins up a local devnet that will run Nada programs"
      ]
    },
    {
      "cell_type": "code",
      "execution_count": 1,
      "metadata": {
        "colab": {
          "base_uri": "https://localhost:8080/"
        },
        "id": "o4PXBlE2v_7K",
        "outputId": "943693f2-51f8-4685-ea29-07b89b7b876a"
      },
      "outputs": [],
      "source": [
        "%%capture\n",
        "!pip install nada-ai~=0.3.0"
      ]
    },
    {
      "cell_type": "code",
      "execution_count": 2,
      "metadata": {
        "id": "IltP23dY9Wuq"
      },
      "outputs": [],
      "source": [
        "import os\n",
        "import time\n",
        "import sys\n",
        "import uuid"
      ]
    },
    {
      "cell_type": "code",
      "execution_count": 3,
      "metadata": {
        "id": "-qsIYfic9X3T"
      },
      "outputs": [],
      "source": [
        "# Configure telemetry settings\n",
        "enable_telemetry = True  #@param {type:\"boolean\"}\n",
        "my_github_username = \"your-github-username\"  #@param {type:\"string\"}"
      ]
    },
    {
      "cell_type": "code",
      "execution_count": 4,
      "metadata": {
        "colab": {
          "base_uri": "https://localhost:8080/"
        },
        "id": "GcsYIHINv_7L",
        "outputId": "ee5e2267-a5ca-481f-9c6c-976ae27caa6d"
      },
      "outputs": [
        {
          "name": "stdout",
          "output_type": "stream",
          "text": [
            "  % Total    % Received % Xferd  Average Speed   Time    Time     Time  Current\n",
            "                                 Dload  Upload   Total   Spent    Left  Speed\n",
            "100  7810  100  7810    0     0   7727      0  0:00:01  0:00:01 --:--:--  7732\n",
            "\n",
            "nilup has been installed into /root/.nilup/bin and added to your $PATH in /root/.bashrc.\n",
            "\n",
            "Run 'source /root/.bashrc' or start a new terminal session to use nilup.\n",
            "\n",
            "By providing your Ethereum wallet address, you consent to the collection of telemetry data by the Nillion Network.\n",
            "That includes but is not limited to\n",
            "- The version of the SDK you are using\n",
            "- The OS you are using\n",
            "- The Processor Architecture you are using\n",
            "- The SDK binary that you are running and the subcommand\n",
            "- The wallet address you provided\n",
            "- The errors produced by the SDK\n",
            "We collect this data to understand how the software is used, and to better assist you in case of issues.\n",
            "While we will not collect any personal information, we still recommend using a new wallet address that cannot be linked to your identity by any third party.\n",
            "For more information, our privacy policy is available at https://nillion.com/privacy/.\n",
            "Do you consent to the collection of telemetry data? (yes/no)\n",
            "Telemetry data collection enabled\n",
            "Installing SDK bins version latest\n",
            "Downloading latest/nillion-sdk-bins-x86_64-unknown-linux-musl.tar.gz\n",
            "SDK version latest installed\n",
            "SDK version latest set as default\n",
            "SDK version latest already installed\n",
            "Reinstalling SDK version latest\n",
            "Installing SDK bins version latest\n",
            "Downloading latest/nillion-sdk-bins-x86_64-unknown-linux-musl.tar.gz\n",
            "SDK version latest installed\n",
            "SDK version latest set as default\n"
          ]
        }
      ],
      "source": [
        "# Install the nilup tool and then use that to install the Nillion SDK\n",
        "!curl https://nilup.nilogy.xyz/install.sh | bash\n",
        "\n",
        "# Update Path if ran in colab\n",
        "if \"google.colab\" in sys.modules:\n",
        "    os.environ[\"PATH\"] += \":/root/.nilup/bin\"\n",
        "    os.environ[\"PATH\"] += \":/root/.nilup/sdks/latest/\"\n",
        "\n",
        "# Set telemetry if opted in\n",
        "if enable_telemetry:\n",
        "    identifier = f\"nada-ai-linear-regression-{str(uuid.uuid4())}-{my_github_username}\"\n",
        "    !echo 'yes' | nilup instrumentation enable --wallet {identifier}\n",
        "\n",
        "# Install the lastest SDK and initialise it\n",
        "!nilup init\n",
        "!nilup install latest\n",
        "!nilup use latest"
      ]
    },
    {
      "cell_type": "code",
      "execution_count": 5,
      "metadata": {
        "colab": {
          "base_uri": "https://localhost:8080/"
        },
        "id": "L3CluM_vv_7L",
        "outputId": "516258ae-1174-4766-bf30-1a54b5cd5546"
      },
      "outputs": [
        {
          "name": "stdout",
          "output_type": "stream",
          "text": [
            "nohup: appending output to 'nohup.out'\n"
          ]
        }
      ],
      "source": [
        "# Spin up local Nillion devnet\n",
        "!nohup nillion-devnet &\n",
        "\n",
        "time.sleep(20)  # Wait for devnet"
      ]
    },
    {
      "cell_type": "code",
      "execution_count": 6,
      "metadata": {
        "colab": {
          "base_uri": "https://localhost:8080/"
        },
        "id": "4teHBr6W5_Mz",
        "outputId": "977f6410-431b-4015-be80-f0278df7f058"
      },
      "outputs": [
        {
          "name": "stdout",
          "output_type": "stream",
          "text": [
            "Cloning into 'nada-ai'...\n",
            "remote: Enumerating objects: 1483, done.\u001b[K\n",
            "remote: Counting objects: 100% (280/280), done.\u001b[K\n",
            "remote: Compressing objects: 100% (212/212), done.\u001b[K\n",
            "remote: Total 1483 (delta 94), reused 115 (delta 53), pack-reused 1203\u001b[K\n",
            "Receiving objects: 100% (1483/1483), 1.51 MiB | 2.82 MiB/s, done.\n",
            "Resolving deltas: 100% (855/855), done.\n"
          ]
        }
      ],
      "source": [
        "if \"google.colab\" in sys.modules:\n",
        "    # If ran in Colab, clone the nada-ai repo and navigate to the correct directory\n",
        "    if not os.path.exists(\"nada-ai\"):\n",
        "        !git clone https://github.com/NillionNetwork/nada-ai.git\n",
        "    os.chdir(\"nada-ai/examples/linear_regression\")"
      ]
    },
    {
      "cell_type": "markdown",
      "metadata": {
        "id": "QluoKNsev_7L"
      },
      "source": [
        "# 2. Build Nada program"
      ]
    },
    {
      "cell_type": "markdown",
      "metadata": {
        "id": "rOUmgVosv_7L"
      },
      "source": [
        "We will now build the Nada program specified under `src/linear_regression.py`\n",
        "\n",
        "You will see that it uses both our `nada-dsl` and `nada-ai`."
      ]
    },
    {
      "cell_type": "code",
      "execution_count": 7,
      "metadata": {
        "colab": {
          "base_uri": "https://localhost:8080/"
        },
        "id": "RT37dfFhv_7L",
        "outputId": "1a84a147-67e1-46e2-e40f-64aeb2d120af"
      },
      "outputs": [
        {
          "name": "stdout",
          "output_type": "stream",
          "text": [
            "Building program: \u001b[1m\u001b[32mlinear_regression\u001b[39m\u001b[0m\n",
            "\u001b[1;32mBuild complete!\u001b[0m\n"
          ]
        }
      ],
      "source": [
        "!nada build"
      ]
    },
    {
      "cell_type": "code",
      "execution_count": 8,
      "metadata": {
        "colab": {
          "base_uri": "https://localhost:8080/"
        },
        "id": "TkWJ_oikv_7M",
        "outputId": "eedb7631-b5aa-461f-882a-0472d79eac5e"
      },
      "outputs": [
        {
          "name": "stdout",
          "output_type": "stream",
          "text": [
            "linear_regression.nada.bin\n"
          ]
        }
      ],
      "source": [
        "# You will see that the program was compiled in a .nada.bin file\n",
        "!ls target | grep linear_regression"
      ]
    },
    {
      "cell_type": "markdown",
      "metadata": {
        "id": "Y6uqc2ZJv_7M"
      },
      "source": [
        "# 3. (optional) Test Nada program"
      ]
    },
    {
      "cell_type": "markdown",
      "metadata": {
        "id": "D0CCBvPhv_7M"
      },
      "source": [
        "This step is optional but we can now test whether our newly compiled program behaves as expected!\n",
        "\n",
        "Under `tests/linear_regression.yaml`, you will see a test file with provided inputs and expected outputs. We will now test whether if we provide the program with those inputs, the program returns the expected outputs or not.\n",
        "\n",
        "*Note for the nerds: nada testing runs programs on a simulator instead of a network. This means that you can test programs without having a local devnet running!!*"
      ]
    },
    {
      "cell_type": "code",
      "execution_count": 9,
      "metadata": {
        "colab": {
          "base_uri": "https://localhost:8080/"
        },
        "id": "PirYmsCTv_7M",
        "outputId": "42f7a609-749d-44be-b0ad-6a05143d1310"
      },
      "outputs": [
        {
          "name": "stdout",
          "output_type": "stream",
          "text": [
            "Running test: \u001b[1m\u001b[32mlinear_regression\u001b[39m\u001b[0m\n",
            "Building ...\n",
            "Running ...\n",
            "linear_regression: \u001b[1;32mPASS\u001b[0m\n",
            "\n"
          ]
        }
      ],
      "source": [
        "!nada test"
      ]
    },
    {
      "cell_type": "markdown",
      "metadata": {
        "id": "xZUGIJWyv_7M"
      },
      "source": [
        "# 4. Run Nada program"
      ]
    },
    {
      "cell_type": "markdown",
      "metadata": {
        "id": "UGiCRTDOv_7M"
      },
      "source": [
        "The time has come to take our Nada program for a spin!\n",
        "\n",
        "You will see that `main.py` contains some python logic that wants to interface with our brand spanking new Nada program. It uses Nillion's Python SDK to store and run the program on a local devnet."
      ]
    },
    {
      "cell_type": "code",
      "execution_count": 10,
      "metadata": {
        "colab": {
          "base_uri": "https://localhost:8080/"
        },
        "id": "pg15Av1Fv_7M",
        "outputId": "cd8d73ea-9503-4ccf-da4f-775fb6a613b6"
      },
      "outputs": [
        {
          "name": "stdout",
          "output_type": "stream",
          "text": [
            "Getting quote for operation...\n",
            "Submitting payment receipt 2 unil, tx hash C9B4C1614E43958E1174F3A8068CB8385B2A72EBD6224381CC0C4039C810D3DD\n",
            "Stored program. action_id: 3rgqxWd47e171EUwe4RXP9hm45tmoXfuF8fC52S7jcFoQTnU8wPiL7hqWzyV1muak6bEg7iWhudwg4t2pM9XnXcp/linear_regression\n",
            "Stored program_id: 3rgqxWd47e171EUwe4RXP9hm45tmoXfuF8fC52S7jcFoQTnU8wPiL7hqWzyV1muak6bEg7iWhudwg4t2pM9XnXcp/linear_regression\n",
            "Learned model coeffs are: [1. 1. 1. 1. 1. 1. 1. 1. 1. 1.]\n",
            "Learned model intercept is: 4.2\n",
            "Getting quote for operation...\n",
            "Quote cost is 1058 unil\n",
            "Submitting payment receipt 1058 unil, tx hash 24FE5C7CD30FFE946110BB2AA0FF5471B1275218128C78E229C90BBFF75F066F\n",
            "Getting quote for operation...\n",
            "Quote cost is 962 unil\n",
            "Submitting payment receipt 962 unil, tx hash 69D0FD47492D08742E1D0FAA0D0057B892FA2DCBFFA0AED6DF86B541867C7604\n",
            "Computing using program 3rgqxWd47e171EUwe4RXP9hm45tmoXfuF8fC52S7jcFoQTnU8wPiL7hqWzyV1muak6bEg7iWhudwg4t2pM9XnXcp/linear_regression\n",
            "Use secret store_id: 573f1dc4-9f67-4bdc-b110-4fef26e807c6 f05ea888-aef4-4ea8-8ab1-8d5b3416d22b\n",
            "Getting quote for operation...\n",
            "Quote cost is 24 unil\n",
            "Submitting payment receipt 24 unil, tx hash 20A47800AF45E70FF826CC44CB7E4F325D78412387A912F9E188A000EEB5B45A\n",
            "✅ Compute complete for compute_id 22e6b4d1-594d-4b1f-8ec9-a0ad8d3d0714\n",
            "🖥️  The result is {'my_output': 930611}\n",
            "🖥️  The result is [14.199996948242188] @ 16-bit precision\n",
            "🖥️  VS expected result [14.2]\n"
          ]
        }
      ],
      "source": [
        "!python3 main.py"
      ]
    },
    {
      "cell_type": "markdown",
      "metadata": {
        "id": "Xsjs6dTlv_7M"
      },
      "source": [
        "Excuse my French but voilà, we did it!!\n",
        "\n",
        "To recap, in this example we:\n",
        "- Set up and installed all necessary Nillion libraries and dependencies.\n",
        "- Created and built a Nada program using Nillion's `nada-dsl` and the `nada-ai` library.\n",
        "- Tested the behaviour of the Nada program.\n",
        "- Ran a Python script that ran a Nada program on a local devnet using Nillion's `py_nillion_client`."
      ]
    }
  ],
  "metadata": {
    "colab": {
      "provenance": []
    },
    "kernelspec": {
      "display_name": "venv",
      "language": "python",
      "name": "python3"
    },
    "language_info": {
      "codemirror_mode": {
        "name": "ipython",
        "version": 3
      },
      "file_extension": ".py",
      "mimetype": "text/x-python",
      "name": "python",
      "nbconvert_exporter": "python",
      "pygments_lexer": "ipython3",
      "version": "3.12.2"
    }
  },
  "nbformat": 4,
  "nbformat_minor": 0
}
