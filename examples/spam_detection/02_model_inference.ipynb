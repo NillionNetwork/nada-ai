{
 "cells": [
  {
   "cell_type": "markdown",
   "metadata": {},
   "source": [
    "**IMPORTANT**: Before starting this notebook make sure that the kernel of the previous notebook is shutdown or reset it's state to forget the previous `model_user` Nillion client"
   ]
  },
  {
   "cell_type": "code",
   "execution_count": 1,
   "metadata": {},
   "outputs": [],
   "source": [
    "## If problems arise with the loading of the shared library, this script can be used to load the shared library before other libraries.\n",
    "## Remember to also run on your local machine the script below:\n",
    "# bash replace_lib_version.sh\n",
    "\n",
    "import platform\n",
    "import ctypes\n",
    "\n",
    "if platform.system() == \"Linux\":\n",
    "    # Force libgomp and py_nillion_client to be loaded before other libraries consuming dynamic TLS (to avoid running out of STATIC_TLS)\n",
    "    ctypes.cdll.LoadLibrary(\"libgomp.so.1\")\n",
    "    ctypes.cdll.LoadLibrary(\n",
    "        \"/home/vscode/.local/lib/python3.12/site-packages/py_nillion_client/py_nillion_client.abi3.so\"\n",
    "    )"
   ]
  },
  {
   "cell_type": "code",
   "execution_count": 2,
   "metadata": {},
   "outputs": [],
   "source": [
    "from typing import Dict, List\n",
    "\n",
    "import json\n",
    "import os\n",
    "import joblib\n",
    "\n",
    "\n",
    "from dotenv import load_dotenv\n",
    "import numpy as np\n",
    "from sklearn.feature_extraction.text import TfidfVectorizer\n",
    "from sklearn.linear_model import LogisticRegression\n",
    "\n",
    "import nada_numpy as na\n",
    "import nada_numpy.client as na_client\n",
    "import py_nillion_client as nillion\n",
    "from nillion_python_helpers import (\n",
    "    create_nillion_client,\n",
    "    getUserKeyFromFile,\n",
    "    getNodeKeyFromFile,\n",
    ")\n",
    "\n",
    "from config import NUM_FEATS"
   ]
  },
  {
   "cell_type": "markdown",
   "metadata": {},
   "source": [
    "## Authenticate with Nillion"
   ]
  },
  {
   "cell_type": "markdown",
   "metadata": {},
   "source": [
    "To connect to the Nillion network, we need to have a user key and a node key. These serve different purposes:\n",
    "\n",
    "The `user_key` is the user's private key. The user key should never be shared publicly, as it unlocks access and permissions to secrets stored on the network.\n",
    "\n",
    "The `node_key` is the node's private key which is run locally to connect to the network."
   ]
  },
  {
   "cell_type": "code",
   "execution_count": 3,
   "metadata": {},
   "outputs": [
    {
     "data": {
      "text/plain": [
       "True"
      ]
     },
     "execution_count": 3,
     "metadata": {},
     "output_type": "execute_result"
    }
   ],
   "source": [
    "# Load all Nillion network environment variables\n",
    "assert os.getcwd().endswith(\n",
    "    \"examples/spam_detection\"\n",
    "), \"Please run this script from the examples/spam_detection directory otherwise, the rest of the tutorial may not work\"\n",
    "load_dotenv()"
   ]
  },
  {
   "cell_type": "code",
   "execution_count": 4,
   "metadata": {},
   "outputs": [],
   "source": [
    "cluster_id = os.getenv(\"NILLION_CLUSTER_ID\")\n",
    "model_user_userkey = getUserKeyFromFile(os.getenv(\"NILLION_USERKEY_PATH_PARTY_2\"))\n",
    "model_user_nodekey = getNodeKeyFromFile(os.getenv(\"NILLION_NODEKEY_PATH_PARTY_2\"))\n",
    "model_user_client = create_nillion_client(model_user_userkey, model_user_nodekey)\n",
    "model_user_party_id = model_user_client.party_id\n",
    "model_user_user_id = model_user_client.user_id"
   ]
  },
  {
   "cell_type": "code",
   "execution_count": 5,
   "metadata": {},
   "outputs": [
    {
     "name": "stdout",
     "output_type": "stream",
     "text": [
      "Program ID:  33sxVBj3jenx74bGq5eiX3HzwBJS85aGTjutfnfwPwVyJEPhhWr2h1CcYeryqUvvNXKr4ipGQjNFBVbHUDCWXjWE/spam_detection\n",
      "Model Store ID:  bf1d62e2-beff-41bd-9c5a-f1acf9e6779d\n",
      "Model Provider Party ID:  12D3KooWFYjK13Ny2W4hEfcZtD5DUvCGP6CJ4H2YnnUCHpZBDKpj\n"
     ]
    }
   ],
   "source": [
    "# This information was provided by the model provider\n",
    "with open(\"target/tmp.json\", \"r\") as provider_variables_file:\n",
    "    provider_variables = json.load(provider_variables_file)\n",
    "\n",
    "program_id = provider_variables[\"program_id\"]\n",
    "model_store_id = provider_variables[\"model_store_id\"]\n",
    "model_provider_party_id = provider_variables[\"model_provider_party_id\"]\n",
    "\n",
    "print(\"Program ID: \", program_id)\n",
    "print(\"Model Store ID: \", model_store_id)\n",
    "print(\"Model Provider Party ID: \", model_provider_party_id)"
   ]
  },
  {
   "cell_type": "markdown",
   "metadata": {},
   "source": [
    "## Model user flow"
   ]
  },
  {
   "cell_type": "markdown",
   "metadata": {},
   "source": [
    "### Convert text to features"
   ]
  },
  {
   "cell_type": "code",
   "execution_count": 6,
   "metadata": {},
   "outputs": [],
   "source": [
    "vectorizer: TfidfVectorizer = joblib.load(\"model/vectorizer.joblib\")"
   ]
  },
  {
   "cell_type": "code",
   "execution_count": 7,
   "metadata": {},
   "outputs": [],
   "source": [
    "# Let's find out whether it's a billion dollar opportunity or pyramid scheme\n",
    "INPUT_DATA = \"Free entry in 2 a wkly comp to win exclusive prizes! Text WIN to 87121 to receive entry question(std txt rate)T&C's apply 08452810075over18's\"\n",
    "\n",
    "[features] = vectorizer.transform([INPUT_DATA]).toarray().tolist()"
   ]
  },
  {
   "cell_type": "code",
   "execution_count": 8,
   "metadata": {},
   "outputs": [],
   "source": [
    "features = np.array(features).astype(float)"
   ]
  },
  {
   "cell_type": "markdown",
   "metadata": {},
   "source": [
    "### Send features to Nillion"
   ]
  },
  {
   "cell_type": "code",
   "execution_count": 9,
   "metadata": {},
   "outputs": [],
   "source": [
    "async def store_features(\n",
    "    *,\n",
    "    client: nillion.NillionClient,\n",
    "    cluster_id: str,\n",
    "    program_id: str,\n",
    "    party_id: str,\n",
    "    user_id: str,\n",
    "    features: np.ndarray\n",
    ") -> Dict[str, str]:\n",
    "    \"\"\"Stores text features in Nillion network.\n",
    "\n",
    "    Args:\n",
    "        client (nillion.NillionClient): Nillion client that stores features.\n",
    "        cluster_id (str): Nillion cluster ID.\n",
    "        program_id (str): Program ID of Nada program.\n",
    "        party_id (str): Party ID of party that will store text features.\n",
    "        user_id (str): User ID of user that will get compute permissions.\n",
    "        features (List[float]): List of text features.\n",
    "        precision (int): Scaling factor to convert float to ints.\n",
    "\n",
    "    Returns:\n",
    "        Dict[str, str]: Resulting `model_user_party_id` and `features_store_id`.\n",
    "    \"\"\"\n",
    "\n",
    "    secrets = nillion.Secrets(na_client.array(features, \"my_input\", na.SecretRational))\n",
    "\n",
    "    print(secrets)\n",
    "    secret_bindings = nillion.ProgramBindings(program_id)\n",
    "    secret_bindings.add_input_party(\"User\", party_id)\n",
    "\n",
    "    features_store_id = await client.store_secrets(\n",
    "        cluster_id, secret_bindings, secrets, None\n",
    "    )\n",
    "\n",
    "    return {\n",
    "        \"model_user_user_id\": user_id,\n",
    "        \"features_store_id\": features_store_id,\n",
    "    }"
   ]
  },
  {
   "cell_type": "code",
   "execution_count": 10,
   "metadata": {},
   "outputs": [
    {
     "name": "stdout",
     "output_type": "stream",
     "text": [
      "<builtins.Secrets object at 0x30ad72dd0>\n",
      "✅ Text features uploaded successfully!\n",
      "model_user_user_id: 346jE91YmBjhSdvVSKCSpBxAY1kj5brpnCtWutLWMvXj8sF2iBR7fnmm4fjAGj7uPmHtb7CBQRjV5Q4H1KzepDCL\n",
      "features_store_id: 10c7d969-f60f-43fe-8795-2335bc9be522\n"
     ]
    }
   ],
   "source": [
    "result_store_features = await store_features(\n",
    "    client=model_user_client,\n",
    "    cluster_id=cluster_id,\n",
    "    program_id=program_id,\n",
    "    party_id=model_user_party_id,\n",
    "    user_id=model_user_user_id,\n",
    "    features=features,\n",
    ")\n",
    "\n",
    "model_user_user_id = result_store_features[\"model_user_user_id\"]\n",
    "features_store_id = result_store_features[\"features_store_id\"]\n",
    "\n",
    "print(\"✅ Text features uploaded successfully!\")\n",
    "print(\"model_user_user_id:\", model_user_user_id)\n",
    "print(\"features_store_id:\", features_store_id)"
   ]
  },
  {
   "cell_type": "markdown",
   "metadata": {},
   "source": [
    "### Run inference & check result"
   ]
  },
  {
   "cell_type": "code",
   "execution_count": 11,
   "metadata": {},
   "outputs": [],
   "source": [
    "async def run_inference(\n",
    "    *,\n",
    "    client: nillion.NillionClient,\n",
    "    cluster_id: str,\n",
    "    program_id: str,\n",
    "    model_user_party_id: str,\n",
    "    model_provider_party_id: str,\n",
    "    model_store_id: str,\n",
    "    features_store_id: str,\n",
    ") -> Dict[str, str | float]:\n",
    "    \"\"\"Runs blind inference on the Nillion network by executing the Nada program on the uploaded data.\n",
    "\n",
    "    Args:\n",
    "        client (nillion.NillionClient): Nillion client that runs inference.\n",
    "        cluster_id (str): Nillion cluster ID.\n",
    "        program_id (str): Program ID of Nada program.\n",
    "        model_user_party_id (str): Party ID of party that will run inference.\n",
    "        model_user_party_id (str): Party ID of party that will provide model params.\n",
    "        model_store_id (str): Store ID that points to the model params in the Nillion network.\n",
    "        features_store_id (str): Store ID that points to the text features in the Nillion network.\n",
    "        precision (int): Scaling factor to convert float to ints.s\n",
    "\n",
    "    Returns:\n",
    "        Dict[str, str | float]: Resulting `compute_id` and `logit`.\n",
    "    \"\"\"\n",
    "    compute_bindings = nillion.ProgramBindings(program_id)\n",
    "    compute_bindings.add_input_party(\"User\", model_user_party_id)\n",
    "    compute_bindings.add_input_party(\"Provider\", model_provider_party_id)\n",
    "    compute_bindings.add_output_party(\"User\", model_user_party_id)\n",
    "\n",
    "    _ = await client.compute(\n",
    "        cluster_id,\n",
    "        compute_bindings,\n",
    "        [features_store_id, model_store_id],\n",
    "        nillion.Secrets({}),\n",
    "        nillion.PublicVariables({}),\n",
    "    )\n",
    "\n",
    "    while True:\n",
    "        compute_event = await client.next_compute_event()\n",
    "        if isinstance(compute_event, nillion.ComputeFinishedEvent):\n",
    "            inference_result = compute_event.result.value\n",
    "            break\n",
    "\n",
    "    sigmoid = lambda x: 1 / (1 + np.exp(-x))\n",
    "\n",
    "    quantized_logit = inference_result[\"logit_0\"]\n",
    "    logit = quantized_logit / (2 ** na.get_log_scale())\n",
    "    output_probability = sigmoid(logit)\n",
    "    return {\n",
    "        \"compute_id\": compute_event.uuid,\n",
    "        \"logit\": logit,\n",
    "        \"output_probability\": output_probability,\n",
    "    }"
   ]
  },
  {
   "cell_type": "code",
   "execution_count": 12,
   "metadata": {},
   "outputs": [
    {
     "name": "stdout",
     "output_type": "stream",
     "text": [
      "✅ Inference ran successfully!\n",
      "compute_id: dc230bb3-1a27-41c0-9236-3ee0e11f5c1a\n",
      "logit: 2.4093170166015625\n",
      "Probability of spam in Nillion: 91.753502%\n"
     ]
    }
   ],
   "source": [
    "result_inference = await run_inference(\n",
    "    client=model_user_client,\n",
    "    cluster_id=cluster_id,\n",
    "    program_id=program_id,\n",
    "    model_user_party_id=model_user_party_id,\n",
    "    model_provider_party_id=model_provider_party_id,\n",
    "    model_store_id=model_store_id,\n",
    "    features_store_id=features_store_id,\n",
    ")\n",
    "\n",
    "compute_id = result_inference[\"compute_id\"]\n",
    "logit = result_inference[\"logit\"]\n",
    "output_probability = result_inference[\"output_probability\"]\n",
    "\n",
    "print(\"✅ Inference ran successfully!\")\n",
    "print(\"compute_id:\", compute_id)\n",
    "print(\"logit:\", logit)\n",
    "\n",
    "print(\"Probability of spam in Nillion: {:.6f}%\".format(output_probability * 100))"
   ]
  },
  {
   "cell_type": "markdown",
   "metadata": {},
   "source": [
    "### Compare result to what we would have gotten in plain-text inference"
   ]
  },
  {
   "cell_type": "code",
   "execution_count": 13,
   "metadata": {},
   "outputs": [],
   "source": [
    "vectorizer: TfidfVectorizer = joblib.load(\"model/vectorizer.joblib\")\n",
    "classifier: LogisticRegression = joblib.load(\"model/classifier.joblib\")"
   ]
  },
  {
   "cell_type": "code",
   "execution_count": 14,
   "metadata": {},
   "outputs": [],
   "source": [
    "features = vectorizer.transform([INPUT_DATA]).toarray().tolist()"
   ]
  },
  {
   "cell_type": "code",
   "execution_count": 15,
   "metadata": {},
   "outputs": [],
   "source": [
    "[logit_plain_text] = classifier.decision_function(features)"
   ]
  },
  {
   "cell_type": "code",
   "execution_count": 16,
   "metadata": {},
   "outputs": [
    {
     "name": "stdout",
     "output_type": "stream",
     "text": [
      "Logit in plain text: 2.4080795630742755\n"
     ]
    }
   ],
   "source": [
    "print(\"Logit in plain text: {}\".format(logit_plain_text))"
   ]
  },
  {
   "cell_type": "code",
   "execution_count": 17,
   "metadata": {},
   "outputs": [],
   "source": [
    "[result] = classifier.predict_proba(features)\n",
    "output_probability_plain_text = result[1]"
   ]
  },
  {
   "cell_type": "code",
   "execution_count": 18,
   "metadata": {},
   "outputs": [
    {
     "name": "stdout",
     "output_type": "stream",
     "text": [
      "Probability of spam in plain text: 91.744134%\n",
      "Probability of spam in Nillion: 91.753502%\n"
     ]
    }
   ],
   "source": [
    "print(\n",
    "    \"Probability of spam in plain text: {:.6f}%\".format(\n",
    "        output_probability_plain_text * 100\n",
    "    )\n",
    ")\n",
    "print(\"Probability of spam in Nillion: {:.6f}%\".format(output_probability * 100))"
   ]
  }
 ],
 "metadata": {
  "kernelspec": {
   "display_name": "Python 3",
   "language": "python",
   "name": "python3"
  },
  "language_info": {
   "codemirror_mode": {
    "name": "ipython",
    "version": 3
   },
   "file_extension": ".py",
   "mimetype": "text/x-python",
   "name": "python",
   "nbconvert_exporter": "python",
   "pygments_lexer": "ipython3",
   "version": "3.12.2"
  }
 },
 "nbformat": 4,
 "nbformat_minor": 2
}
