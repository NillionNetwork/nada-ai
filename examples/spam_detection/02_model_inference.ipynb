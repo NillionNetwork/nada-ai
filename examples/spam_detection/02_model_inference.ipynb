{
 "cells": [
  {
   "cell_type": "markdown",
   "metadata": {},
   "source": [
    "**IMPORTANT**: Before starting this notebook make sure that the kernel of the previous notebook is shutdown or reset it's state to forget the previous `model_user` Nillion client"
   ]
  },
  {
   "cell_type": "code",
   "execution_count": 1,
   "metadata": {},
   "outputs": [],
   "source": [
    "## If problems arise with the loading of the shared library, this script can be used to load the shared library before other libraries.\n",
    "## Remember to also run on your local machine the script below:\n",
    "# bash replace_lib_version.sh\n",
    "\n",
    "import platform\n",
    "import ctypes\n",
    "\n",
    "if platform.system() == \"Linux\":\n",
    "    # Force libgomp and py_nillion_client to be loaded before other libraries consuming dynamic TLS (to avoid running out of STATIC_TLS)\n",
    "    ctypes.cdll.LoadLibrary(\"libgomp.so.1\")\n",
    "    ctypes.cdll.LoadLibrary(\n",
    "        \"/home/vscode/.local/lib/python3.12/site-packages/py_nillion_client/py_nillion_client.abi3.so\"\n",
    "    )"
   ]
  },
  {
   "cell_type": "code",
   "execution_count": 2,
   "metadata": {},
   "outputs": [
    {
     "data": {
      "text/plain": [
       "True"
      ]
     },
     "execution_count": 2,
     "metadata": {},
     "output_type": "execute_result"
    }
   ],
   "source": [
    "import os\n",
    "import sys\n",
    "\n",
    "sys.path.append(os.path.abspath(os.path.join(os.getcwd(), os.pardir)))\n",
    "\n",
    "import math\n",
    "\n",
    "import json\n",
    "import joblib\n",
    "\n",
    "from common.utils import compute, store_secret_array\n",
    "\n",
    "from dotenv import load_dotenv\n",
    "import numpy as np\n",
    "from sklearn.feature_extraction.text import TfidfVectorizer\n",
    "from sklearn.linear_model import LogisticRegression\n",
    "\n",
    "import nada_numpy as na\n",
    "import nada_numpy.client as na_client\n",
    "import py_nillion_client as nillion\n",
    "from cosmpy.aerial.client import LedgerClient\n",
    "from cosmpy.aerial.wallet import LocalWallet\n",
    "from cosmpy.crypto.keypairs import PrivateKey\n",
    "from py_nillion_client import NodeKey, UserKey\n",
    "from nillion_python_helpers import (create_nillion_client,\n",
    "                                    create_payments_config)\n",
    "\n",
    "\n",
    "home = os.getenv(\"HOME\")\n",
    "load_dotenv(f\"{home}/.config/nillion/nillion-devnet.env\")"
   ]
  },
  {
   "cell_type": "markdown",
   "metadata": {},
   "source": [
    "## Authenticate with Nillion"
   ]
  },
  {
   "cell_type": "markdown",
   "metadata": {},
   "source": [
    "To connect to the Nillion network, we need to have a user key and a node key. These serve different purposes:\n",
    "\n",
    "The `user_key` is the user's private key. The user key should never be shared publicly, as it unlocks access and permissions to secrets stored on the network.\n",
    "\n",
    "The `node_key` is the node's private key which is run locally to connect to the network."
   ]
  },
  {
   "cell_type": "code",
   "execution_count": 3,
   "metadata": {},
   "outputs": [
    {
     "data": {
      "text/plain": [
       "True"
      ]
     },
     "execution_count": 3,
     "metadata": {},
     "output_type": "execute_result"
    }
   ],
   "source": [
    "# Load all Nillion network environment variables\n",
    "assert os.getcwd().endswith(\n",
    "    \"examples/spam_detection\"\n",
    "), \"Please run this script from the examples/spam_detection directory otherwise, the rest of the tutorial may not work\"\n",
    "load_dotenv()"
   ]
  },
  {
   "cell_type": "code",
   "execution_count": 4,
   "metadata": {},
   "outputs": [],
   "source": [
    "cluster_id = os.getenv(\"NILLION_CLUSTER_ID\")\n",
    "grpc_endpoint = os.getenv(\"NILLION_NILCHAIN_GRPC\")\n",
    "chain_id = os.getenv(\"NILLION_NILCHAIN_CHAIN_ID\")\n",
    "seed = \"my_seed\"\n",
    "model_user_userkey = UserKey.from_seed((seed))\n",
    "model_user_nodekey = NodeKey.from_seed((seed))\n",
    "model_user_client = create_nillion_client(model_user_userkey, model_user_nodekey)\n",
    "model_user_party_id = model_user_client.party_id\n",
    "model_user_user_id = model_user_client.user_id"
   ]
  },
  {
   "cell_type": "code",
   "execution_count": 5,
   "metadata": {},
   "outputs": [],
   "source": [
    "payments_config = create_payments_config(chain_id, grpc_endpoint)\n",
    "payments_client = LedgerClient(payments_config)\n",
    "payments_wallet = LocalWallet(\n",
    "    PrivateKey(bytes.fromhex(os.getenv(\"NILLION_NILCHAIN_PRIVATE_KEY_0\"))),\n",
    "    prefix=\"nillion\",\n",
    ")"
   ]
  },
  {
   "cell_type": "code",
   "execution_count": 6,
   "metadata": {},
   "outputs": [
    {
     "name": "stdout",
     "output_type": "stream",
     "text": [
      "Program ID:  3rgqxWd47e171EUwe4RXP9hm45tmoXfuF8fC52S7jcFoQTnU8wPiL7hqWzyV1muak6bEg7iWhudwg4t2pM9XnXcp/spam_detection\n",
      "Model Store ID:  1a67209f-359e-46fa-9451-6dd559c27ca1\n",
      "Model Provider Party ID:  12D3KooWJHrXiK2JTCjJxwCCktJPSYsUsz2WHEBSB5iZtqGiZ8Qm\n"
     ]
    }
   ],
   "source": [
    "# This information was provided by the model provider\n",
    "with open(\"target/tmp.json\", \"r\") as provider_variables_file:\n",
    "    provider_variables = json.load(provider_variables_file)\n",
    "\n",
    "program_id = provider_variables[\"program_id\"]\n",
    "model_store_id = provider_variables[\"model_store_id\"]\n",
    "model_provider_party_id = provider_variables[\"model_provider_party_id\"]\n",
    "\n",
    "print(\"Program ID: \", program_id)\n",
    "print(\"Model Store ID: \", model_store_id)\n",
    "print(\"Model Provider Party ID: \", model_provider_party_id)"
   ]
  },
  {
   "cell_type": "markdown",
   "metadata": {},
   "source": [
    "## Model user flow"
   ]
  },
  {
   "cell_type": "markdown",
   "metadata": {},
   "source": [
    "### Convert text to features"
   ]
  },
  {
   "cell_type": "code",
   "execution_count": 7,
   "metadata": {},
   "outputs": [],
   "source": [
    "vectorizer: TfidfVectorizer = joblib.load(\"model/vectorizer.joblib\")"
   ]
  },
  {
   "cell_type": "code",
   "execution_count": 8,
   "metadata": {},
   "outputs": [],
   "source": [
    "# Let's find out whether it's a billion dollar opportunity or pyramid scheme\n",
    "INPUT_DATA = \"Free entry in 2 a wkly comp to win exclusive prizes! Text WIN to 87121 to receive entry question(std txt rate)T&C's apply 08452810075over18's\"\n",
    "\n",
    "[features] = vectorizer.transform([INPUT_DATA]).toarray().tolist()"
   ]
  },
  {
   "cell_type": "code",
   "execution_count": 9,
   "metadata": {},
   "outputs": [],
   "source": [
    "features = np.array(features).astype(float)"
   ]
  },
  {
   "cell_type": "markdown",
   "metadata": {},
   "source": [
    "### Send features to Nillion"
   ]
  },
  {
   "cell_type": "code",
   "execution_count": 10,
   "metadata": {},
   "outputs": [
    {
     "name": "stdout",
     "output_type": "stream",
     "text": [
      "Getting quote for operation...\n",
      "Quote cost is 48002 unil\n",
      "Submitting payment receipt 48002 unil, tx hash ADC46091FE92101AC9740304E5C2DF883C90ACF66EB155EAEFE23D4438479A4A\n"
     ]
    }
   ],
   "source": [
    "permissions = nillion.Permissions.default_for_user(model_user_client.user_id)\n",
    "permissions.add_compute_permissions({model_user_client.user_id: {program_id}})\n",
    "\n",
    "images_store_id = await store_secret_array(\n",
    "    model_user_client,\n",
    "    payments_wallet,\n",
    "    payments_client,\n",
    "    cluster_id,\n",
    "    features,\n",
    "    \"my_input\",\n",
    "    na.SecretRational,\n",
    "    1,\n",
    "    permissions,\n",
    ")"
   ]
  },
  {
   "cell_type": "markdown",
   "metadata": {},
   "source": [
    "### Run inference & check result"
   ]
  },
  {
   "cell_type": "code",
   "execution_count": 11,
   "metadata": {},
   "outputs": [],
   "source": [
    "compute_bindings = nillion.ProgramBindings(program_id)\n",
    "\n",
    "compute_bindings.add_input_party(\"Provider\", model_provider_party_id)\n",
    "compute_bindings.add_input_party(\"User\", model_user_party_id)\n",
    "compute_bindings.add_output_party(\"User\", model_user_party_id)"
   ]
  },
  {
   "cell_type": "code",
   "execution_count": 12,
   "metadata": {},
   "outputs": [
    {
     "name": "stdout",
     "output_type": "stream",
     "text": [
      "Getting quote for operation...\n",
      "Quote cost is 1004 unil\n",
      "Submitting payment receipt 1004 unil, tx hash 3B0F0A512E3459077F4B0C76C51573FE6E0123695BA5350C88C82B74D4ED7799\n",
      "✅ Compute complete for compute_id d256e8bb-b85a-428f-b168-6359cfaf3ec8\n",
      "🖥️  The result is {'logit_0': 157897}\n",
      "Computed logit is 2.4093170166015625\n",
      "Which corresponds to probability 0.9175350190040187\n"
     ]
    }
   ],
   "source": [
    "result = await compute(\n",
    "    model_user_client,\n",
    "    payments_wallet,\n",
    "    payments_client,\n",
    "    program_id,\n",
    "    cluster_id,\n",
    "    compute_bindings,\n",
    "    [model_store_id, images_store_id],\n",
    "    nillion.NadaValues({}),\n",
    "    verbose=True,\n",
    ")\n",
    "\n",
    "logit = na_client.float_from_rational(result[\"logit_0\"])\n",
    "print(\"Computed logit is\", logit)\n",
    "\n",
    "def sigmoid(x):\n",
    "  return 1 / (1 + math.exp(-x))\n",
    "\n",
    "output_probability = sigmoid(logit)\n",
    "\n",
    "print(\"Which corresponds to probability\", output_probability)"
   ]
  },
  {
   "cell_type": "markdown",
   "metadata": {},
   "source": [
    "### Compare result to what we would have gotten in plain-text inference"
   ]
  },
  {
   "cell_type": "code",
   "execution_count": 13,
   "metadata": {},
   "outputs": [],
   "source": [
    "vectorizer: TfidfVectorizer = joblib.load(\"model/vectorizer.joblib\")\n",
    "classifier: LogisticRegression = joblib.load(\"model/classifier.joblib\")"
   ]
  },
  {
   "cell_type": "code",
   "execution_count": 14,
   "metadata": {},
   "outputs": [],
   "source": [
    "features = vectorizer.transform([INPUT_DATA]).toarray().tolist()"
   ]
  },
  {
   "cell_type": "code",
   "execution_count": 15,
   "metadata": {},
   "outputs": [],
   "source": [
    "[logit_plain_text] = classifier.decision_function(features)"
   ]
  },
  {
   "cell_type": "code",
   "execution_count": 16,
   "metadata": {},
   "outputs": [
    {
     "name": "stdout",
     "output_type": "stream",
     "text": [
      "Logit in plain text: 2.408079563074276\n"
     ]
    }
   ],
   "source": [
    "print(\"Logit in plain text: {}\".format(logit_plain_text))"
   ]
  },
  {
   "cell_type": "code",
   "execution_count": 17,
   "metadata": {},
   "outputs": [],
   "source": [
    "[result] = classifier.predict_proba(features)\n",
    "output_probability_plain_text = result[1]"
   ]
  },
  {
   "cell_type": "code",
   "execution_count": 18,
   "metadata": {},
   "outputs": [
    {
     "name": "stdout",
     "output_type": "stream",
     "text": [
      "Probability of spam in plain text: 91.744134%\n",
      "Probability of spam in Nillion: 91.753502%\n"
     ]
    }
   ],
   "source": [
    "print(\n",
    "    \"Probability of spam in plain text: {:.6f}%\".format(\n",
    "        output_probability_plain_text * 100\n",
    "    )\n",
    ")\n",
    "print(\"Probability of spam in Nillion: {:.6f}%\".format(output_probability * 100))"
   ]
  }
 ],
 "metadata": {
  "kernelspec": {
   "display_name": "Python 3",
   "language": "python",
   "name": "python3"
  },
  "language_info": {
   "codemirror_mode": {
    "name": "ipython",
    "version": 3
   },
   "file_extension": ".py",
   "mimetype": "text/x-python",
   "name": "python",
   "nbconvert_exporter": "python",
   "pygments_lexer": "ipython3",
   "version": "3.12.2"
  }
 },
 "nbformat": 4,
 "nbformat_minor": 2
}
