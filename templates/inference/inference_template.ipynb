{
 "cells": [
  {
   "cell_type": "markdown",
   "metadata": {},
   "source": [
    "# Nada AI Inference Template"
   ]
  },
  {
   "cell_type": "markdown",
   "metadata": {},
   "source": [
    "This notebook provides a generic template for serving common AI inference use cases on the Nillion network in just a few lines of code.\n",
    "\n",
    "We are really excited for developers to build with our SDK, if you have any questions please do reach out to us on:\n",
    "\n",
    "[![Discord](https://img.shields.io/badge/Discord-nillionnetwork-%235865F2?logo=discord)](https://discord.gg/nillionnetwork)\n",
    "[![GitHub Discussions](https://img.shields.io/badge/GitHub_Discussions-NillionNetwork-%23181717?logo=github)](https://github.com/orgs/NillionNetwork/discussions)"
   ]
  },
  {
   "cell_type": "code",
   "execution_count": 1,
   "metadata": {},
   "outputs": [],
   "source": [
    "%%capture\n",
    "!pip install nada-ai~=0.3.0"
   ]
  },
  {
   "cell_type": "code",
   "execution_count": 2,
   "metadata": {},
   "outputs": [],
   "source": [
    "import os\n",
    "import sys\n",
    "import uuid\n",
    "\n",
    "from inference_pipeline import pipeline"
   ]
  },
  {
   "cell_type": "code",
   "execution_count": 3,
   "metadata": {},
   "outputs": [],
   "source": [
    "# Configure telemetry settings\n",
    "enable_telemetry = True  #@param {type:\"boolean\"}\n",
    "my_identifier = \"your-telemetry-identifier\"  #@param {type:\"string\"}"
   ]
  },
  {
   "cell_type": "code",
   "execution_count": null,
   "metadata": {},
   "outputs": [],
   "source": [
    "# Install the nilup tool and then use that to install the Nillion SDK\n",
    "!curl https://nilup.nilogy.xyz/install.sh | bash\n",
    "\n",
    "# Update Path if ran in colab\n",
    "if \"google.colab\" in sys.modules:\n",
    "    os.environ[\"PATH\"] += \":/root/.nilup/bin\"\n",
    "    os.environ[\"PATH\"] += \":/root/.nilup/sdks/latest/\"\n",
    "\n",
    "# Set telemetry if opted in\n",
    "if enable_telemetry:\n",
    "    identifier = f\"nada-ai-inference-{str(uuid.uuid4())}-{my_identifier}\"\n",
    "    !echo 'yes' | nilup instrumentation enable --wallet {identifier}\n",
    "\n",
    "# Install the lastest SDK and initialise it\n",
    "!nilup init\n",
    "!nilup install 0.4.0\n",
    "!nilup use 0.4.0"
   ]
  },
  {
   "cell_type": "markdown",
   "metadata": {},
   "source": [
    "**Available models to choose from**\n",
    "\n",
    "| model_id | model type | example use case |\n",
    "|----------|------------|------------------|\n",
    "| `conv-net` |  Image Classification | Medical image classification |\n",
    "| `classification-single` |  Structured Data Classification (single-class) | Fraud detection |\n",
    "| `classification-multi` |  Structured Data Classification (multi-class) | Classification of medical records |\n",
    "| `regression` |  Structured Data Regression | Financial predictions |\n"
   ]
  },
  {
   "cell_type": "code",
   "execution_count": null,
   "metadata": {},
   "outputs": [],
   "source": [
    "model_id = \"<PICK YOUR MODEL ID FROM THE LIST ABOVE>\"\n",
    "\n",
    "runner = pipeline(model_id)"
   ]
  },
  {
   "cell_type": "code",
   "execution_count": null,
   "metadata": {},
   "outputs": [],
   "source": [
    "dataset = ...  # your training data here"
   ]
  },
  {
   "cell_type": "code",
   "execution_count": null,
   "metadata": {},
   "outputs": [],
   "source": [
    "runner.train(dataset)"
   ]
  },
  {
   "cell_type": "code",
   "execution_count": null,
   "metadata": {},
   "outputs": [],
   "source": [
    "inference_data = ...  # your inference data here"
   ]
  },
  {
   "cell_type": "code",
   "execution_count": null,
   "metadata": {},
   "outputs": [],
   "source": [
    "runner.run(inference_data)"
   ]
  }
 ],
 "metadata": {
  "kernelspec": {
   "display_name": "venv",
   "language": "python",
   "name": "python3"
  },
  "language_info": {
   "codemirror_mode": {
    "name": "ipython",
    "version": 3
   },
   "file_extension": ".py",
   "mimetype": "text/x-python",
   "name": "python",
   "nbconvert_exporter": "python",
   "pygments_lexer": "ipython3",
   "version": "3.12.2"
  }
 },
 "nbformat": 4,
 "nbformat_minor": 2
}
